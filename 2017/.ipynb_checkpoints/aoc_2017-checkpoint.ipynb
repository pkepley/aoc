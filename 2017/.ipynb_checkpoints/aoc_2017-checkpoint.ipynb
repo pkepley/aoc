{
 "cells": [
  {
   "cell_type": "markdown",
   "metadata": {},
   "source": [
    "# Advent of Code - 2017\n",
    "\n",
    "Inspired by [people-who-know-what-they-are-doing](https://nbviewer.jupyter.org/url/norvig.com/ipython/Advent%20of%20Code.ipynb), I decided to do the [Advent of Code](http://adventofcode.com/2017), and to do it in a Jupyter Notebook.\n",
    "\n",
    "I'd say there's about a 50/50 chance that I finish this... (:"
   ]
  },
  {
   "cell_type": "markdown",
   "metadata": {},
   "source": [
    "## [Day 1](http://adventofcode.com/2017/day/1): Inverse Captcha (part 1)\n",
    "The captcha requires you to review a sequence of digits (your puzzle input) and find the sum of all digits that match the next digit in the list. The list is circular, so the digit after the last digit is the first digit in the list.\n",
    "\n",
    "For example:\n",
    "\n",
    "- 1122 produces a sum of 3 (1 + 2) because the first digit (1) matches the second digit and the third digit (2) matches the fourth digit.\n",
    "- 1111 produces 4 because each digit (all 1) matches the next.\n",
    "- 1234 produces 0 because no digit matches the next.\n",
    "- 91212129 produces 9 because the only digit that matches the next one is the last digit, 9.\n"
   ]
  },
  {
   "cell_type": "code",
   "execution_count": 1,
   "metadata": {
    "collapsed": true
   },
   "outputs": [],
   "source": [
    "f = open('./inputs/input1', 'r')\n",
    "input1 = list(f)[0]\n",
    "f.close()"
   ]
  },
  {
   "cell_type": "code",
   "execution_count": 2,
   "metadata": {
    "collapsed": false
   },
   "outputs": [],
   "source": [
    "def digit_str_to_list(s):\n",
    "    l = list(s.strip('\\n'))\n",
    "    l = map(int, l)    \n",
    "    return l\n",
    "\n",
    "def circ_sum_adj_reps(s):\n",
    "    l = digit_str_to_list(s)\n",
    "    adj_rep_sum = 0\n",
    "    last = l[-1]\n",
    "    for curr in l:\n",
    "        if last == curr:\n",
    "            adj_rep_sum += last\n",
    "        last = curr\n",
    "    return adj_rep_sum"
   ]
  },
  {
   "cell_type": "code",
   "execution_count": 3,
   "metadata": {
    "collapsed": false
   },
   "outputs": [],
   "source": [
    "# Test cases\n",
    "assert (3 == circ_sum_adj_reps('1122'))\n",
    "assert (4 == circ_sum_adj_reps('1111'))\n",
    "assert (0 == circ_sum_adj_reps('1234'))\n",
    "assert (9 == circ_sum_adj_reps('91212129'))"
   ]
  },
  {
   "cell_type": "code",
   "execution_count": 4,
   "metadata": {
    "collapsed": false
   },
   "outputs": [
    {
     "name": "stdout",
     "output_type": "stream",
     "text": [
      "1216\n"
     ]
    }
   ],
   "source": [
    "print circ_sum_adj_reps(input1)"
   ]
  },
  {
   "cell_type": "markdown",
   "metadata": {},
   "source": [
    "## [Day 1](http://adventofcode.com/2017/day/1): Inverse Captcha (part 2)\n",
    "Now, instead of considering the next digit, it wants you to consider the digit halfway around the circular list. That is, if your list contains 10 items, only include a digit in your sum if the digit 10/2 = 5 steps forward matches it. Fortunately, your list has an even number of elements.\n",
    "\n",
    "For example:\n",
    "\n",
    "- 1212 produces 6: the list contains 4 items, and all four digits match the digit 2 items ahead.\n",
    "- 1221 produces 0, because every comparison is between a 1 and a 2.\n",
    "- 123425 produces 4, because both 2s match each other, but no other digit has a match.\n",
    "- 123123 produces 12.\n",
    "- 12131415 produces 4.\n"
   ]
  },
  {
   "cell_type": "code",
   "execution_count": 5,
   "metadata": {
    "collapsed": true
   },
   "outputs": [],
   "source": [
    "def circ_sum_hlfwy_reps(s):\n",
    "    l = digit_str_to_list(s)\n",
    "    hlfwy_rep_sum = 0\n",
    "\n",
    "    n = len(l)\n",
    "    for i in range(n):\n",
    "        curr_elt = l[i]\n",
    "        hlfwy_adj_elt = l[ (i + n/2) % n]\n",
    "        \n",
    "        if curr_elt == hlfwy_adj_elt:\n",
    "            hlfwy_rep_sum += curr_elt\n",
    "            \n",
    "    return hlfwy_rep_sum"
   ]
  },
  {
   "cell_type": "code",
   "execution_count": 6,
   "metadata": {
    "collapsed": false
   },
   "outputs": [],
   "source": [
    "# Test cases\n",
    "assert( 6 == circ_sum_hlfwy_reps('1212'))\n",
    "assert( 0 == circ_sum_hlfwy_reps('1221'))\n",
    "assert( 0 == circ_sum_hlfwy_reps('1221'))\n",
    "assert( 4 == circ_sum_hlfwy_reps('123425'))\n",
    "assert( 12 == circ_sum_hlfwy_reps('123123'))\n",
    "assert( 4 == circ_sum_hlfwy_reps('12131415'))"
   ]
  },
  {
   "cell_type": "code",
   "execution_count": 7,
   "metadata": {
    "collapsed": false
   },
   "outputs": [
    {
     "name": "stdout",
     "output_type": "stream",
     "text": [
      "1072\n"
     ]
    }
   ],
   "source": [
    "print circ_sum_hlfwy_reps(input1)"
   ]
  },
  {
   "cell_type": "markdown",
   "metadata": {},
   "source": [
    "## [Day 2](http://adventofcode.com/2017/day/2): Corruption Checksum (part 1)\n",
    "\n",
    "As you walk through the door, a glowing humanoid shape yells in your direction. \"You there! Your state appears to be idle. Come help us repair the corruption in this spreadsheet - if we take another millisecond, we'll have to display an hourglass cursor!\"\n",
    "\n",
    "The spreadsheet consists of rows of apparently-random numbers. To make sure the recovery process is on the right track, they need you to calculate the spreadsheet's checksum. For each row, determine the difference between the largest value and the smallest value; the checksum is the sum of all of these differences.\n",
    "\n",
    "For example, given the following spreadsheet:\n",
    "\n",
    "$$ \n",
    "\\begin{array}{|c|c|c|c|}\n",
    "   \\hline 5 & 1 & 9 & 5 \\\\\n",
    "   \\hline 7 & 5 & 3 &   \\\\\n",
    "   \\hline 2 & 4 & 6 & 8 \\\\\n",
    "   \\hline\n",
    "\\end{array}\n",
    "$$\n",
    "\n",
    "- The first row's largest and smallest values are 9 and 1, and their difference is 8.\n",
    "- The second row's largest and smallest values are 7 and 3, and their difference is 4.\n",
    "- The third row's difference is 6.\n",
    "\n",
    "In this example, the spreadsheet's checksum would be 8 + 4 + 6 = 18.\n",
    "\n",
    "What is the checksum for the spreadsheet in your puzzle input?\n"
   ]
  },
  {
   "cell_type": "code",
   "execution_count": 8,
   "metadata": {
    "collapsed": false
   },
   "outputs": [],
   "source": [
    "f = open('./inputs/input2', 'r')\n",
    "input2 = list(f)\n",
    "input2 = map(lambda x: x.strip('\\n').split('\\t'), input2)\n",
    "input2 = map(lambda x: map(int, x), input2)\n",
    "f.close()"
   ]
  },
  {
   "cell_type": "code",
   "execution_count": 9,
   "metadata": {
    "collapsed": false
   },
   "outputs": [],
   "source": [
    "def check_sheet(sheet):\n",
    "    sheet_checksum = 0\n",
    "    for row in sheet:\n",
    "        sheet_checksum += (max(row) - min(row))\n",
    "    return sheet_checksum"
   ]
  },
  {
   "cell_type": "code",
   "execution_count": 10,
   "metadata": {
    "collapsed": false
   },
   "outputs": [],
   "source": [
    "assert( 18 == check_sheet([[5,1,9,5], [7,5,3], [2,4,6,8]]))"
   ]
  },
  {
   "cell_type": "code",
   "execution_count": 11,
   "metadata": {
    "collapsed": false
   },
   "outputs": [
    {
     "name": "stdout",
     "output_type": "stream",
     "text": [
      "58975\n"
     ]
    }
   ],
   "source": [
    "print check_sheet(input2)"
   ]
  },
  {
   "cell_type": "markdown",
   "metadata": {},
   "source": [
    "## [Day 2](http://adventofcode.com/2017/day/2): Corruption Checksum (part 2)\n",
    "\n",
    "\"Based on what we're seeing, it looks like all the User wanted is some information about the evenly divisible values in the spreadsheet. Unfortunately, none of us are equipped for that kind of calculation - most of us specialize in bitwise operations.\"\n",
    "\n",
    "It sounds like the goal is to find the only two numbers in each row where one evenly divides the other - that is, where the result of the division operation is a whole number. They would like you to find those numbers on each line, divide them, and add up each line's result.\n",
    "\n",
    "For example, given the following spreadsheet:\n",
    "\n",
    "$$\n",
    "\\begin{array}{|c|c|c|c|}\n",
    "\\hline 5 & 9 & 2 & 8  \\\\ \n",
    "\\hline 9 & 4 & 7 & 3  \\\\ \n",
    "\\hline 3 & 8 & 6 & 5  \\\\ \n",
    "\\hline\n",
    "\\end{array}\n",
    "$$\n",
    "\n",
    "- In the first row, the only two numbers that evenly divide are 8 and 2; the result of this division is 4.\n",
    "- In the second row, the two numbers are 9 and 3; the result is 3.\n",
    "- In the third row, the result is 2.\n",
    "\n",
    "In this example, the sum of the results would be 4 + 3 + 2 = 9.\n",
    "\n",
    "What is the sum of each row's result in your puzzle input?"
   ]
  },
  {
   "cell_type": "code",
   "execution_count": 12,
   "metadata": {
    "collapsed": false
   },
   "outputs": [],
   "source": [
    "def find_unique_divible_pair(l):\n",
    "    n = len(l)\n",
    "    ls = sorted(l)\n",
    "    for i in range(n):\n",
    "        for j in range(i+1,n):\n",
    "            if (ls[j] % ls[i] == 0):\n",
    "                break\n",
    "        else:\n",
    "            continue\n",
    "        break\n",
    "    return ls[i], ls[j]\n",
    "\n",
    "# Test the divisible pair function\n",
    "assert ( (2,8) == find_unique_divible_pair([5,9,2,8]))\n",
    "assert ( (3,9) == find_unique_divible_pair([9,4,7,3]))\n",
    "assert ( (3,6) == find_unique_divible_pair([3,8,6,5]))"
   ]
  },
  {
   "cell_type": "code",
   "execution_count": 13,
   "metadata": {
    "collapsed": false
   },
   "outputs": [],
   "source": [
    "def sheet_pair_sum(sheet):\n",
    "    sheet_sum = 0\n",
    "    for row in sheet:\n",
    "        d1, d2 = find_unique_divible_pair(row)\n",
    "        sheet_sum += (d2/d1)\n",
    "    return sheet_sum\n",
    "\n",
    "# Test the sheet pair sum function\n",
    "assert( 9 == sheet_pair_sum([[5,9,2,8], [9,4,7,3], [3,8,6,5]]))"
   ]
  },
  {
   "cell_type": "code",
   "execution_count": 14,
   "metadata": {
    "collapsed": false
   },
   "outputs": [
    {
     "name": "stdout",
     "output_type": "stream",
     "text": [
      "308\n"
     ]
    }
   ],
   "source": [
    "print sheet_pair_sum(input2)"
   ]
  },
  {
   "cell_type": "markdown",
   "metadata": {},
   "source": [
    "## Day 3"
   ]
  },
  {
   "cell_type": "code",
   "execution_count": null,
   "metadata": {
    "collapsed": true
   },
   "outputs": [],
   "source": []
  }
 ],
 "metadata": {
  "anaconda-cloud": {},
  "kernelspec": {
   "display_name": "Python [default]",
   "language": "python",
   "name": "python2"
  },
  "language_info": {
   "codemirror_mode": {
    "name": "ipython",
    "version": 2
   },
   "file_extension": ".py",
   "mimetype": "text/x-python",
   "name": "python",
   "nbconvert_exporter": "python",
   "pygments_lexer": "ipython2",
   "version": "2.7.12"
  }
 },
 "nbformat": 4,
 "nbformat_minor": 1
}
