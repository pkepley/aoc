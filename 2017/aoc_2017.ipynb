{
 "cells": [
  {
   "cell_type": "markdown",
   "metadata": {},
   "source": [
    "# Advent of Code - 2017\n",
    "\n",
    "Inspired by [people-who-know-what-they-are-doing](https://nbviewer.jupyter.org/url/norvig.com/ipython/Advent%20of%20Code.ipynb), I decided to do the [Advent of Code](http://adventofcode.com/2017), and to do it in a Jupyter Notebook.\n",
    "\n",
    "I'd say there's about a 50/50 chance that I finish this... (:"
   ]
  },
  {
   "cell_type": "markdown",
   "metadata": {},
   "source": [
    "## [Day 1](http://adventofcode.com/2017/day/1): Inverse Captcha (part 1)\n",
    "The captcha requires you to review a sequence of digits (your puzzle input) and find the sum of all digits that match the next digit in the list. The list is circular, so the digit after the last digit is the first digit in the list.\n",
    "\n",
    "For example:\n",
    "\n",
    "- 1122 produces a sum of 3 (1 + 2) because the first digit (1) matches the second digit and the third digit (2) matches the fourth digit.\n",
    "- 1111 produces 4 because each digit (all 1) matches the next.\n",
    "- 1234 produces 0 because no digit matches the next.\n",
    "- 91212129 produces 9 because the only digit that matches the next one is the last digit, 9.\n"
   ]
  },
  {
   "cell_type": "code",
   "execution_count": 1,
   "metadata": {
    "collapsed": true
   },
   "outputs": [],
   "source": [
    "f = open('./inputs/input1', 'r')\n",
    "input1 = list(f)[0]\n",
    "f.close()"
   ]
  },
  {
   "cell_type": "code",
   "execution_count": 2,
   "metadata": {
    "collapsed": false
   },
   "outputs": [],
   "source": [
    "def digit_str_to_list(s):\n",
    "    l = list(s.strip('\\n'))\n",
    "    l = map(int, l)    \n",
    "    return l\n",
    "\n",
    "def circ_sum_adj_reps(s):\n",
    "    l = digit_str_to_list(s)\n",
    "    adj_rep_sum = 0\n",
    "    last = l[-1]\n",
    "    for curr in l:\n",
    "        if last == curr:\n",
    "            adj_rep_sum += last\n",
    "        last = curr\n",
    "    return adj_rep_sum"
   ]
  },
  {
   "cell_type": "code",
   "execution_count": 3,
   "metadata": {
    "collapsed": false
   },
   "outputs": [],
   "source": [
    "# Test cases\n",
    "assert (3 == circ_sum_adj_reps('1122'))\n",
    "assert (4 == circ_sum_adj_reps('1111'))\n",
    "assert (0 == circ_sum_adj_reps('1234'))\n",
    "assert (9 == circ_sum_adj_reps('91212129'))"
   ]
  },
  {
   "cell_type": "code",
   "execution_count": 4,
   "metadata": {
    "collapsed": false
   },
   "outputs": [
    {
     "name": "stdout",
     "output_type": "stream",
     "text": [
      "1216\n"
     ]
    }
   ],
   "source": [
    "print circ_sum_adj_reps(input1)"
   ]
  },
  {
   "cell_type": "markdown",
   "metadata": {},
   "source": [
    "## [Day 1](http://adventofcode.com/2017/day/1): Inverse Captcha (part 2)\n",
    "Now, instead of considering the next digit, it wants you to consider the digit halfway around the circular list. That is, if your list contains 10 items, only include a digit in your sum if the digit 10/2 = 5 steps forward matches it. Fortunately, your list has an even number of elements.\n",
    "\n",
    "For example:\n",
    "\n",
    "- 1212 produces 6: the list contains 4 items, and all four digits match the digit 2 items ahead.\n",
    "- 1221 produces 0, because every comparison is between a 1 and a 2.\n",
    "- 123425 produces 4, because both 2s match each other, but no other digit has a match.\n",
    "- 123123 produces 12.\n",
    "- 12131415 produces 4.\n"
   ]
  },
  {
   "cell_type": "code",
   "execution_count": 5,
   "metadata": {
    "collapsed": true
   },
   "outputs": [],
   "source": [
    "def circ_sum_hlfwy_reps(s):\n",
    "    l = digit_str_to_list(s)\n",
    "    hlfwy_rep_sum = 0\n",
    "\n",
    "    n = len(l)\n",
    "    for i in range(n):\n",
    "        curr_elt = l[i]\n",
    "        hlfwy_adj_elt = l[ (i + n/2) % n]\n",
    "        \n",
    "        if curr_elt == hlfwy_adj_elt:\n",
    "            hlfwy_rep_sum += curr_elt\n",
    "            \n",
    "    return hlfwy_rep_sum"
   ]
  },
  {
   "cell_type": "code",
   "execution_count": 6,
   "metadata": {
    "collapsed": false
   },
   "outputs": [],
   "source": [
    "# Test cases\n",
    "assert( 6 == circ_sum_hlfwy_reps('1212'))\n",
    "assert( 0 == circ_sum_hlfwy_reps('1221'))\n",
    "assert( 0 == circ_sum_hlfwy_reps('1221'))\n",
    "assert( 4 == circ_sum_hlfwy_reps('123425'))\n",
    "assert( 12 == circ_sum_hlfwy_reps('123123'))\n",
    "assert( 4 == circ_sum_hlfwy_reps('12131415'))"
   ]
  },
  {
   "cell_type": "code",
   "execution_count": 7,
   "metadata": {
    "collapsed": false
   },
   "outputs": [
    {
     "name": "stdout",
     "output_type": "stream",
     "text": [
      "1072\n"
     ]
    }
   ],
   "source": [
    "print circ_sum_hlfwy_reps(input1)"
   ]
  },
  {
   "cell_type": "markdown",
   "metadata": {},
   "source": [
    "## [Day 2](http://adventofcode.com/2017/day/2): Corruption Checksum (part 1)\n",
    "\n",
    "As you walk through the door, a glowing humanoid shape yells in your direction. \"You there! Your state appears to be idle. Come help us repair the corruption in this spreadsheet - if we take another millisecond, we'll have to display an hourglass cursor!\"\n",
    "\n",
    "The spreadsheet consists of rows of apparently-random numbers. To make sure the recovery process is on the right track, they need you to calculate the spreadsheet's checksum. For each row, determine the difference between the largest value and the smallest value; the checksum is the sum of all of these differences.\n",
    "\n",
    "For example, given the following spreadsheet:\n",
    "\n",
    "$$ \n",
    "\\begin{array}{|c|c|c|c|}\n",
    "   \\hline 5 & 1 & 9 & 5 \\\\\n",
    "   \\hline 7 & 5 & 3 &   \\\\\n",
    "   \\hline 2 & 4 & 6 & 8 \\\\\n",
    "   \\hline\n",
    "\\end{array}\n",
    "$$\n",
    "\n",
    "- The first row's largest and smallest values are 9 and 1, and their difference is 8.\n",
    "- The second row's largest and smallest values are 7 and 3, and their difference is 4.\n",
    "- The third row's difference is 6.\n",
    "\n",
    "In this example, the spreadsheet's checksum would be 8 + 4 + 6 = 18.\n",
    "\n",
    "What is the checksum for the spreadsheet in your puzzle input?\n"
   ]
  },
  {
   "cell_type": "code",
   "execution_count": 8,
   "metadata": {
    "collapsed": false
   },
   "outputs": [],
   "source": [
    "f = open('./inputs/input2', 'r')\n",
    "input2 = list(f)\n",
    "input2 = map(lambda x: x.strip('\\n').split('\\t'), input2)\n",
    "input2 = map(lambda x: map(int, x), input2)\n",
    "f.close()"
   ]
  },
  {
   "cell_type": "code",
   "execution_count": 9,
   "metadata": {
    "collapsed": false
   },
   "outputs": [],
   "source": [
    "def check_sheet(sheet):\n",
    "    sheet_checksum = 0\n",
    "    for row in sheet:\n",
    "        sheet_checksum += (max(row) - min(row))\n",
    "    return sheet_checksum"
   ]
  },
  {
   "cell_type": "code",
   "execution_count": 10,
   "metadata": {
    "collapsed": false
   },
   "outputs": [],
   "source": [
    "assert( 18 == check_sheet([[5,1,9,5], [7,5,3], [2,4,6,8]]))"
   ]
  },
  {
   "cell_type": "code",
   "execution_count": 11,
   "metadata": {
    "collapsed": false
   },
   "outputs": [
    {
     "name": "stdout",
     "output_type": "stream",
     "text": [
      "58975\n"
     ]
    }
   ],
   "source": [
    "print check_sheet(input2)"
   ]
  },
  {
   "cell_type": "markdown",
   "metadata": {},
   "source": [
    "## [Day 2](http://adventofcode.com/2017/day/2): Corruption Checksum (part 2)\n",
    "\n",
    "\"Based on what we're seeing, it looks like all the User wanted is some information about the evenly divisible values in the spreadsheet. Unfortunately, none of us are equipped for that kind of calculation - most of us specialize in bitwise operations.\"\n",
    "\n",
    "It sounds like the goal is to find the only two numbers in each row where one evenly divides the other - that is, where the result of the division operation is a whole number. They would like you to find those numbers on each line, divide them, and add up each line's result.\n",
    "\n",
    "For example, given the following spreadsheet:\n",
    "\n",
    "$$\n",
    "\\begin{array}{|c|c|c|c|}\n",
    "\\hline 5 & 9 & 2 & 8  \\\\ \n",
    "\\hline 9 & 4 & 7 & 3  \\\\ \n",
    "\\hline 3 & 8 & 6 & 5  \\\\ \n",
    "\\hline\n",
    "\\end{array}\n",
    "$$\n",
    "\n",
    "- In the first row, the only two numbers that evenly divide are 8 and 2; the result of this division is 4.\n",
    "- In the second row, the two numbers are 9 and 3; the result is 3.\n",
    "- In the third row, the result is 2.\n",
    "\n",
    "In this example, the sum of the results would be 4 + 3 + 2 = 9.\n",
    "\n",
    "What is the sum of each row's result in your puzzle input?"
   ]
  },
  {
   "cell_type": "code",
   "execution_count": 12,
   "metadata": {
    "collapsed": false
   },
   "outputs": [],
   "source": [
    "def find_unique_divible_pair(l):\n",
    "    n = len(l)\n",
    "    ls = sorted(l)\n",
    "    for i in range(n):\n",
    "        for j in range(i+1,n):\n",
    "            if (ls[j] % ls[i] == 0):\n",
    "                break\n",
    "        else:\n",
    "            continue\n",
    "        break\n",
    "    return ls[i], ls[j]\n",
    "\n",
    "# Test the divisible pair function\n",
    "assert ( (2,8) == find_unique_divible_pair([5,9,2,8]))\n",
    "assert ( (3,9) == find_unique_divible_pair([9,4,7,3]))\n",
    "assert ( (3,6) == find_unique_divible_pair([3,8,6,5]))"
   ]
  },
  {
   "cell_type": "code",
   "execution_count": 13,
   "metadata": {
    "collapsed": false
   },
   "outputs": [],
   "source": [
    "def sheet_pair_sum(sheet):\n",
    "    sheet_sum = 0\n",
    "    for row in sheet:\n",
    "        d1, d2 = find_unique_divible_pair(row)\n",
    "        sheet_sum += (d2/d1)\n",
    "    return sheet_sum\n",
    "\n",
    "# Test the sheet pair sum function\n",
    "assert( 9 == sheet_pair_sum([[5,9,2,8], [9,4,7,3], [3,8,6,5]]))"
   ]
  },
  {
   "cell_type": "code",
   "execution_count": 14,
   "metadata": {
    "collapsed": false
   },
   "outputs": [
    {
     "name": "stdout",
     "output_type": "stream",
     "text": [
      "308\n"
     ]
    }
   ],
   "source": [
    "print sheet_pair_sum(input2)"
   ]
  },
  {
   "cell_type": "markdown",
   "metadata": {},
   "source": [
    "## [Day 3](http://adventofcode.com/2017/day/3): Spiral Memory\n",
    "\n",
    "You come across an experimental new kind of memory stored on an infinite two-dimensional grid.\n",
    "\n",
    "Each square on the grid is allocated in a spiral pattern starting at a location marked 1 and then counting up while spiraling outward. For example, the first few squares are allocated like this:\n",
    "\n",
    "$$\n",
    "\\begin{array}{|c|c|c|c|c|}\n",
    "\\hline 17 & 16 & 15 & 14 & 13 \\\\\n",
    "\\hline 18 &  5 &  4  & 3 & 12 \\\\\n",
    "\\hline 19 &  6 &  1  & 2 & 11 \\\\\n",
    "\\hline 20 &  7 &  8  & 9 & 10 \\\\\n",
    "\\hline 21 & 22 & 23 & \\rightarrow & \\ldots \\\\\n",
    "\\hline\n",
    "\\end{array}\n",
    "$$\n",
    " \n",
    "\n",
    "While this is very space-efficient (no squares are skipped), requested data must be carried back to square 1 (the location of the only access port for this memory system) by programs that can only move up, down, left, or right. They always take the shortest path: the Manhattan Distance between the location of the data and square 1.\n",
    "\n",
    "For example:\n",
    "\n",
    "- Data from square 1 is carried 0 steps, since it's at the access port.\n",
    "- Data from square 12 is carried 3 steps, such as: down, left, left.\n",
    "- Data from square 23 is carried only 2 steps: up twice.\n",
    "- Data from square 1024 must be carried 31 steps.\n",
    "\n",
    "How many steps are required to carry the data from the square identified in your puzzle input all the way to the access port?\n",
    "\n",
    "Your puzzle input is *368078.*"
   ]
  },
  {
   "cell_type": "markdown",
   "metadata": {
    "collapsed": true
   },
   "source": [
    "### Some quick thoughts\n",
    "- First off, the problem could be thought of in terms of nested $ n \\times n $ squares."
   ]
  },
  {
   "cell_type": "code",
   "execution_count": 15,
   "metadata": {
    "collapsed": false
   },
   "outputs": [],
   "source": [
    "from numpy import sqrt, floor, ceil\n",
    "\n",
    "def prev_odd_sqrt(n):\n",
    "    if int(ceil(sqrt(n)))**2 == n:\n",
    "        n = n - 1\n",
    "    prev_sqrt = int(floor(sqrt(n)))\n",
    "\n",
    "    if prev_sqrt % 2 == 0:\n",
    "        prev_sqrt -= 1\n",
    "    \n",
    "    return prev_sqrt\n",
    "\n",
    "\n",
    "def relative_position(n):\n",
    "    if n == 1:\n",
    "        x, y = 0,0 \n",
    "    else:\n",
    "        m = prev_odd_sqrt(n) \n",
    "        m_squared = m**2\n",
    "        n_square = m/2 + 1\n",
    "        edge_len = 2 * n_square\n",
    "        ordered_edge = int(ceil((n - m_squared) / (m + 1.0)))\n",
    "        \n",
    "        if ordered_edge == 1:\n",
    "            x =   n_square\n",
    "            y = (-n_square + 1) + (n - (m_squared + 1)) \n",
    "                        \n",
    "        elif ordered_edge == 2:\n",
    "            x =  n_square - (n - (m_squared + edge_len ))            \n",
    "            y =  n_square\n",
    "                        \n",
    "        elif ordered_edge == 3:\n",
    "            x = - n_square\n",
    "            y = n_square - (n - (m_squared + 2 * edge_len))\n",
    "        \n",
    "        elif ordered_edge == 4:\n",
    "            x = - n_square + (n - (m_squared + 3 * edge_len))\n",
    "            y = - n_square\n",
    "    \n",
    "    return x, y\n",
    "\n",
    "def manhattan_spiral_distance(n):\n",
    "    row, col = relative_position(n)\n",
    "    return abs(row) + abs(col)"
   ]
  },
  {
   "cell_type": "code",
   "execution_count": 16,
   "metadata": {
    "collapsed": false
   },
   "outputs": [],
   "source": [
    "assert (manhattan_spiral_distance(1) == 0)\n",
    "assert (manhattan_spiral_distance(12) == 3)\n",
    "assert (manhattan_spiral_distance(23) == 2)\n",
    "assert (manhattan_spiral_distance(1024) == 31)"
   ]
  },
  {
   "cell_type": "code",
   "execution_count": 17,
   "metadata": {
    "collapsed": false
   },
   "outputs": [
    {
     "name": "stdout",
     "output_type": "stream",
     "text": [
      "371\n"
     ]
    }
   ],
   "source": [
    "print manhattan_spiral_distance(368078)"
   ]
  },
  {
   "cell_type": "markdown",
   "metadata": {},
   "source": [
    "## [Day 3](http://adventofcode.com/2017/day/3): Spiral Memory (part 2)\n",
    "\n",
    "As a stress test on the system, the programs here clear the grid and then store the value 1 in square 1. Then, in the same allocation order as shown above, they store the sum of the values in all adjacent squares, including diagonals.\n",
    "\n",
    "So, the first few squares' values are chosen as follows:\n",
    "\n",
    "- Square 1 starts with the value 1.\n",
    "- Square 2 has only one adjacent filled square (with value 1), so it also stores 1.\n",
    "- Square 3 has both of the above squares as neighbors and stores the sum of their values, 2.\n",
    "- Square 4 has all three of the aforementioned squares as neighbors and stores the sum of their values, 4.\n",
    "- Square 5 only has the first and fourth squares as neighbors, so it gets the value 5.\n",
    "\n",
    "Once a square is written, its value does not change. Therefore, the first few squares would receive the following values:\n",
    "\n",
    "$$\n",
    "\\begin{array}{|c|c|c|c|c|}\n",
    "\\hline 147 & 142 & 133 & 122 &  59 \\\\\n",
    "\\hline 304 &   5 &   4 &   2 &  57 \\\\\n",
    "\\hline 330 &  10 &   1 &   1 &  54 \\\\\n",
    "\\hline 351 &  11 &  23 &  25 &  26 \\\\\n",
    "\\hline 362 & 747 & 806 & \\rightarrow & \\ldots \\\\\n",
    "\\hline\n",
    "\\end{array}\n",
    "$$\n",
    "\n",
    "What is the first value written that is larger than your puzzle input?\n",
    "\n",
    "Your puzzle input is still *368078.*"
   ]
  },
  {
   "cell_type": "markdown",
   "metadata": {},
   "source": [
    "### Quick thoughts\n",
    "One way that we can do this is to figure out what cells are adjacent to any cell, and to figure out which already have been computed."
   ]
  },
  {
   "cell_type": "code",
   "execution_count": 18,
   "metadata": {
    "collapsed": false
   },
   "outputs": [],
   "source": [
    "def edge_helper(n):\n",
    "    m = prev_odd_sqrt(n) \n",
    "    m_squared = m**2\n",
    "    n_square = m/2 + 1\n",
    "    edge_len = 2 * n_square\n",
    "    ordered_edge = int(ceil((n - m_squared) / (m + 1.0)))\n",
    "    \n",
    "    return m, m_squared, n_square, edge_len, ordered_edge\n",
    "\n",
    "\n",
    "def get_first_on_edge(n_square, ordered_edge):\n",
    "    m = 2 * (n_square - 1) + 1\n",
    "    m_squared = m**2\n",
    "    edge_len = 2 * n_square\n",
    "    return m_squared + (ordered_edge - 1) * edge_len + 1\n",
    "\n",
    "def get_last_on_edge(n_square, ordered_edge):\n",
    "    m = 2 * (n_square - 1) + 1\n",
    "    m_squared = m**2\n",
    "    edge_len = 2 * n_square\n",
    "    return m_squared + ordered_edge * edge_len\n",
    "\n",
    "def is_first_on_edge(n):    \n",
    "    if n == 1:\n",
    "        first_on_edge = True\n",
    "    else:\n",
    "        m, m_squared, n_square, edge_len, ordered_edge = edge_helper(n)\n",
    "        is_first_on_edge = (n == get_first_on_edge(n_square, ordered_edge))        \n",
    "    return is_first_on_edge\n",
    "\n",
    "def is_last_on_edge(n):    \n",
    "    if n == 1:\n",
    "        last_on_edge = True\n",
    "    else:\n",
    "        m, m_squared, n_square, edge_len, ordered_edge = edge_helper(n)\n",
    "        is_last_on_edge = (n == get_last_on_edge(n_square, ordered_edge))\n",
    "    return is_last_on_edge\n",
    "\n",
    "def left(n):\n",
    "    if n == 1:\n",
    "        left = 6\n",
    "    else:\n",
    "        m, m_squared, n_square, edge_len, ordered_edge = edge_helper(n)\n",
    "        if ordered_edge == 1:\n",
    "            if is_first_on_edge(n):\n",
    "                left = m_squared\n",
    "            elif is_last_on_edge(n):\n",
    "                left = n + 1\n",
    "            else:\n",
    "                left = get_first_on_edge(n_square-1, 1) + n - get_first_on_edge(n_square, 1) - 1\n",
    "\n",
    "        elif ordered_edge == 2:\n",
    "            if not is_last_on_edge(n):\n",
    "                left = n + 1\n",
    "            else:\n",
    "                left = get_first_on_edge(n_square+1, 3)\n",
    "                \n",
    "        elif ordered_edge == 3:\n",
    "            left = get_first_on_edge(n_square+1, 3) + (n - get_first_on_edge(n_square, 3)) + 1\n",
    "\n",
    "        elif ordered_edge == 4:\n",
    "            left = n - 1\n",
    "            \n",
    "    return left\n",
    "\n",
    "def right(n):\n",
    "    if n == 1:\n",
    "        right = 2\n",
    "    else:\n",
    "        m, m_squared, n_square, edge_len, ordered_edge = edge_helper(n)\n",
    "        if ordered_edge == 1:\n",
    "            right = get_first_on_edge(n_square+1, 1) + (n - get_first_on_edge(n_square, 1)) + 1\n",
    "\n",
    "        elif ordered_edge == 2:\n",
    "            right = n - 1\n",
    "                \n",
    "        elif ordered_edge == 3:\n",
    "            if not is_last_on_edge(n):\n",
    "                right = get_last_on_edge(n_square-1, 2) + (n - get_first_on_edge(n_square, 3))\n",
    "            else:\n",
    "                right = n + 1\n",
    "\n",
    "        elif ordered_edge == 4:\n",
    "            right = n + 1\n",
    "            \n",
    "    return right\n",
    "\n",
    "def up(n):\n",
    "    if n == 1:\n",
    "        up = 4\n",
    "    else:\n",
    "        m, m_squared, n_square, edge_len, ordered_edge = edge_helper(n)\n",
    "        if ordered_edge == 1:\n",
    "            if not is_last_on_edge(n):\n",
    "                up = n + 1\n",
    "            else:\n",
    "                up = get_first_on_edge(n_square + 1, 2)\n",
    "        elif ordered_edge == 2:\n",
    "            up = get_first_on_edge(n_square + 1, 2) + (n - get_first_on_edge(n_square, 2)) + 1\n",
    "        elif ordered_edge == 3:\n",
    "            up = n -1\n",
    "        elif ordered_edge == 4:\n",
    "            up = get_last_on_edge(n_square - 1, 3) + (n - get_first_on_edge(n_square, 4))\n",
    "            \n",
    "    return up\n",
    "\n",
    "def down(n):\n",
    "    if n == 1:\n",
    "        down = 8\n",
    "    else:\n",
    "        m, m_squared, n_square, edge_len, ordered_edge = edge_helper(n)\n",
    "        if ordered_edge == 1:\n",
    "            if is_first_on_edge(n):\n",
    "                down = get_last_on_edge(n_square, 4)\n",
    "            else:\n",
    "                down = n -1\n",
    "        elif ordered_edge == 2:\n",
    "            if is_last_on_edge(n):\n",
    "                down = n + 1\n",
    "            else:\n",
    "                down = get_last_on_edge(n_square - 1, 1) + (n - get_first_on_edge(n_square, 2))\n",
    "        elif ordered_edge == 3:\n",
    "            if is_last_on_edge(n):\n",
    "                down = get_first_on_edge(n_square + 1, 4)\n",
    "            else:\n",
    "                down = n + 1\n",
    "        elif ordered_edge == 4:\n",
    "            down = get_first_on_edge(n_square + 1, 4) + (n - get_first_on_edge(n_square, 4)) + 1            \n",
    "    return down\n",
    "\n",
    "def up_left(n):\n",
    "    up_left = left(up(n))\n",
    "    return up_left\n",
    "\n",
    "def down_left(n):\n",
    "    down_left = left(down(n))\n",
    "    return down_left\n",
    "\n",
    "def up_right(n):\n",
    "    up_right = right(up(n))\n",
    "    return up_right\n",
    "\n",
    "def down_right(n):\n",
    "    down_right = right(down(n))\n",
    "    return down_right\n",
    "\n",
    "def adjacent(n):\n",
    "    return [right(n), up_right(n), up(n), up_left(n), left(n), down_left(n), down(n), down_right(n)]\n",
    "\n",
    "def adjacent_below(n):\n",
    "    return [x for x in adjacent(n) if x < n]\n",
    "    "
   ]
  },
  {
   "cell_type": "code",
   "execution_count": 19,
   "metadata": {
    "collapsed": false
   },
   "outputs": [],
   "source": [
    "# Pad with 0 to index at 1 because I just want to be done with this...\n",
    "def find_first_bigger_adj_sum(input_in):\n",
    "    adjacent_sum_list = [0,1]\n",
    "    i = 2\n",
    "    while adjacent_sum_list[i - 1] < input_3 :\n",
    "        adjacent_sum_list.append(sum([adjacent_sum_list[kk] for kk in adjacent_below(i)]))\n",
    "        i += 1\n",
    "    return adjacent_sum_list[i-1]\n"
   ]
  },
  {
   "cell_type": "code",
   "execution_count": 20,
   "metadata": {
    "collapsed": false
   },
   "outputs": [
    {
     "name": "stdout",
     "output_type": "stream",
     "text": [
      "369601\n"
     ]
    }
   ],
   "source": [
    "input_3 = 368078\n",
    "print find_first_bigger_adj_sum(input_3)"
   ]
  },
  {
   "cell_type": "code",
   "execution_count": null,
   "metadata": {
    "collapsed": true
   },
   "outputs": [],
   "source": []
  }
 ],
 "metadata": {
  "anaconda-cloud": {},
  "kernelspec": {
   "display_name": "Python [default]",
   "language": "python",
   "name": "python2"
  },
  "language_info": {
   "codemirror_mode": {
    "name": "ipython",
    "version": 2
   },
   "file_extension": ".py",
   "mimetype": "text/x-python",
   "name": "python",
   "nbconvert_exporter": "python",
   "pygments_lexer": "ipython2",
   "version": "2.7.12"
  }
 },
 "nbformat": 4,
 "nbformat_minor": 1
}
