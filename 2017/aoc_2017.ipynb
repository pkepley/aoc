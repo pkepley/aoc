{
 "cells": [
  {
   "cell_type": "markdown",
   "metadata": {},
   "source": [
    "# Advent of Code - 2017\n",
    "\n",
    "Inspired by [people-who-know-what-they-are-doing](https://nbviewer.jupyter.org/url/norvig.com/ipython/Advent%20of%20Code.ipynb), I decided to do the [Advent of Code](http://adventofcode.com/2017), and to do it in a Jupyter Notebook.\n",
    "\n",
    "I'd say there's about a 50/50 chance that I finish this... (:"
   ]
  },
  {
   "cell_type": "markdown",
   "metadata": {},
   "source": [
    "## [Day 1](http://adventofcode.com/2017/day/1): Inverse Captcha (part 1)"
   ]
  },
  {
   "cell_type": "code",
   "execution_count": 1,
   "metadata": {},
   "outputs": [],
   "source": [
    "with open('./inputs/input_day_01.txt', 'r') as f:\n",
    "    input1 = list(f)[0]"
   ]
  },
  {
   "cell_type": "code",
   "execution_count": 2,
   "metadata": {},
   "outputs": [],
   "source": [
    "def digit_str_to_list(s):\n",
    "    l = list(s.strip('\\n'))\n",
    "    l = [int(e) for e in l]    \n",
    "    return l\n",
    "\n",
    "def circ_sum_adj_reps(s):\n",
    "    l = digit_str_to_list(s)\n",
    "    adj_rep_sum = 0\n",
    "    last = l[-1]\n",
    "    for curr in l:\n",
    "        if last == curr:\n",
    "            adj_rep_sum += last\n",
    "        last = curr\n",
    "    return adj_rep_sum"
   ]
  },
  {
   "cell_type": "code",
   "execution_count": 3,
   "metadata": {},
   "outputs": [],
   "source": [
    "# Test cases\n",
    "assert (3 == circ_sum_adj_reps('1122'))\n",
    "assert (4 == circ_sum_adj_reps('1111'))\n",
    "assert (0 == circ_sum_adj_reps('1234'))\n",
    "assert (9 == circ_sum_adj_reps('91212129'))"
   ]
  },
  {
   "cell_type": "code",
   "execution_count": 4,
   "metadata": {},
   "outputs": [
    {
     "name": "stdout",
     "output_type": "stream",
     "text": [
      "1216\n"
     ]
    }
   ],
   "source": [
    "print(circ_sum_adj_reps(input1))"
   ]
  },
  {
   "cell_type": "markdown",
   "metadata": {},
   "source": [
    "## [Day 1](http://adventofcode.com/2017/day/1): Inverse Captcha (part 2)"
   ]
  },
  {
   "cell_type": "code",
   "execution_count": 5,
   "metadata": {},
   "outputs": [],
   "source": [
    "def circ_sum_hlfwy_reps(s):\n",
    "    l = digit_str_to_list(s)\n",
    "    hlfwy_rep_sum = 0\n",
    "\n",
    "    n = len(l)\n",
    "    for i in range(n):\n",
    "        curr_elt = l[i]\n",
    "        hlfwy_adj_elt = l[ (i + n//2) % n]\n",
    "        \n",
    "        if curr_elt == hlfwy_adj_elt:\n",
    "            hlfwy_rep_sum += curr_elt\n",
    "            \n",
    "    return hlfwy_rep_sum"
   ]
  },
  {
   "cell_type": "code",
   "execution_count": 6,
   "metadata": {},
   "outputs": [],
   "source": [
    "# Test cases\n",
    "assert( 6 == circ_sum_hlfwy_reps('1212'))\n",
    "assert( 0 == circ_sum_hlfwy_reps('1221'))\n",
    "assert( 0 == circ_sum_hlfwy_reps('1221'))\n",
    "assert( 4 == circ_sum_hlfwy_reps('123425'))\n",
    "assert( 12 == circ_sum_hlfwy_reps('123123'))\n",
    "assert( 4 == circ_sum_hlfwy_reps('12131415'))"
   ]
  },
  {
   "cell_type": "code",
   "execution_count": 7,
   "metadata": {},
   "outputs": [
    {
     "name": "stdout",
     "output_type": "stream",
     "text": [
      "1072\n"
     ]
    }
   ],
   "source": [
    "print(circ_sum_hlfwy_reps(input1))"
   ]
  },
  {
   "cell_type": "markdown",
   "metadata": {},
   "source": [
    "## [Day 2](http://adventofcode.com/2017/day/2): Corruption Checksum (part 1)\n",
    "\n",
    "What is the checksum for the spreadsheet in your puzzle input?\n"
   ]
  },
  {
   "cell_type": "code",
   "execution_count": 8,
   "metadata": {},
   "outputs": [],
   "source": [
    "with open('./inputs/input_day_02.txt', 'r') as f:\n",
    "    input2 = list(f)\n",
    "    input2 = [x.strip('\\n').split('\\t') for x in input2]\n",
    "    input2 = [[int(e) for e in l] for l in input2]"
   ]
  },
  {
   "cell_type": "code",
   "execution_count": 9,
   "metadata": {},
   "outputs": [],
   "source": [
    "def check_sheet(sheet):\n",
    "    sheet_checksum = 0\n",
    "    for row in sheet:\n",
    "        sheet_checksum += (max(row) - min(row))\n",
    "    return sheet_checksum"
   ]
  },
  {
   "cell_type": "code",
   "execution_count": 10,
   "metadata": {},
   "outputs": [],
   "source": [
    "assert( 18 == check_sheet([[5,1,9,5], [7,5,3], [2,4,6,8]]))"
   ]
  },
  {
   "cell_type": "code",
   "execution_count": 11,
   "metadata": {},
   "outputs": [
    {
     "name": "stdout",
     "output_type": "stream",
     "text": [
      "53460\n"
     ]
    }
   ],
   "source": [
    "print(check_sheet(input2))"
   ]
  },
  {
   "cell_type": "markdown",
   "metadata": {},
   "source": [
    "## [Day 2](http://adventofcode.com/2017/day/2): Corruption Checksum (part 2)\n",
    "\n",
    "What is the sum of each row's result in your puzzle input?"
   ]
  },
  {
   "cell_type": "code",
   "execution_count": 12,
   "metadata": {},
   "outputs": [],
   "source": [
    "def find_unique_divible_pair(l):\n",
    "    n = len(l)\n",
    "    ls = sorted(l)\n",
    "    for i in range(n):\n",
    "        for j in range(i+1,n):\n",
    "            if (ls[j] % ls[i] == 0):\n",
    "                break\n",
    "        else:\n",
    "            continue\n",
    "        break\n",
    "    return ls[i], ls[j]\n",
    "\n",
    "# Test the divisible pair function\n",
    "assert ( (2,8) == find_unique_divible_pair([5,9,2,8]))\n",
    "assert ( (3,9) == find_unique_divible_pair([9,4,7,3]))\n",
    "assert ( (3,6) == find_unique_divible_pair([3,8,6,5]))"
   ]
  },
  {
   "cell_type": "code",
   "execution_count": 13,
   "metadata": {},
   "outputs": [],
   "source": [
    "def sheet_pair_sum(sheet):\n",
    "    sheet_sum = 0\n",
    "    for row in sheet:\n",
    "        d1, d2 = find_unique_divible_pair(row)\n",
    "        sheet_sum += (d2 // d1)\n",
    "    return sheet_sum\n",
    "\n",
    "# Test the sheet pair sum function\n",
    "assert( 9 == sheet_pair_sum([[5,9,2,8], [9,4,7,3], [3,8,6,5]]))"
   ]
  },
  {
   "cell_type": "code",
   "execution_count": 14,
   "metadata": {},
   "outputs": [
    {
     "name": "stdout",
     "output_type": "stream",
     "text": [
      "282\n"
     ]
    }
   ],
   "source": [
    "print(sheet_pair_sum(input2))"
   ]
  },
  {
   "cell_type": "markdown",
   "metadata": {},
   "source": [
    "## [Day 3](http://adventofcode.com/2017/day/3): Spiral Memory\n",
    "\n",
    "Your puzzle input is *361527.*"
   ]
  },
  {
   "cell_type": "markdown",
   "metadata": {
    "collapsed": true
   },
   "source": [
    "### Some quick thoughts\n",
    "- First off, the problem could be thought of in terms of nested $ n \\times n $ squares."
   ]
  },
  {
   "cell_type": "code",
   "execution_count": 15,
   "metadata": {},
   "outputs": [],
   "source": [
    "input3 = 361527"
   ]
  },
  {
   "cell_type": "code",
   "execution_count": 16,
   "metadata": {},
   "outputs": [],
   "source": [
    "from numpy import sqrt, floor, ceil\n",
    "\n",
    "def prev_odd_sqrt(n):\n",
    "    if int(ceil(sqrt(n)))**2 == n:\n",
    "        n = n - 1\n",
    "    prev_sqrt = int(floor(sqrt(n)))\n",
    "\n",
    "    if prev_sqrt % 2 == 0:\n",
    "        prev_sqrt -= 1\n",
    "    \n",
    "    return prev_sqrt\n",
    "\n",
    "\n",
    "def relative_position(n):\n",
    "    if n == 1:\n",
    "        x, y = 0,0 \n",
    "    else:\n",
    "        m = prev_odd_sqrt(n) \n",
    "        m_squared = m**2\n",
    "        n_square = m // 2 + 1\n",
    "        edge_len = 2 * n_square\n",
    "        ordered_edge = int(ceil((n - m_squared) / (m + 1.0)))\n",
    "        \n",
    "        if ordered_edge == 1:\n",
    "            x =   n_square\n",
    "            y = (-n_square + 1) + (n - (m_squared + 1)) \n",
    "                        \n",
    "        elif ordered_edge == 2:\n",
    "            x =  n_square - (n - (m_squared + edge_len ))            \n",
    "            y =  n_square\n",
    "                        \n",
    "        elif ordered_edge == 3:\n",
    "            x = - n_square\n",
    "            y = n_square - (n - (m_squared + 2 * edge_len))\n",
    "        \n",
    "        elif ordered_edge == 4:\n",
    "            x = - n_square + (n - (m_squared + 3 * edge_len))\n",
    "            y = - n_square\n",
    "    \n",
    "    return x, y\n",
    "\n",
    "def manhattan_spiral_distance(n):\n",
    "    row, col = relative_position(n)\n",
    "    return abs(row) + abs(col)"
   ]
  },
  {
   "cell_type": "code",
   "execution_count": 17,
   "metadata": {},
   "outputs": [],
   "source": [
    "assert (manhattan_spiral_distance(1) == 0)\n",
    "assert (manhattan_spiral_distance(12) == 3)\n",
    "assert (manhattan_spiral_distance(23) == 2)\n",
    "assert (manhattan_spiral_distance(1024) == 31)"
   ]
  },
  {
   "cell_type": "code",
   "execution_count": 18,
   "metadata": {},
   "outputs": [
    {
     "name": "stdout",
     "output_type": "stream",
     "text": [
      "326\n"
     ]
    }
   ],
   "source": [
    "print (manhattan_spiral_distance(input3))"
   ]
  },
  {
   "cell_type": "markdown",
   "metadata": {},
   "source": [
    "## [Day 3](http://adventofcode.com/2017/day/3): Spiral Memory (part 2)\n",
    "\n",
    "Your puzzle input is still *361527.*"
   ]
  },
  {
   "cell_type": "markdown",
   "metadata": {},
   "source": [
    "### Quick thoughts\n",
    "One way that we can do this is to figure out what cells are adjacent to any cell, and to figure out which already have been computed."
   ]
  },
  {
   "cell_type": "code",
   "execution_count": 19,
   "metadata": {},
   "outputs": [],
   "source": [
    "def edge_helper(n):\n",
    "    m = prev_odd_sqrt(n) \n",
    "    m_squared = m**2\n",
    "    n_square = m//2 + 1\n",
    "    edge_len = 2 * n_square\n",
    "    ordered_edge = int(ceil((n - m_squared) / (m + 1.0)))\n",
    "    \n",
    "    return m, m_squared, n_square, edge_len, ordered_edge\n",
    "\n",
    "def get_first_on_edge(n_square, ordered_edge):\n",
    "    m = 2 * (n_square - 1) + 1\n",
    "    m_squared = m**2\n",
    "    edge_len = 2 * n_square\n",
    "    return m_squared + (ordered_edge - 1) * edge_len + 1\n",
    "\n",
    "def get_last_on_edge(n_square, ordered_edge):\n",
    "    m = 2 * (n_square - 1) + 1\n",
    "    m_squared = m**2\n",
    "    edge_len = 2 * n_square\n",
    "    return m_squared + ordered_edge * edge_len\n",
    "\n",
    "def is_first_on_edge(n):    \n",
    "    if n == 1:\n",
    "        first_on_edge = True\n",
    "    else:\n",
    "        m, m_squared, n_square, edge_len, ordered_edge = edge_helper(n)\n",
    "        is_first_on_edge = (n == get_first_on_edge(n_square, ordered_edge))        \n",
    "    return is_first_on_edge\n",
    "\n",
    "def is_last_on_edge(n):    \n",
    "    if n == 1:\n",
    "        last_on_edge = True\n",
    "    else:\n",
    "        m, m_squared, n_square, edge_len, ordered_edge = edge_helper(n)\n",
    "        is_last_on_edge = (n == get_last_on_edge(n_square, ordered_edge))\n",
    "    return is_last_on_edge\n",
    "\n",
    "def left(n):\n",
    "    if n == 1:\n",
    "        left = 6\n",
    "    else:\n",
    "        m, m_squared, n_square, edge_len, ordered_edge = edge_helper(n)\n",
    "        if ordered_edge == 1:\n",
    "            if is_first_on_edge(n):\n",
    "                left = m_squared\n",
    "            elif is_last_on_edge(n):\n",
    "                left = n + 1\n",
    "            else:\n",
    "                left = get_first_on_edge(n_square-1, 1) + n - get_first_on_edge(n_square, 1) - 1\n",
    "\n",
    "        elif ordered_edge == 2:\n",
    "            if not is_last_on_edge(n):\n",
    "                left = n + 1\n",
    "            else:\n",
    "                left = get_first_on_edge(n_square+1, 3)\n",
    "                \n",
    "        elif ordered_edge == 3:\n",
    "            left = get_first_on_edge(n_square+1, 3) + (n - get_first_on_edge(n_square, 3)) + 1\n",
    "\n",
    "        elif ordered_edge == 4:\n",
    "            left = n - 1\n",
    "            \n",
    "    return left\n",
    "\n",
    "def right(n):\n",
    "    if n == 1:\n",
    "        right = 2\n",
    "    else:\n",
    "        m, m_squared, n_square, edge_len, ordered_edge = edge_helper(n)\n",
    "        if ordered_edge == 1:\n",
    "            right = get_first_on_edge(n_square+1, 1) + (n - get_first_on_edge(n_square, 1)) + 1\n",
    "\n",
    "        elif ordered_edge == 2:\n",
    "            right = n - 1\n",
    "                \n",
    "        elif ordered_edge == 3:\n",
    "            if not is_last_on_edge(n):\n",
    "                right = get_last_on_edge(n_square-1, 2) + (n - get_first_on_edge(n_square, 3))\n",
    "            else:\n",
    "                right = n + 1\n",
    "\n",
    "        elif ordered_edge == 4:\n",
    "            right = n + 1\n",
    "            \n",
    "    return right\n",
    "\n",
    "def up(n):\n",
    "    if n == 1:\n",
    "        up = 4\n",
    "    else:\n",
    "        m, m_squared, n_square, edge_len, ordered_edge = edge_helper(n)\n",
    "        if ordered_edge == 1:\n",
    "            if not is_last_on_edge(n):\n",
    "                up = n + 1\n",
    "            else:\n",
    "                up = get_first_on_edge(n_square + 1, 2)\n",
    "        elif ordered_edge == 2:\n",
    "            up = get_first_on_edge(n_square + 1, 2) + (n - get_first_on_edge(n_square, 2)) + 1\n",
    "        elif ordered_edge == 3:\n",
    "            up = n -1\n",
    "        elif ordered_edge == 4:\n",
    "            up = get_last_on_edge(n_square - 1, 3) + (n - get_first_on_edge(n_square, 4))\n",
    "            \n",
    "    return up\n",
    "\n",
    "def down(n):\n",
    "    if n == 1:\n",
    "        down = 8\n",
    "    else:\n",
    "        m, m_squared, n_square, edge_len, ordered_edge = edge_helper(n)\n",
    "        if ordered_edge == 1:\n",
    "            if is_first_on_edge(n):\n",
    "                down = get_last_on_edge(n_square, 4)\n",
    "            else:\n",
    "                down = n -1\n",
    "        elif ordered_edge == 2:\n",
    "            if is_last_on_edge(n):\n",
    "                down = n + 1\n",
    "            else:\n",
    "                down = get_last_on_edge(n_square - 1, 1) + (n - get_first_on_edge(n_square, 2))\n",
    "        elif ordered_edge == 3:\n",
    "            if is_last_on_edge(n):\n",
    "                down = get_first_on_edge(n_square + 1, 4)\n",
    "            else:\n",
    "                down = n + 1\n",
    "        elif ordered_edge == 4:\n",
    "            down = get_first_on_edge(n_square + 1, 4) + (n - get_first_on_edge(n_square, 4)) + 1            \n",
    "    return down\n",
    "\n",
    "def up_left(n):\n",
    "    up_left = left(up(n))\n",
    "    return up_left\n",
    "\n",
    "def down_left(n):\n",
    "    down_left = left(down(n))\n",
    "    return down_left\n",
    "\n",
    "def up_right(n):\n",
    "    up_right = right(up(n))\n",
    "    return up_right\n",
    "\n",
    "def down_right(n):\n",
    "    down_right = right(down(n))\n",
    "    return down_right\n",
    "\n",
    "def adjacent(n):\n",
    "    return [right(n), up_right(n), up(n), up_left(n), left(n), down_left(n), down(n), down_right(n)]\n",
    "\n",
    "def adjacent_below(n):\n",
    "    return [x for x in adjacent(n) if x < n]\n",
    "    "
   ]
  },
  {
   "cell_type": "code",
   "execution_count": 20,
   "metadata": {},
   "outputs": [],
   "source": [
    "# Pad with 0 to index at 1 because I just want to be done with this...\n",
    "def find_first_bigger_adj_sum(input_in):\n",
    "    adjacent_sum_list = [0,1]\n",
    "    i = 2\n",
    "    while adjacent_sum_list[i - 1] < input_in :\n",
    "        adjacent_sum_list.append(sum([adjacent_sum_list[kk] for kk in adjacent_below(i)]))\n",
    "        i += 1\n",
    "    return adjacent_sum_list[i-1]\n"
   ]
  },
  {
   "cell_type": "code",
   "execution_count": 21,
   "metadata": {},
   "outputs": [
    {
     "name": "stdout",
     "output_type": "stream",
     "text": [
      "363010\n"
     ]
    }
   ],
   "source": [
    "print (find_first_bigger_adj_sum(input3))"
   ]
  },
  {
   "cell_type": "markdown",
   "metadata": {
    "collapsed": true
   },
   "source": [
    "## [Day 4](http://adventofcode.com/2017/day/4): High-Entropy Passphrases (part 1)\n",
    "\n",
    "The system's full passphrase list is available as your puzzle input. How many passphrases are valid?"
   ]
  },
  {
   "cell_type": "code",
   "execution_count": 22,
   "metadata": {},
   "outputs": [],
   "source": [
    "with open('./inputs/input_day_04.txt', 'r') as f:\n",
    "    input4 = list(f)\n",
    "    input4 = [x.strip('\\n') for x in input4]"
   ]
  },
  {
   "cell_type": "code",
   "execution_count": 23,
   "metadata": {},
   "outputs": [],
   "source": [
    "def is_valid_passphrase(phrase):\n",
    "    phrase = phrase.split(' ')\n",
    "    return len(phrase) == len(set(phrase))\n",
    "\n",
    "def count_valid_phrases(phrase_list, phrase_validator):\n",
    "    count = 0\n",
    "    for phrase in phrase_list:\n",
    "        if phrase_validator(phrase):\n",
    "            count += 1\n",
    "    return count"
   ]
  },
  {
   "cell_type": "code",
   "execution_count": 24,
   "metadata": {},
   "outputs": [],
   "source": [
    "assert(is_valid_passphrase('aa bb cc dd ee') == True)\n",
    "assert(is_valid_passphrase('aa bb cc dd aa') == False)\n",
    "assert(is_valid_passphrase('aa bb cc dd aaa') == True)"
   ]
  },
  {
   "cell_type": "code",
   "execution_count": 25,
   "metadata": {},
   "outputs": [
    {
     "name": "stdout",
     "output_type": "stream",
     "text": [
      "325\n"
     ]
    }
   ],
   "source": [
    "print(count_valid_phrases(input4, is_valid_passphrase))"
   ]
  },
  {
   "cell_type": "markdown",
   "metadata": {},
   "source": [
    "## [Day 4](http://adventofcode.com/2017/day/4): High-Entropy Passphrases (part 2)\n",
    "\n",
    "Under this new system policy, how many passphrases are valid?"
   ]
  },
  {
   "cell_type": "code",
   "execution_count": 26,
   "metadata": {},
   "outputs": [],
   "source": [
    "def is_valid_passphrase_v2(phrase):\n",
    "    phrase = phrase.split(' ')\n",
    "    phrase = [''.join(sorted(list(word))) for word in phrase]\n",
    "    return len(phrase) == len(set(phrase))"
   ]
  },
  {
   "cell_type": "code",
   "execution_count": 27,
   "metadata": {},
   "outputs": [],
   "source": [
    "assert(True == is_valid_passphrase_v2('abcde fghij'))\n",
    "assert(False == is_valid_passphrase_v2('abcde xyz ecdab'))\n",
    "assert(True == is_valid_passphrase_v2('a ab abc abd abf abj'))\n",
    "assert(True == is_valid_passphrase_v2('iiii oiii ooii oooi oooo'))\n",
    "assert(False == is_valid_passphrase_v2('oiii ioii iioi iiio'))"
   ]
  },
  {
   "cell_type": "code",
   "execution_count": 28,
   "metadata": {},
   "outputs": [
    {
     "name": "stdout",
     "output_type": "stream",
     "text": [
      "119\n"
     ]
    }
   ],
   "source": [
    "print (count_valid_phrases(input4, is_valid_passphrase_v2))"
   ]
  },
  {
   "cell_type": "markdown",
   "metadata": {
    "collapsed": true
   },
   "source": [
    "## [Day 5](http://adventofcode.com/2017/day/5): A Maze of Twisty Trampolines, All Alike (part 1)\n",
    "\n",
    "How many steps does it take to reach the exit?"
   ]
  },
  {
   "cell_type": "code",
   "execution_count": 29,
   "metadata": {},
   "outputs": [],
   "source": [
    "with open('./inputs/input_day_05.txt','r') as f:\n",
    "    input5 = list(f)\n",
    "    input5 = [int(x.strip('\\n')) for x in input5]"
   ]
  },
  {
   "cell_type": "code",
   "execution_count": 30,
   "metadata": {},
   "outputs": [],
   "source": [
    "def maze_jump(input_instructions):\n",
    "    instruction_set = input_instructions[:]\n",
    "    n_jumps = 0\n",
    "    last_pos = 0\n",
    "    current_pos = 0\n",
    "    while ((current_pos >= 0) and (current_pos < len(instruction_set))):\n",
    "        n_jumps += 1\n",
    "        last_pos = current_pos\n",
    "        current_pos = current_pos + instruction_set[current_pos]\n",
    "        instruction_set[last_pos] = instruction_set[last_pos] + 1\n",
    "    return n_jumps        "
   ]
  },
  {
   "cell_type": "code",
   "execution_count": 31,
   "metadata": {},
   "outputs": [],
   "source": [
    "assert(5 == maze_jump([0,3,0,1,-3]))"
   ]
  },
  {
   "cell_type": "code",
   "execution_count": 32,
   "metadata": {},
   "outputs": [
    {
     "name": "stdout",
     "output_type": "stream",
     "text": [
      "375042\n"
     ]
    }
   ],
   "source": [
    "print (maze_jump(input5))"
   ]
  },
  {
   "cell_type": "markdown",
   "metadata": {},
   "source": [
    "## [Day 5](http://adventofcode.com/2017/day/5): A Maze of Twisty Trampolines, All Alike (part 2)\n",
    "\n",
    "How many steps does it now take to reach the exit?"
   ]
  },
  {
   "cell_type": "code",
   "execution_count": 33,
   "metadata": {},
   "outputs": [],
   "source": [
    "def maze_jump_v2(input_instructions):\n",
    "    instruction_set = input_instructions[:]\n",
    "    n_jumps = 0\n",
    "    last_pos = 0\n",
    "    current_pos = 0\n",
    "    while ((current_pos >= 0) and (current_pos < len(instruction_set))):\n",
    "        n_jumps += 1\n",
    "        last_pos = current_pos\n",
    "        current_pos = current_pos + instruction_set[current_pos]\n",
    "        if (instruction_set[last_pos] >= 3):\n",
    "            instruction_set[last_pos] = instruction_set[last_pos] - 1\n",
    "        else:\n",
    "            instruction_set[last_pos] = instruction_set[last_pos] + 1\n",
    "    return n_jumps        "
   ]
  },
  {
   "cell_type": "code",
   "execution_count": 34,
   "metadata": {},
   "outputs": [],
   "source": [
    "assert(10 == maze_jump_v2([0,3,0,1,-3]))"
   ]
  },
  {
   "cell_type": "code",
   "execution_count": 35,
   "metadata": {},
   "outputs": [
    {
     "name": "stdout",
     "output_type": "stream",
     "text": [
      "28707598\n",
      "CPU times: user 9.59 s, sys: 3.94 ms, total: 9.6 s\n",
      "Wall time: 9.6 s\n"
     ]
    }
   ],
   "source": [
    "%%time\n",
    "print (maze_jump_v2(input5))"
   ]
  },
  {
   "cell_type": "markdown",
   "metadata": {},
   "source": [
    "## [Day 6](http://adventofcode.com/2017/day/6): Memory Reallocation\n",
    "\n",
    "Given the initial block counts in your puzzle input, how many redistribution cycles must be completed before a configuration is produced that has been seen before?\n",
    "\n",
    "### Part 2\n",
    "\n",
    "How many cycles are in the infinite loop that arises from the configuration in your puzzle input?\n"
   ]
  },
  {
   "cell_type": "code",
   "execution_count": 36,
   "metadata": {},
   "outputs": [],
   "source": [
    "with open('./inputs/input_day_06.txt','r') as f:\n",
    "    input6 = [int(e) for e in f.read().split('\\t')]"
   ]
  },
  {
   "cell_type": "code",
   "execution_count": 37,
   "metadata": {},
   "outputs": [],
   "source": [
    "import operator\n",
    "\n",
    "def realloc_until_repeat(input_state):\n",
    "    n_banks = len(input_state)\n",
    "    n_reallocations = 0\n",
    "    observed_states = [input_state[:]]\n",
    "    current_state = input_state[:]\n",
    "    seen_before = False\n",
    "    \n",
    "    while(not seen_before):                \n",
    "        # find the biggest block\n",
    "        max_block = max(current_state)\n",
    "        idx_max_block = current_state.index(max_block)\n",
    "        \n",
    "        # remove the blocks from the biggest bank and\n",
    "        # redistribute the biggest block amongst the banks\n",
    "        current_state[idx_max_block] = 0\n",
    "        undistributed_blocks = max_block\n",
    "        idx_current = idx_max_block\n",
    "        \n",
    "        while (undistributed_blocks > 0):\n",
    "            # increment to next bank to deposit a block\n",
    "            # cycle back to 0 if we're at the last bank\n",
    "            idx_current = (idx_current + 1) % n_banks \n",
    "\n",
    "            # deposit 1 block in the current bank\n",
    "            current_state[idx_current] = current_state[idx_current] + 1\n",
    "            undistributed_blocks = undistributed_blocks - 1\n",
    "\n",
    "        # just finished a reallocation, record and update list of observed states\n",
    "        n_reallocations += 1\n",
    "        seen_before = current_state in observed_states\n",
    "        observed_states.append(current_state[:])\n",
    "\n",
    "    # which state did the repetition occur at?\n",
    "    repeated_state = current_state\n",
    "    cycles_to_repeat = observed_states.index(repeated_state)\n",
    "    repeated_cycle_length = n_reallocations - cycles_to_repeat\n",
    "    \n",
    "    return n_reallocations, cycles_to_repeat, repeated_cycle_length"
   ]
  },
  {
   "cell_type": "code",
   "execution_count": 38,
   "metadata": {},
   "outputs": [],
   "source": [
    "# part 1\n",
    "assert(5 == realloc_until_repeat([0,2,7,0])[0])\n",
    "# part 2\n",
    "assert(4 == realloc_until_repeat([0,2,7,0])[2])"
   ]
  },
  {
   "cell_type": "code",
   "execution_count": 39,
   "metadata": {},
   "outputs": [
    {
     "name": "stdout",
     "output_type": "stream",
     "text": [
      "CPU times: user 329 ms, sys: 4.02 ms, total: 333 ms\n",
      "Wall time: 335 ms\n"
     ]
    }
   ],
   "source": [
    "%%time\n",
    "n_reallocations, cycles_to_repeat, repeated_cycle_length = realloc_until_repeat(input6)"
   ]
  },
  {
   "cell_type": "code",
   "execution_count": 40,
   "metadata": {},
   "outputs": [
    {
     "name": "stdout",
     "output_type": "stream",
     "text": [
      "Day 6 Part 1: n reallocations before repetition = 4074\n",
      "Day 6 Part 2: length of repeated cycle = 2793\n"
     ]
    }
   ],
   "source": [
    "print (\"Day 6 Part 1: n reallocations before repetition = {}\".format(n_reallocations))\n",
    "print (\"Day 6 Part 2: length of repeated cycle = {}\".format(repeated_cycle_length))"
   ]
  },
  {
   "cell_type": "markdown",
   "metadata": {
    "collapsed": true
   },
   "source": [
    "## [Day 7](http://adventofcode.com/2017/day/7): Recursive Circus\n",
    "\n",
    "Before you're ready to help them, you need to make sure your information is correct. What is the name of the bottom program?"
   ]
  },
  {
   "cell_type": "code",
   "execution_count": 41,
   "metadata": {},
   "outputs": [],
   "source": [
    "with open('./inputs/input_day_07.txt','r') as f:\n",
    "    input7 = list(f)"
   ]
  },
  {
   "cell_type": "code",
   "execution_count": 42,
   "metadata": {},
   "outputs": [],
   "source": [
    "def remove_parens(string):\n",
    "    return string.replace('(','').replace(')','')\n",
    "\n",
    "def parse_instruction(instruction):\n",
    "    # tidy up the instruction, and break it into its components\n",
    "    instruction = instruction.replace('\\n','')\n",
    "    instr_list = instruction.split('->')    \n",
    "    \n",
    "    # get the program name and weight\n",
    "    program_info = instr_list[0].split( )\n",
    "    program_name = program_info[0]\n",
    "    program_weight = int(remove_parens(program_info[1]))\n",
    "\n",
    "    # get any children\n",
    "    if len(instr_list) == 2:\n",
    "        children_names = instr_list[1].replace(' ','').split(',')\n",
    "    else:\n",
    "        children_names = []\n",
    "    \n",
    "    return (program_name, program_weight, children_names)\n",
    "\n",
    "class weighted_node:\n",
    "    def __init__(self, name, weight, children_names):\n",
    "        self.name = name\n",
    "        self.weight = weight\n",
    "        self.parent = None\n",
    "        self.parent_name = ''\n",
    "        self.children_names = children_names\n",
    "        self.children = []\n",
    "        self.weight_below = 0\n",
    "    \n",
    "    def __str__(self):\n",
    "        print_str =  'name = {}\\n'.format(self.name)\n",
    "        print_str = print_str + 'weight = {}\\n'.format(self.weight)\n",
    "        print_str = print_str + 'parent = {}\\n'.format(self.parent_name)\n",
    "        print_str = print_str + 'children = {}\\n'.format(self.children_names)\n",
    "        print_str = print_str + 'weight below = {}\\n'.format(self.weight_below)\n",
    "        return print_str\n",
    "    \n",
    "    def set_parent(self, parent):\n",
    "        self.parent = parent\n",
    "        self.parent_name = parent.name\n",
    "        parent.children.append(self)\n",
    "\n",
    "    def update_weight_below(self):\n",
    "        parent = self.parent\n",
    "        while parent != None:\n",
    "            # add nodes weight to parent's weight below\n",
    "            parent.weight_below = parent.weight_below + self.weight\n",
    "            parent = parent.parent        \n",
    "    \n",
    "    def is_balanced(self):\n",
    "        if len(self.children) > 0:\n",
    "            weights_below = [child.weight + child.weight_below for child in self.children]\n",
    "            is_balanced = len(set(weights_below)) == 1\n",
    "        else:\n",
    "            is_balanced = True\n",
    "        return is_balanced\n",
    "\n",
    "class tower:\n",
    "    def __init__(self, instruction_list):\n",
    "        tower_nodes = []\n",
    "        tower_names = []\n",
    "        \n",
    "        for curr_instruction in instruction_list:        \n",
    "            # extract info from current instruction and \n",
    "            # create the current node\n",
    "            name, weight, children_names = parse_instruction(curr_instruction)        \n",
    "            curr_node = weighted_node(name, weight, children_names)\n",
    "            \n",
    "            # check if the node had a parent\n",
    "            for node in tower_nodes:\n",
    "                if name in node.children_names:\n",
    "                    curr_node.set_parent(node)\n",
    "                    break\n",
    "            else:\n",
    "                parent = None\n",
    "            \n",
    "            # check if the children are on the list\n",
    "            for child_name in children_names:\n",
    "                try:\n",
    "                    idx_child = tower_names.index(child_name) \n",
    "                    child_node = tower_nodes[idx_child]\n",
    "                    child_node.set_parent(curr_node)\n",
    "                except ValueError:\n",
    "                    pass\n",
    "        \n",
    "            # append the current node to the tower\n",
    "            tower_nodes.append(curr_node)\n",
    "            tower_names.append(name)\n",
    "        \n",
    "        # save the nodes only\n",
    "        self.tower_nodes = tower_nodes\n",
    "        self.set_weight_below()\n",
    "\n",
    "    def set_weight_below(self):\n",
    "        curr_level_nodes = [node for node in self.tower_nodes if len(node.children_names) == 0]\n",
    "        next_level_nodes = list(set([node.parent for node in curr_level_nodes if node.parent != None]))\n",
    " \n",
    "        while len(curr_level_nodes) > 1:\n",
    "            for node in curr_level_nodes:\n",
    "                node.update_weight_below()            \n",
    "            curr_level_nodes = next_level_nodes\n",
    "            next_level_nodes = list(set([node.parent for node in curr_level_nodes if node.parent != None]))\n",
    "                            \n",
    "    def find_base(self):\n",
    "        for node in self.tower_nodes:\n",
    "            if node.parent == None:\n",
    "                break\n",
    "        return node        "
   ]
  },
  {
   "cell_type": "code",
   "execution_count": 43,
   "metadata": {},
   "outputs": [],
   "source": [
    "# test on example\n",
    "instructions_str = '''pbga (66)\n",
    "xhth (57)\n",
    "ebii (61)\n",
    "havc (66)\n",
    "ktlj (57)\n",
    "fwft (72) -> ktlj, cntj, xhth\n",
    "qoyq (66)\n",
    "padx (45) -> pbga, havc, qoyq\n",
    "tknk (41) -> ugml, padx, fwft\n",
    "jptl (61)\n",
    "ugml (68) -> gyxo, ebii, jptl\n",
    "gyxo (61)\n",
    "cntj (57)'''\n",
    "instruction_list = instructions_str.split('\\n')\n",
    "\n",
    "# build tower\n",
    "tow = tower(instruction_list)\n",
    "\n",
    "# find base\n",
    "base_node = tow.find_base()\n",
    "#print base_node.name"
   ]
  },
  {
   "cell_type": "code",
   "execution_count": 44,
   "metadata": {},
   "outputs": [
    {
     "name": "stdout",
     "output_type": "stream",
     "text": [
      "qibuqqg\n"
     ]
    }
   ],
   "source": [
    "tow = tower(input7)\n",
    "base_node = tow.find_base()\n",
    "print (base_node.name)"
   ]
  },
  {
   "cell_type": "markdown",
   "metadata": {},
   "source": [
    "## [Day 7](http://adventofcode.com/2017/day/7): Part Two \n",
    "\n",
    "Given that exactly one program is the wrong weight, what would its weight need to be to balance the entire tower?"
   ]
  },
  {
   "cell_type": "code",
   "execution_count": 45,
   "metadata": {},
   "outputs": [],
   "source": [
    "def find_corrected_weight(tower):\n",
    "    unbalanced_nodes = filter( lambda node: not node.is_balanced(), tower.tower_nodes)\n",
    "    \n",
    "    # find the one unbalanced node whose children whose weigth + weight below is the same\n",
    "    # for all but one child (ie the node which has exactly two values in this set)\n",
    "    for node in unbalanced_nodes:\n",
    "        below_weights = [child.weight + child.weight_below for child in node.children]\n",
    "        distinct_below_weights = list(set(below_weights))\n",
    "        if len(distinct_below_weights) == 2:\n",
    "            break\n",
    "\n",
    "    # how much extra weight is the bad node holding?\n",
    "    max_weight = max(below_weights)\n",
    "    min_weight = min(below_weights)\n",
    "    excess_weight = max_weight - min_weight\n",
    "    \n",
    "    # select which of the children is the bad node, and calculate what it should weigh\n",
    "    idx_max_child = below_weights.index(max_weight)\n",
    "    bad_child = node.children[idx_max_child]\n",
    "    corrected_weight = bad_child.weight - excess_weight\n",
    "    \n",
    "    return corrected_weight"
   ]
  },
  {
   "cell_type": "code",
   "execution_count": 46,
   "metadata": {},
   "outputs": [
    {
     "data": {
      "text/plain": [
       "-3132"
      ]
     },
     "execution_count": 46,
     "metadata": {},
     "output_type": "execute_result"
    }
   ],
   "source": [
    "find_corrected_weight(tow)"
   ]
  },
  {
   "cell_type": "markdown",
   "metadata": {
    "collapsed": true
   },
   "source": [
    "## [Day 8](http://adventofcode.com/2017/day/8): I Heard You Like Registers \n",
    "\n",
    "### Part 1:\n",
    "\n",
    "What is the largest value in any register after completing the instructions in your puzzle input?\n",
    "\n",
    "### Part 2:\n",
    "To be safe, the CPU also needs to know the highest value held in any register during this process so that it can decide how much memory to allocate to these operations. For example, in the above instructions, the highest value ever held was 10 (in register c after the third instruction was evaluated)."
   ]
  },
  {
   "cell_type": "code",
   "execution_count": 47,
   "metadata": {},
   "outputs": [],
   "source": [
    "with open('./inputs/input_day_08.txt','r') as f:\n",
    "    input8 = [x.strip('\\n') for x in list(f)]"
   ]
  },
  {
   "cell_type": "code",
   "execution_count": 48,
   "metadata": {},
   "outputs": [],
   "source": [
    "def parse_instruction(instruction_str):\n",
    "    instruction_list = instruction_str.split(' ')\n",
    "    \n",
    "    # parse instruction for current register\n",
    "    active_register = instruction_list[0]\n",
    "    register_op = instruction_list[1]\n",
    "    register_increment = int(instruction_list[2])\n",
    "    \n",
    "    # parse the comparison\n",
    "    comparison_register = instruction_list[4]\n",
    "    comparison_op = instruction_list[5]\n",
    "    comparison_value = int(instruction_list[6])\n",
    "    \n",
    "    return (active_register, register_op, register_increment, \n",
    "            comparison_register, comparison_op, comparison_value)\n",
    "\n",
    "class Registry:\n",
    "    def __init__(self, instruction_list = None):\n",
    "        self.registers = dict()\n",
    "        self.max_register_val_seen = float('-inf')\n",
    "      \n",
    "    def perform_instruction(self, instruction_str):\n",
    "        (active_register, register_op, register_increment, \n",
    "         comparison_register, comparison_op, comparison_value) = parse_instruction(instruction_str)\n",
    "        \n",
    "        if active_register not in self.registers:\n",
    "            self.registers[active_register] = 0\n",
    "        if comparison_register not in self.registers:\n",
    "            self.registers[comparison_register] = 0\n",
    "    \n",
    "        # perform the comparison\n",
    "        comparsion_result = (\n",
    "            eval('{} {} {}'.format(self.registers[comparison_register], comparison_op, comparison_value))\n",
    "        )\n",
    "        \n",
    "        # handle the comparison result\n",
    "        if comparsion_result:\n",
    "            if register_op == 'inc':\n",
    "                self.registers[active_register] += register_increment\n",
    "            elif register_op == 'dec':\n",
    "                self.registers[active_register] -= register_increment\n",
    "\n",
    "        # check to see if the current value is the biggest seen\n",
    "        active_register_value = self.registers[active_register]\n",
    "        if active_register_value > self.max_register_val_seen:\n",
    "            self.max_register_val_seen = active_register_value\n",
    "            \n",
    "    def update_registers(self, instruction_list):\n",
    "        max_register_seen = float('-inf')\n",
    "    \n",
    "        for instruction_str in instruction_list:\n",
    "            self.perform_instruction(instruction_str)\n",
    "            \n",
    "    def max_register(self):\n",
    "        return max(self.registers.values())"
   ]
  },
  {
   "cell_type": "code",
   "execution_count": 49,
   "metadata": {},
   "outputs": [],
   "source": [
    "instruction_str = '''b inc 5 if a > 1\n",
    "a inc 1 if b < 5\n",
    "c dec -10 if a >= 1\n",
    "c inc -20 if c == 10'''\n",
    "instruction_list = instruction_str.split('\\n')\n",
    "\n",
    "reg = Registry()\n",
    "reg.update_registers(instruction_list)\n",
    "assert(1 == reg.max_register())"
   ]
  },
  {
   "cell_type": "code",
   "execution_count": 50,
   "metadata": {},
   "outputs": [
    {
     "name": "stdout",
     "output_type": "stream",
     "text": [
      "Day 8 Part 1: max register at end = 4902\n",
      "Day 8 Part 2: max register seen = 7037\n"
     ]
    }
   ],
   "source": [
    "reg = Registry()\n",
    "reg.update_registers(input8)\n",
    "\n",
    "# part 1's answer\n",
    "max_register_at_end = reg.max_register()\n",
    "print('Day 8 Part 1: max register at end = {}'.format(max_register_at_end))\n",
    "\n",
    "# part 2's answer:\n",
    "max_register_seen = reg.max_register_val_seen\n",
    "print('Day 8 Part 2: max register seen = {}'.format(max_register_seen))\n",
    " "
   ]
  },
  {
   "cell_type": "markdown",
   "metadata": {},
   "source": [
    "## [Day 9](http://adventofcode.com/2017/day/9): Stream Processing (part 1)\n",
    "\n",
    "What is the total score for all groups in your input?"
   ]
  },
  {
   "cell_type": "code",
   "execution_count": 51,
   "metadata": {},
   "outputs": [],
   "source": [
    "with open('./inputs/input_day_09.txt','r') as f: \n",
    "    input9 = [x.strip('\\n') for x in list(f)]\n",
    "input9 = input9[0]"
   ]
  },
  {
   "cell_type": "code",
   "execution_count": 52,
   "metadata": {},
   "outputs": [],
   "source": [
    "def score_garbage_stream(g_stream):\n",
    "    in_group = False \n",
    "    group_depth = 0\n",
    "    total_score = 0\n",
    "    group_score = 0\n",
    "\n",
    "    in_garbage = False\n",
    "    ignore_c = False\n",
    "    \n",
    "    for c in g_stream:\n",
    "        if ignore_c:\n",
    "            ignore_c = False\n",
    "        else:\n",
    "            if c == '!':\n",
    "                ignore_c = True\n",
    "            elif c == '<':\n",
    "                in_garbage = True   \n",
    "            elif c == '>':\n",
    "                in_garbage = False\n",
    "            elif not in_garbage and c == '{':\n",
    "                in_group = True\n",
    "                group_depth += 1\n",
    "                total_score += group_depth\n",
    "            elif not in_garbage and c == '}':\n",
    "                group_depth -= 1\n",
    "    return total_score"
   ]
  },
  {
   "cell_type": "code",
   "execution_count": 53,
   "metadata": {},
   "outputs": [],
   "source": [
    "assert(score_garbage_stream('{}') == 1)\n",
    "assert(score_garbage_stream('{{{}}}') == 6)\n",
    "assert(score_garbage_stream('{{},{}}') == 5)\n",
    "assert(score_garbage_stream('{{{},{},{{}}}}') == 16)\n",
    "assert(score_garbage_stream('{<a>,<a>,<a>,<a>}') == 1)\n",
    "assert(score_garbage_stream('{{<ab>},{<ab>},{<ab>},{<ab>}}') == 9)\n",
    "assert(score_garbage_stream('{{<!!>},{<!!>},{<!!>},{<!!>}}') == 9)\n",
    "assert(score_garbage_stream('{{<a!>},{<a!>},{<a!>},{<ab>}}') == 3)"
   ]
  },
  {
   "cell_type": "code",
   "execution_count": 54,
   "metadata": {},
   "outputs": [
    {
     "name": "stdout",
     "output_type": "stream",
     "text": [
      "CPU times: user 1.84 ms, sys: 0 ns, total: 1.84 ms\n",
      "Wall time: 1.9 ms\n"
     ]
    }
   ],
   "source": [
    "%%time\n",
    "day_9_part1 = score_garbage_stream(input9)"
   ]
  },
  {
   "cell_type": "code",
   "execution_count": 55,
   "metadata": {},
   "outputs": [
    {
     "name": "stdout",
     "output_type": "stream",
     "text": [
      "9662\n"
     ]
    }
   ],
   "source": [
    "print(day_9_part1)"
   ]
  },
  {
   "cell_type": "markdown",
   "metadata": {},
   "source": [
    "## [Day 9](http://adventofcode.com/2017/day/9): Stream Processing (part 2)\n",
    "\n",
    "How many non-canceled characters are within the garbage in your puzzle input?"
   ]
  },
  {
   "cell_type": "code",
   "execution_count": 56,
   "metadata": {},
   "outputs": [],
   "source": [
    "def count_garbage_chars(g_stream):\n",
    "    in_group = False \n",
    "    in_garbage = False\n",
    "    ignore_c = False\n",
    "    \n",
    "    garbage_chars = 0\n",
    "    \n",
    "    for c in g_stream:\n",
    "        if ignore_c:\n",
    "            ignore_c = False\n",
    "        else:\n",
    "            if c == '!':\n",
    "                ignore_c = True\n",
    "            elif c == '>':\n",
    "                in_garbage = False                \n",
    "            elif in_garbage:\n",
    "                garbage_chars += 1\n",
    "            elif c == '<':\n",
    "                in_garbage = True\n",
    "    return garbage_chars"
   ]
  },
  {
   "cell_type": "code",
   "execution_count": 57,
   "metadata": {},
   "outputs": [],
   "source": [
    "assert(0 == count_garbage_chars('<>'))\n",
    "assert(17 == count_garbage_chars('<random characters>'))\n",
    "assert(3 == count_garbage_chars('<<<<>'))\n",
    "assert(2 == count_garbage_chars('<{!>}>'))\n",
    "assert(0 == count_garbage_chars('<!!>'))\n",
    "assert(0 == count_garbage_chars('<!!!>>'))\n",
    "assert(10 == count_garbage_chars('<{o\"i!a,<{i<a>'))"
   ]
  },
  {
   "cell_type": "code",
   "execution_count": 58,
   "metadata": {},
   "outputs": [
    {
     "name": "stdout",
     "output_type": "stream",
     "text": [
      "CPU times: user 1.07 ms, sys: 14 µs, total: 1.08 ms\n",
      "Wall time: 1.09 ms\n"
     ]
    }
   ],
   "source": [
    "%%time\n",
    "day_9_part2 = count_garbage_chars(input9)"
   ]
  },
  {
   "cell_type": "code",
   "execution_count": 59,
   "metadata": {},
   "outputs": [
    {
     "name": "stdout",
     "output_type": "stream",
     "text": [
      "4903\n"
     ]
    }
   ],
   "source": [
    "print(day_9_part2)"
   ]
  },
  {
   "cell_type": "markdown",
   "metadata": {
    "collapsed": true
   },
   "source": [
    "## [Day 10](http://adventofcode.com/2017/day/10): Knot Hash (part 1)\n",
    "\n",
    "However, you should instead use the standard list size of 256 (with values 0 to 255) and the sequence of lengths in your puzzle input. Once this process is complete, what is the result of multiplying the first two numbers in the list?"
   ]
  },
  {
   "cell_type": "code",
   "execution_count": 60,
   "metadata": {},
   "outputs": [],
   "source": [
    "with open('./inputs/input_day_10.txt','r') as f:\n",
    "    input10 = [x.strip('\\n') for x in list(f)][0]\n",
    "    input10 = [int(x) for x in input10.split(',')]"
   ]
  },
  {
   "cell_type": "code",
   "execution_count": 61,
   "metadata": {},
   "outputs": [
    {
     "data": {
      "text/plain": [
       "[34, 88, 2, 222, 254, 93, 150, 0, 199, 255, 39, 32, 137, 136, 1, 167]"
      ]
     },
     "execution_count": 61,
     "metadata": {},
     "output_type": "execute_result"
    }
   ],
   "source": [
    "input10"
   ]
  },
  {
   "cell_type": "code",
   "execution_count": 62,
   "metadata": {},
   "outputs": [],
   "source": [
    "def circle_reverse(l, lo, hi):\n",
    "    n = len(l)\n",
    "    if hi < len(l):\n",
    "        l[lo:hi+1] = list(reversed(l[lo:hi+1]))\n",
    "    else:\n",
    "        l_to_reverse = []\n",
    "        for i in range(lo, hi + 1):\n",
    "            l_to_reverse.append(l[i % n])\n",
    "        l_to_reverse = list(reversed(l_to_reverse))\n",
    "        for i in range(lo, hi + 1):\n",
    "            l[i % n] =  l_to_reverse[(i - lo) % n]\n",
    "    return l\n",
    "\n",
    "def elf_hash(hash_list, input_lengths):\n",
    "    n = len(hash_list)\n",
    "    vals = list(range(n))\n",
    "    skip_size = 0\n",
    "    pos = 0\n",
    "    for length in input_lengths:\n",
    "        circle_reverse(vals, pos, pos + length - 1)\n",
    "        pos = (pos + length + skip_size) % (n)\n",
    "        skip_size += 1        \n",
    "    return vals, pos, skip_size\n",
    "        "
   ]
  },
  {
   "cell_type": "code",
   "execution_count": 63,
   "metadata": {},
   "outputs": [],
   "source": [
    "eh = elf_hash([0,1,2,3,4], [3,4,1,5])\n",
    "vals, pos, skip_size = eh\n",
    "assert(vals[0] * vals[1] == 12)"
   ]
  },
  {
   "cell_type": "code",
   "execution_count": 64,
   "metadata": {},
   "outputs": [
    {
     "name": "stdout",
     "output_type": "stream",
     "text": [
      "54675\n"
     ]
    }
   ],
   "source": [
    "eh = elf_hash(range(0,256), input10)\n",
    "vals, pos, skip_size = eh\n",
    "print(vals[0] * vals[1])"
   ]
  },
  {
   "cell_type": "markdown",
   "metadata": {},
   "source": [
    "## [Day 10](http://adventofcode.com/2017/day/10): Knot Hash (part 2)\n",
    "\n",
    "Treating your puzzle input as a string of ASCII characters, what is the Knot Hash of your puzzle input? Ignore any leading or trailing whitespace you might encounter."
   ]
  },
  {
   "cell_type": "code",
   "execution_count": 65,
   "metadata": {},
   "outputs": [],
   "source": [
    "with open('./inputs/input_day_10.txt','r') as f: \n",
    "    input10v2 = [x.strip('\\n') for x in list(f)][0]"
   ]
  },
  {
   "cell_type": "code",
   "execution_count": 66,
   "metadata": {},
   "outputs": [],
   "source": [
    "from functools import reduce"
   ]
  },
  {
   "cell_type": "code",
   "execution_count": 67,
   "metadata": {},
   "outputs": [],
   "source": [
    "def knot_hash(input_string):\n",
    "    # convert the input character stream to their ascii values\n",
    "    # and use them as lengths\n",
    "    lengths = [ord(x) for x in list(input_string)]\n",
    "    \n",
    "    # append the extra lengths to the end\n",
    "    extra_lengths = [17, 31, 73, 47, 23]\n",
    "    lengths.extend(extra_lengths)\n",
    "\n",
    "    # set up\n",
    "    hash_list = list(range(256))\n",
    "    pos = 0\n",
    "    skip_size = 0\n",
    "    \n",
    "    # apply the knot algorithm to the hash_list 64 times\n",
    "    for i in range(64):\n",
    "        for length in lengths:\n",
    "            circle_reverse(hash_list, pos, pos + length - 1)\n",
    "            pos = (pos + length + skip_size) % (256)\n",
    "            skip_size += 1\n",
    "\n",
    "    # the result of 64 applications of the knot algorithm is the sparse hash\n",
    "    sparse_hash = hash_list\n",
    "    \n",
    "    # compute the dense hash by XoR-ing each 16 number block of the sparse hash\n",
    "    dense_hash = [0 for i in range(16)]\n",
    "    for i in range(16):\n",
    "        dense_hash[i] = reduce(lambda x,y : x^y, sparse_hash[i*16 : (i+1)*16])\n",
    "        \n",
    "    # extract the hexadecimal values from the dense hash\n",
    "    dense_hash = ''.join([hex(x)[-2:] for x in dense_hash])\n",
    "    dense_hash = dense_hash.replace('x', '0')\n",
    "    \n",
    "    return dense_hash"
   ]
  },
  {
   "cell_type": "code",
   "execution_count": 68,
   "metadata": {},
   "outputs": [],
   "source": [
    "assert('a2582a3a0e66e6e86e3812dcb672a272' == knot_hash(''))\n",
    "assert('33efeb34ea91902bb2f59c9920caa6cd' == knot_hash('AoC 2017'))\n",
    "assert('3efbe78a8d82f29979031a4aa0b16a9d' == knot_hash('1,2,3'))\n",
    "assert('63960835bcdc130f0b66d7ff4f6a5a8e' == knot_hash('1,2,4'))"
   ]
  },
  {
   "cell_type": "code",
   "execution_count": 69,
   "metadata": {},
   "outputs": [
    {
     "data": {
      "text/plain": [
       "'a7af2706aa9a09cf5d848c1e6605dd2a'"
      ]
     },
     "execution_count": 69,
     "metadata": {},
     "output_type": "execute_result"
    }
   ],
   "source": [
    "knot_hash(input10v2)"
   ]
  },
  {
   "cell_type": "markdown",
   "metadata": {
    "collapsed": true
   },
   "source": [
    "## [Day 11](http://adventofcode.com/2017/day/11): Hex Ed (part 1)\n"
   ]
  },
  {
   "cell_type": "markdown",
   "metadata": {},
   "source": [
    "*warning* I'm pretty sure this is incomplete, and I didn't come up with a good solution. This gives the correct answer for the problem, but I don't trust it *at all* since it's not fully thought through on my part."
   ]
  },
  {
   "cell_type": "code",
   "execution_count": 70,
   "metadata": {},
   "outputs": [],
   "source": [
    "with open('./inputs/input_day_11.txt','r') as f: \n",
    "    input11 = f.readline().strip('\\n')"
   ]
  },
  {
   "cell_type": "code",
   "execution_count": 71,
   "metadata": {},
   "outputs": [],
   "source": [
    "import numpy as np\n",
    "\n",
    "def reduce_directions(grid_path_str):\n",
    "    grid_path = grid_path_str.split(',')\n",
    "    \n",
    "    cardinal_dirs = ['n','ne','nw','se','s','sw',]\n",
    "    \n",
    "    # extract all directions from the path\n",
    "    dir_counts = dict()\n",
    "    for d in cardinal_dirs:\n",
    "        dir_counts[d] = grid_path.count(d)\n",
    "\n",
    "    # reduce directions\n",
    "    m = min(dir_counts['ne'], dir_counts['s'])\n",
    "    dir_counts['ne'], dir_counts['s'], dir_counts['se'] = (dir_counts['ne'] - m, dir_counts['s'] - m, \n",
    "                                                           dir_counts['se'] + m)\n",
    "    \n",
    "    m = min(dir_counts['se'], dir_counts['sw'])\n",
    "    dir_counts['se'], dir_counts['sw'], dir_counts['s'] = (dir_counts['se'] - m, dir_counts['sw'] - m, \n",
    "                                                           dir_counts['s'] +m)                                                           \n",
    "\n",
    "    m = min(dir_counts['ne'], dir_counts['nw'])\n",
    "    dir_counts['ne'], dir_counts['nw'], dir_counts['n'] = (dir_counts['ne'] - m, dir_counts['nw'] - m, \n",
    "                                                           dir_counts['n'] +m)\n",
    "\n",
    "    m = min(dir_counts['ne'], dir_counts['sw'])\n",
    "    dir_counts['ne'], dir_counts['sw'] = dir_counts['ne'] - m, dir_counts['sw'] - m\n",
    "\n",
    "    m = min(dir_counts['se'], dir_counts['nw'])\n",
    "    dir_counts['se'], dir_counts['nw'] = dir_counts['se'] - m, dir_counts['nw'] - m\n",
    "        \n",
    "    m = min(dir_counts['n'], dir_counts['s'])\n",
    "    dir_counts['n'], dir_counts['s'] = dir_counts['n'] - m, dir_counts['s'] - m\n",
    "\n",
    "    return dir_counts\n",
    "\n",
    "def count_steps(grid_path_str):\n",
    "    dir_counts = reduce_directions(grid_path_str)\n",
    "    return sum(dir_counts.values())\n",
    "#parse_dir('sw')"
   ]
  },
  {
   "cell_type": "code",
   "execution_count": 72,
   "metadata": {},
   "outputs": [],
   "source": [
    "assert(count_steps('ne,ne,ne') == 3)\n",
    "assert(count_steps('ne,ne,sw,sw') == 0)\n",
    "assert(count_steps('ne,ne,s,s') == 2)\n",
    "assert(count_steps('se,sw,se,sw,sw') == 3)\n",
    "assert(count_steps('ne,nw,ne,nw,nw') == 3)"
   ]
  },
  {
   "cell_type": "code",
   "execution_count": 73,
   "metadata": {},
   "outputs": [
    {
     "name": "stdout",
     "output_type": "stream",
     "text": [
      "1049\n",
      "CPU times: user 2.07 ms, sys: 0 ns, total: 2.07 ms\n",
      "Wall time: 1.95 ms\n"
     ]
    }
   ],
   "source": [
    "%%time\n",
    "print(count_steps(input11))"
   ]
  },
  {
   "cell_type": "markdown",
   "metadata": {},
   "source": [
    "## [Day 11](http://adventofcode.com/2017/day/11): Hex Ed (part 2)\n",
    "\n",
    "How many steps away is the furthest he ever got from his starting position?"
   ]
  },
  {
   "cell_type": "markdown",
   "metadata": {},
   "source": [
    "What follows is a *VERY* bad solution. But it does the job, and I don't want to think about it right now. "
   ]
  },
  {
   "cell_type": "code",
   "execution_count": 74,
   "metadata": {},
   "outputs": [],
   "source": [
    "def max_steps_away(grid_path_str):\n",
    "    grid_path = grid_path_str.split(',')\n",
    "    l_path = len(grid_path)\n",
    "    max_steps_away = 0\n",
    "    for l in range(1, l_path):\n",
    "        partial_path = grid_path[0:l]\n",
    "        steps_taken = count_steps(','.join(partial_path))\n",
    "        if steps_taken > max_steps_away:\n",
    "            max_steps_away = steps_taken\n",
    "    return max_steps_away"
   ]
  },
  {
   "cell_type": "code",
   "execution_count": 75,
   "metadata": {},
   "outputs": [
    {
     "name": "stdout",
     "output_type": "stream",
     "text": [
      "2646\n",
      "CPU times: user 5.67 s, sys: 272 ms, total: 5.94 s\n",
      "Wall time: 5.95 s\n"
     ]
    }
   ],
   "source": [
    "%%time\n",
    "print(max_steps_away(input11))"
   ]
  },
  {
   "cell_type": "markdown",
   "metadata": {},
   "source": [
    "## [Day 12](http://adventofcode.com/2017/day/12): Digital Plumber \n",
    "\n",
    "### Part 1\n",
    "\n",
    "Walking along the memory banks of the stream, you find a small village that is experiencing a little confusion: some programs can't communicate with each other.\n",
    "\n",
    "Programs in this village communicate using a fixed system of pipes. Messages are passed between programs using these pipes, but most programs aren't connected to each other directly. Instead, programs pass messages between each other until the message reaches the intended recipient.\n",
    "\n",
    "For some reason, though, some of these messages aren't ever reaching their intended recipient, and the programs suspect that some pipes are missing. They would like you to investigate.\n",
    "\n",
    "You walk through the village and record the ID of each program and the IDs with which it can communicate directly (your puzzle input). Each program has one or more programs with which it can communicate, and these pipes are bidirectional; if 8 says it can communicate with 11, then 11 will say it can communicate with 8.\n",
    "\n",
    "You need to figure out how many programs are in the group that contains program ID 0.\n",
    "\n",
    "For example, suppose you go door-to-door like a travelling salesman and record the following list:\n",
    "\n",
    "    0 <-> 2\n",
    "    1 <-> 1\n",
    "    2 <-> 0, 3, 4\n",
    "    3 <-> 2, 4\n",
    "    4 <-> 2, 3, 6\n",
    "    5 <-> 6\n",
    "    6 <-> 4, 5\n",
    "\n",
    "In this example, the following programs are in the group that contains program ID 0:\n",
    "\n",
    "    Program 0 by definition.\n",
    "    Program 2, directly connected to program 0.\n",
    "    Program 3 via program 2.\n",
    "    Program 4 via program 2.\n",
    "    Program 5 via programs 6, then 4, then 2.\n",
    "    Program 6 via programs 4, then 2.\n",
    "\n",
    "Therefore, a total of 6 programs are in this group; all but program 1, which has a pipe that connects it to itself.\n",
    "\n",
    "How many programs are in the group that contains program ID 0?\n",
    "\n",
    "### Part Two \n",
    "\n",
    "There are more programs than just the ones in the group containing program ID 0. The rest of them have no way of reaching that group, and still might have no way of reaching each other.\n",
    "\n",
    "A group is a collection of programs that can all communicate via pipes either directly or indirectly. The programs you identified just a moment ago are all part of the same group. Now, they would like you to determine the total number of groups.\n",
    "\n",
    "In the example above, there were 2 groups: one consisting of programs 0,2,3,4,5,6, and the other consisting solely of program 1.\n",
    "\n",
    "How many groups are there in total?"
   ]
  },
  {
   "cell_type": "code",
   "execution_count": 83,
   "metadata": {},
   "outputs": [],
   "source": [
    "with open('./inputs/input_day_12.txt','r') as f:\n",
    "    input12 = list(f)"
   ]
  },
  {
   "cell_type": "code",
   "execution_count": 84,
   "metadata": {},
   "outputs": [],
   "source": [
    "import numpy as np\n",
    "\n",
    "class UnionFindIntArray:\n",
    "    def __init__(self, n_elts):\n",
    "        self.n_elts = n_elts\n",
    "        self.parent = list(range(n_elts))\n",
    "        self.n_components = n_elts\n",
    "        \n",
    "    def find(self,x):\n",
    "        if x != self.parent[x]:\n",
    "            self.parent[x] = self.find(self.parent[x])\n",
    "        return self.parent[x]\n",
    "    \n",
    "    def union(self, x, y):\n",
    "        root_x = self.find(x)\n",
    "        root_y = self.find(y)\n",
    "        if root_x == root_y:\n",
    "            pass\n",
    "        else:\n",
    "            self.parent[root_x] = root_y\n",
    "            self.n_components -= 1\n",
    "            \n",
    "    def connected(self, x, y):\n",
    "        return self.find(x) == self.find(y)"
   ]
  },
  {
   "cell_type": "code",
   "execution_count": 85,
   "metadata": {},
   "outputs": [],
   "source": [
    "class ConnectedPrograms:\n",
    "    def __init__(self, conxn_descr_list):\n",
    "               \n",
    "        # Program id we'll use to connect\n",
    "        conxn_id = [x.strip('\\n').split('<->')[0] for x in conxn_descr_list]\n",
    "        conxn_id = [int(y.strip(' ')) for y in conxn_id]\n",
    "        \n",
    "        # Who is each program id connected to ?\n",
    "        conxn_list = [x.strip('\\n').split('<->')[1].split(',') for x in conxn_descr_list]\n",
    "        conxn_list = [[int(y.strip(' ')) for y in x] for x in conxn_list]\n",
    "        \n",
    "        # Initialize union find\n",
    "        self.n_elts = len(conxn_id)\n",
    "        self.uf = UnionFindIntArray(self.n_elts)\n",
    "        \n",
    "        # connect them all up\n",
    "        for i in range(self.n_elts):\n",
    "            pgm = conxn_id[i]\n",
    "            pgm_conxns = conxn_list[i]\n",
    "\n",
    "            for connected_to_pgm in pgm_conxns:                \n",
    "                self.uf.union(pgm, connected_to_pgm)                        \n",
    "                \n",
    "    def connected_to(self, x):\n",
    "        is_connected_to_x = np.array([self.uf.connected(y,x) for y in range(self.n_elts)])\n",
    "        connected_to_x = np.where(is_connected_to_x)[0]\n",
    "        return list(connected_to_x)\n",
    "    \n",
    "    \n",
    "    def n_connected_to(self, x):\n",
    "        is_connected_to_x = self.connected_to(x)\n",
    "        return len(is_connected_to_x)\n",
    "    \n",
    "    def n_components(self):\n",
    "        return self.uf.n_components"
   ]
  },
  {
   "cell_type": "code",
   "execution_count": 86,
   "metadata": {},
   "outputs": [],
   "source": [
    "descr = '''0 <-> 2\n",
    "1 <-> 1\n",
    "2 <-> 0, 3, 4\n",
    "3 <-> 2, 4\n",
    "4 <-> 2, 3, 6\n",
    "5 <-> 6\n",
    "6 <-> 4, 5'''\n",
    "\n",
    "# union find structure from description\n",
    "cp = ConnectedPrograms(descr.split('\\n'))\n",
    "assert(cp.n_connected_to(0) == 6)\n",
    "assert(cp.n_components() == 2)"
   ]
  },
  {
   "cell_type": "code",
   "execution_count": 87,
   "metadata": {},
   "outputs": [
    {
     "name": "stdout",
     "output_type": "stream",
     "text": [
      "Day 12 part 1: 175\n",
      "Day 12 part 1: 213\n"
     ]
    }
   ],
   "source": [
    "cp = ConnectedPrograms(input12)\n",
    "print('Day 12 part 1: {}'.format(cp.n_connected_to(0)))\n",
    "print('Day 12 part 1: {}'.format(cp.n_components()))\n"
   ]
  },
  {
   "cell_type": "markdown",
   "metadata": {},
   "source": [
    "## [Day 13](): Packet Scanners (part 1)\n",
    "\n",
    "Given the details of the firewall you've recorded, if you leave immediately, what is the severity of your whole trip?"
   ]
  },
  {
   "cell_type": "code",
   "execution_count": 88,
   "metadata": {},
   "outputs": [],
   "source": [
    "with open('./inputs/input_day_13.txt','r') as f:\n",
    "    input13 = list(f)"
   ]
  },
  {
   "cell_type": "code",
   "execution_count": 90,
   "metadata": {},
   "outputs": [],
   "source": [
    "class FirewallTrip:\n",
    "    def __init__(self, positions, heights, delay = 0):\n",
    "        assert(len(positions) == len(heights))\n",
    "        \n",
    "        self.n = len(positions)\n",
    "        self.positions = positions\n",
    "        self.heights = heights\n",
    "        \n",
    "        self.delay = delay\n",
    "        self.picosecond = 0\n",
    "        self.layer = 0\n",
    "        self.scanners = [0 for x in positions]\n",
    "        self.scanner_dir = [1 for x in positions]\n",
    "        self.severity = 0\n",
    "        \n",
    "    def update(self):        \n",
    "        print (self.picosecond, self.layer, \n",
    "            [(self.positions[i], self.scanners[i]) for i in range(self.n)])\n",
    "        if self.picosecond >= self.delay:\n",
    "            # is the scanner there?\n",
    "            if self.layer in self.positions:\n",
    "                idx_layer = self.positions.index(self.layer)\n",
    "                \n",
    "                # update severity of trip\n",
    "                if self.scanners[idx_layer] == 0:\n",
    "                    dpth = self.positions[idx_layer]\n",
    "                    rng  = self.heights[idx_layer]\n",
    "                    sev  = dpth * rng\n",
    "                    self.severity += sev\n",
    "            \n",
    "        # update positions of scanners\n",
    "        for i in range(self.n):\n",
    "            # change scanner direction\n",
    "            if (self.scanners[i] == self.heights[i] - 1) or (self.scanners[i] == 0):\n",
    "                if self.picosecond > 0:\n",
    "                    self.scanner_dir[i] = -1 * self.scanner_dir[i]                \n",
    "            self.scanners[i] += self.scanner_dir[i] \n",
    "            \n",
    "        if self.picosecond >= self.delay:\n",
    "            self.picosecond += 1\n",
    "            self.layer += 1\n",
    "        else:\n",
    "            self.picosecond += 1\n",
    "    \n",
    "    def trip_severity(self, delay = 0):\n",
    "        # reset just in case\n",
    "        self.__init__(self.positions, self.heights, delay = delay)\n",
    "\n",
    "        # run up until the last firewall\n",
    "        #for i in range(max(self.positions) + 1):\n",
    "        while self.layer < max(self.positions) + 1:\n",
    "            self.update()\n",
    "        return self.severity\n",
    "    \n",
    "    def find_best_delay(self):\n",
    "        delay = 0        \n",
    "        while True:            \n",
    "            sev = self.trip_severity(delay)\n",
    "            print (sev)\n",
    "            if sev == 0:\n",
    "                break\n",
    "            else:\n",
    "                delay += 1\n",
    "        return delay"
   ]
  },
  {
   "cell_type": "code",
   "execution_count": 92,
   "metadata": {},
   "outputs": [
    {
     "name": "stdout",
     "output_type": "stream",
     "text": [
      "0 0 [(0, 0), (1, 0), (4, 0), (6, 0)]\n",
      "1 1 [(0, 1), (1, 1), (4, 1), (6, 1)]\n",
      "2 2 [(0, 2), (1, 0), (4, 2), (6, 2)]\n",
      "3 3 [(0, 1), (1, 1), (4, 3), (6, 3)]\n",
      "4 4 [(0, 0), (1, 0), (4, 2), (6, 2)]\n",
      "5 5 [(0, 1), (1, 1), (4, 1), (6, 1)]\n",
      "6 6 [(0, 2), (1, 0), (4, 0), (6, 0)]\n"
     ]
    }
   ],
   "source": [
    "test_input_13 = (\n",
    "'''0: 3\n",
    "1: 2\n",
    "4: 4\n",
    "6: 4''')\n",
    "\n",
    "#  put data in correct form\n",
    "poshghts = [[int(y) for y in x.strip(' ').split(':')] for x in test_input_13.split('\\n')]\n",
    "pos = [x[0] for x in poshghts]\n",
    "hghts = [x[1] for x in poshghts]\n",
    "\n",
    "# build the trip simulator\n",
    "ft = FirewallTrip(pos, hghts)\n",
    "\n",
    "# run the test\n",
    "assert(ft.trip_severity() == 24)"
   ]
  },
  {
   "cell_type": "code",
   "execution_count": 95,
   "metadata": {},
   "outputs": [],
   "source": [
    "poshghts = [[int(y) for y in x.strip(' ').split(':')] for x in input13]"
   ]
  },
  {
   "cell_type": "code",
   "execution_count": 96,
   "metadata": {},
   "outputs": [],
   "source": [
    "poshghts = [[int(y) for y in x.strip(' ').split(':')] for x in input13]\n",
    "pos = [x[0] for x in poshghts]\n",
    "hghts = [x[1] for x in poshghts]\n",
    "\n",
    "#ft = FirewallTrip(pos, hghts)\n",
    "#print ft.trip_severity()"
   ]
  },
  {
   "cell_type": "code",
   "execution_count": 97,
   "metadata": {},
   "outputs": [
    {
     "name": "stdout",
     "output_type": "stream",
     "text": [
      "0 0 [(0, 0), (1, 0), (4, 0), (6, 0)]\n",
      "1 0 [(0, 1), (1, 1), (4, 1), (6, 1)]\n",
      "2 0 [(0, 2), (1, 0), (4, 2), (6, 2)]\n",
      "3 0 [(0, 1), (1, 1), (4, 3), (6, 3)]\n",
      "4 0 [(0, 0), (1, 0), (4, 2), (6, 2)]\n",
      "5 0 [(0, 1), (1, 1), (4, 1), (6, 1)]\n",
      "6 0 [(0, 2), (1, 0), (4, 0), (6, 0)]\n",
      "7 0 [(0, 1), (1, 1), (4, 1), (6, 1)]\n",
      "8 0 [(0, 0), (1, 0), (4, 2), (6, 2)]\n",
      "9 0 [(0, 1), (1, 1), (4, 3), (6, 3)]\n",
      "10 0 [(0, 2), (1, 0), (4, 2), (6, 2)]\n",
      "11 1 [(0, 1), (1, 1), (4, 1), (6, 1)]\n",
      "12 2 [(0, 0), (1, 0), (4, 0), (6, 0)]\n",
      "13 3 [(0, 1), (1, 1), (4, 1), (6, 1)]\n",
      "14 4 [(0, 2), (1, 0), (4, 2), (6, 2)]\n",
      "15 5 [(0, 1), (1, 1), (4, 3), (6, 3)]\n",
      "16 6 [(0, 0), (1, 0), (4, 2), (6, 2)]\n"
     ]
    },
    {
     "data": {
      "text/plain": [
       "0"
      ]
     },
     "execution_count": 97,
     "metadata": {},
     "output_type": "execute_result"
    }
   ],
   "source": [
    "#ft.find_best_delay()\n",
    "ft.trip_severity(10)"
   ]
  },
  {
   "cell_type": "code",
   "execution_count": 98,
   "metadata": {},
   "outputs": [
    {
     "name": "stdout",
     "output_type": "stream",
     "text": [
      "0 0 [(0, 0), (1, 0), (4, 0), (6, 0)]\n",
      "1 0 [(0, 1), (1, 1), (4, 1), (6, 1)]\n",
      "2 0 [(0, 2), (1, 0), (4, 2), (6, 2)]\n",
      "3 0 [(0, 1), (1, 1), (4, 3), (6, 3)]\n",
      "4 0 [(0, 0), (1, 0), (4, 2), (6, 2)]\n",
      "5 1 [(0, 1), (1, 1), (4, 1), (6, 1)]\n",
      "6 2 [(0, 2), (1, 0), (4, 0), (6, 0)]\n",
      "7 3 [(0, 1), (1, 1), (4, 1), (6, 1)]\n",
      "8 4 [(0, 0), (1, 0), (4, 2), (6, 2)]\n",
      "9 5 [(0, 1), (1, 1), (4, 3), (6, 3)]\n",
      "10 6 [(0, 2), (1, 0), (4, 2), (6, 2)]\n"
     ]
    },
    {
     "data": {
      "text/plain": [
       "0"
      ]
     },
     "execution_count": 98,
     "metadata": {},
     "output_type": "execute_result"
    }
   ],
   "source": [
    "ft.trip_severity(4)"
   ]
  },
  {
   "cell_type": "code",
   "execution_count": null,
   "metadata": {},
   "outputs": [],
   "source": []
  }
 ],
 "metadata": {
  "anaconda-cloud": {},
  "kernelspec": {
   "display_name": "Python 3",
   "language": "python",
   "name": "python3"
  },
  "language_info": {
   "codemirror_mode": {
    "name": "ipython",
    "version": 3
   },
   "file_extension": ".py",
   "mimetype": "text/x-python",
   "name": "python",
   "nbconvert_exporter": "python",
   "pygments_lexer": "ipython3",
   "version": "3.7.7"
  }
 },
 "nbformat": 4,
 "nbformat_minor": 1
}
