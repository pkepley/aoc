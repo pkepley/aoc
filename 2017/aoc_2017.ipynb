{
 "cells": [
  {
   "cell_type": "markdown",
   "metadata": {},
   "source": [
    "# Advent of Code - 2017\n",
    "\n",
    "Inspired by [people-who-know-what-they-are-doing](https://nbviewer.jupyter.org/url/norvig.com/ipython/Advent%20of%20Code.ipynb), I decided to do the [Advent of Code](http://adventofcode.com/2017), and to do it in a Jupyter Notebook.\n",
    "\n",
    "I'd say there's about a 50/50 chance that I finish this... (:"
   ]
  },
  {
   "cell_type": "markdown",
   "metadata": {},
   "source": [
    "## [Day 1](http://adventofcode.com/2017/day/1): Inverse Captcha (part 1)\n",
    "The captcha requires you to review a sequence of digits (your puzzle input) and find the sum of all digits that match the next digit in the list. The list is circular, so the digit after the last digit is the first digit in the list.\n",
    "\n",
    "For example:\n",
    "\n",
    "- 1122 produces a sum of 3 (1 + 2) because the first digit (1) matches the second digit and the third digit (2) matches the fourth digit.\n",
    "- 1111 produces 4 because each digit (all 1) matches the next.\n",
    "- 1234 produces 0 because no digit matches the next.\n",
    "- 91212129 produces 9 because the only digit that matches the next one is the last digit, 9.\n"
   ]
  },
  {
   "cell_type": "code",
   "execution_count": 1,
   "metadata": {
    "collapsed": true
   },
   "outputs": [],
   "source": [
    "f = open('./inputs/input1', 'r')\n",
    "input1 = list(f)[0]\n",
    "f.close()"
   ]
  },
  {
   "cell_type": "code",
   "execution_count": 2,
   "metadata": {
    "collapsed": false
   },
   "outputs": [],
   "source": [
    "def digit_str_to_list(s):\n",
    "    l = list(s.strip('\\n'))\n",
    "    l = map(int, l)    \n",
    "    return l\n",
    "\n",
    "def circ_sum_adj_reps(s):\n",
    "    l = digit_str_to_list(s)\n",
    "    adj_rep_sum = 0\n",
    "    last = l[-1]\n",
    "    for curr in l:\n",
    "        if last == curr:\n",
    "            adj_rep_sum += last\n",
    "        last = curr\n",
    "    return adj_rep_sum"
   ]
  },
  {
   "cell_type": "code",
   "execution_count": 3,
   "metadata": {
    "collapsed": false
   },
   "outputs": [],
   "source": [
    "# Test cases\n",
    "assert (3 == circ_sum_adj_reps('1122'))\n",
    "assert (4 == circ_sum_adj_reps('1111'))\n",
    "assert (0 == circ_sum_adj_reps('1234'))\n",
    "assert (9 == circ_sum_adj_reps('91212129'))"
   ]
  },
  {
   "cell_type": "code",
   "execution_count": 4,
   "metadata": {
    "collapsed": false
   },
   "outputs": [
    {
     "name": "stdout",
     "output_type": "stream",
     "text": [
      "1216\n"
     ]
    }
   ],
   "source": [
    "print circ_sum_adj_reps(input1)"
   ]
  },
  {
   "cell_type": "markdown",
   "metadata": {},
   "source": [
    "## [Day 1](http://adventofcode.com/2017/day/1): Inverse Captcha (part 2)\n",
    "Now, instead of considering the next digit, it wants you to consider the digit halfway around the circular list. That is, if your list contains 10 items, only include a digit in your sum if the digit 10/2 = 5 steps forward matches it. Fortunately, your list has an even number of elements.\n",
    "\n",
    "For example:\n",
    "\n",
    "- 1212 produces 6: the list contains 4 items, and all four digits match the digit 2 items ahead.\n",
    "- 1221 produces 0, because every comparison is between a 1 and a 2.\n",
    "- 123425 produces 4, because both 2s match each other, but no other digit has a match.\n",
    "- 123123 produces 12.\n",
    "- 12131415 produces 4.\n"
   ]
  },
  {
   "cell_type": "code",
   "execution_count": 5,
   "metadata": {
    "collapsed": true
   },
   "outputs": [],
   "source": [
    "def circ_sum_hlfwy_reps(s):\n",
    "    l = digit_str_to_list(s)\n",
    "    hlfwy_rep_sum = 0\n",
    "\n",
    "    n = len(l)\n",
    "    for i in range(n):\n",
    "        curr_elt = l[i]\n",
    "        hlfwy_adj_elt = l[ (i + n/2) % n]\n",
    "        \n",
    "        if curr_elt == hlfwy_adj_elt:\n",
    "            hlfwy_rep_sum += curr_elt\n",
    "            \n",
    "    return hlfwy_rep_sum"
   ]
  },
  {
   "cell_type": "code",
   "execution_count": 6,
   "metadata": {
    "collapsed": false
   },
   "outputs": [],
   "source": [
    "# Test cases\n",
    "assert( 6 == circ_sum_hlfwy_reps('1212'))\n",
    "assert( 0 == circ_sum_hlfwy_reps('1221'))\n",
    "assert( 0 == circ_sum_hlfwy_reps('1221'))\n",
    "assert( 4 == circ_sum_hlfwy_reps('123425'))\n",
    "assert( 12 == circ_sum_hlfwy_reps('123123'))\n",
    "assert( 4 == circ_sum_hlfwy_reps('12131415'))"
   ]
  },
  {
   "cell_type": "code",
   "execution_count": 7,
   "metadata": {
    "collapsed": false
   },
   "outputs": [
    {
     "name": "stdout",
     "output_type": "stream",
     "text": [
      "1072\n"
     ]
    }
   ],
   "source": [
    "print circ_sum_hlfwy_reps(input1)"
   ]
  },
  {
   "cell_type": "markdown",
   "metadata": {},
   "source": [
    "## [Day 2](http://adventofcode.com/2017/day/2): Corruption Checksum (part 1)\n",
    "\n",
    "As you walk through the door, a glowing humanoid shape yells in your direction. \"You there! Your state appears to be idle. Come help us repair the corruption in this spreadsheet - if we take another millisecond, we'll have to display an hourglass cursor!\"\n",
    "\n",
    "The spreadsheet consists of rows of apparently-random numbers. To make sure the recovery process is on the right track, they need you to calculate the spreadsheet's checksum. For each row, determine the difference between the largest value and the smallest value; the checksum is the sum of all of these differences.\n",
    "\n",
    "For example, given the following spreadsheet:\n",
    "\n",
    "$$ \n",
    "\\begin{array}{|c|c|c|c|}\n",
    "   \\hline 5 & 1 & 9 & 5 \\\\\n",
    "   \\hline 7 & 5 & 3 &   \\\\\n",
    "   \\hline 2 & 4 & 6 & 8 \\\\\n",
    "   \\hline\n",
    "\\end{array}\n",
    "$$\n",
    "\n",
    "- The first row's largest and smallest values are 9 and 1, and their difference is 8.\n",
    "- The second row's largest and smallest values are 7 and 3, and their difference is 4.\n",
    "- The third row's difference is 6.\n",
    "\n",
    "In this example, the spreadsheet's checksum would be 8 + 4 + 6 = 18.\n",
    "\n",
    "What is the checksum for the spreadsheet in your puzzle input?\n"
   ]
  },
  {
   "cell_type": "code",
   "execution_count": 8,
   "metadata": {
    "collapsed": false
   },
   "outputs": [],
   "source": [
    "f = open('./inputs/input2', 'r')\n",
    "input2 = list(f)\n",
    "input2 = map(lambda x: x.strip('\\n').split('\\t'), input2)\n",
    "input2 = map(lambda x: map(int, x), input2)\n",
    "f.close()"
   ]
  },
  {
   "cell_type": "code",
   "execution_count": 9,
   "metadata": {
    "collapsed": false
   },
   "outputs": [],
   "source": [
    "def check_sheet(sheet):\n",
    "    sheet_checksum = 0\n",
    "    for row in sheet:\n",
    "        sheet_checksum += (max(row) - min(row))\n",
    "    return sheet_checksum"
   ]
  },
  {
   "cell_type": "code",
   "execution_count": 10,
   "metadata": {
    "collapsed": false
   },
   "outputs": [],
   "source": [
    "assert( 18 == check_sheet([[5,1,9,5], [7,5,3], [2,4,6,8]]))"
   ]
  },
  {
   "cell_type": "code",
   "execution_count": 11,
   "metadata": {
    "collapsed": false
   },
   "outputs": [
    {
     "name": "stdout",
     "output_type": "stream",
     "text": [
      "58975\n"
     ]
    }
   ],
   "source": [
    "print check_sheet(input2)"
   ]
  },
  {
   "cell_type": "markdown",
   "metadata": {},
   "source": [
    "## [Day 2](http://adventofcode.com/2017/day/2): Corruption Checksum (part 2)\n",
    "\n",
    "\"Based on what we're seeing, it looks like all the User wanted is some information about the evenly divisible values in the spreadsheet. Unfortunately, none of us are equipped for that kind of calculation - most of us specialize in bitwise operations.\"\n",
    "\n",
    "It sounds like the goal is to find the only two numbers in each row where one evenly divides the other - that is, where the result of the division operation is a whole number. They would like you to find those numbers on each line, divide them, and add up each line's result.\n",
    "\n",
    "For example, given the following spreadsheet:\n",
    "\n",
    "$$\n",
    "\\begin{array}{|c|c|c|c|}\n",
    "\\hline 5 & 9 & 2 & 8  \\\\ \n",
    "\\hline 9 & 4 & 7 & 3  \\\\ \n",
    "\\hline 3 & 8 & 6 & 5  \\\\ \n",
    "\\hline\n",
    "\\end{array}\n",
    "$$\n",
    "\n",
    "- In the first row, the only two numbers that evenly divide are 8 and 2; the result of this division is 4.\n",
    "- In the second row, the two numbers are 9 and 3; the result is 3.\n",
    "- In the third row, the result is 2.\n",
    "\n",
    "In this example, the sum of the results would be 4 + 3 + 2 = 9.\n",
    "\n",
    "What is the sum of each row's result in your puzzle input?"
   ]
  },
  {
   "cell_type": "code",
   "execution_count": 12,
   "metadata": {
    "collapsed": false
   },
   "outputs": [],
   "source": [
    "def find_unique_divible_pair(l):\n",
    "    n = len(l)\n",
    "    ls = sorted(l)\n",
    "    for i in range(n):\n",
    "        for j in range(i+1,n):\n",
    "            if (ls[j] % ls[i] == 0):\n",
    "                break\n",
    "        else:\n",
    "            continue\n",
    "        break\n",
    "    return ls[i], ls[j]\n",
    "\n",
    "# Test the divisible pair function\n",
    "assert ( (2,8) == find_unique_divible_pair([5,9,2,8]))\n",
    "assert ( (3,9) == find_unique_divible_pair([9,4,7,3]))\n",
    "assert ( (3,6) == find_unique_divible_pair([3,8,6,5]))"
   ]
  },
  {
   "cell_type": "code",
   "execution_count": 13,
   "metadata": {
    "collapsed": false
   },
   "outputs": [],
   "source": [
    "def sheet_pair_sum(sheet):\n",
    "    sheet_sum = 0\n",
    "    for row in sheet:\n",
    "        d1, d2 = find_unique_divible_pair(row)\n",
    "        sheet_sum += (d2/d1)\n",
    "    return sheet_sum\n",
    "\n",
    "# Test the sheet pair sum function\n",
    "assert( 9 == sheet_pair_sum([[5,9,2,8], [9,4,7,3], [3,8,6,5]]))"
   ]
  },
  {
   "cell_type": "code",
   "execution_count": 14,
   "metadata": {
    "collapsed": false
   },
   "outputs": [
    {
     "name": "stdout",
     "output_type": "stream",
     "text": [
      "308\n"
     ]
    }
   ],
   "source": [
    "print sheet_pair_sum(input2)"
   ]
  },
  {
   "cell_type": "markdown",
   "metadata": {},
   "source": [
    "## [Day 3](http://adventofcode.com/2017/day/3): Spiral Memory\n",
    "\n",
    "You come across an experimental new kind of memory stored on an infinite two-dimensional grid.\n",
    "\n",
    "Each square on the grid is allocated in a spiral pattern starting at a location marked 1 and then counting up while spiraling outward. For example, the first few squares are allocated like this:\n",
    "\n",
    "$$\n",
    "\\begin{array}{|c|c|c|c|c|}\n",
    "\\hline 17 & 16 & 15 & 14 & 13 \\\\\n",
    "\\hline 18 &  5 &  4  & 3 & 12 \\\\\n",
    "\\hline 19 &  6 &  1  & 2 & 11 \\\\\n",
    "\\hline 20 &  7 &  8  & 9 & 10 \\\\\n",
    "\\hline 21 & 22 & 23 & \\rightarrow & \\ldots \\\\\n",
    "\\hline\n",
    "\\end{array}\n",
    "$$\n",
    " \n",
    "\n",
    "While this is very space-efficient (no squares are skipped), requested data must be carried back to square 1 (the location of the only access port for this memory system) by programs that can only move up, down, left, or right. They always take the shortest path: the Manhattan Distance between the location of the data and square 1.\n",
    "\n",
    "For example:\n",
    "\n",
    "- Data from square 1 is carried 0 steps, since it's at the access port.\n",
    "- Data from square 12 is carried 3 steps, such as: down, left, left.\n",
    "- Data from square 23 is carried only 2 steps: up twice.\n",
    "- Data from square 1024 must be carried 31 steps.\n",
    "\n",
    "How many steps are required to carry the data from the square identified in your puzzle input all the way to the access port?\n",
    "\n",
    "Your puzzle input is *368078.*"
   ]
  },
  {
   "cell_type": "markdown",
   "metadata": {
    "collapsed": true
   },
   "source": [
    "### Some quick thoughts\n",
    "- First off, the problem could be thought of in terms of nested $ n \\times n $ squares."
   ]
  },
  {
   "cell_type": "code",
   "execution_count": 15,
   "metadata": {
    "collapsed": false
   },
   "outputs": [],
   "source": [
    "from numpy import sqrt, floor, ceil\n",
    "\n",
    "def prev_odd_sqrt(n):\n",
    "    if int(ceil(sqrt(n)))**2 == n:\n",
    "        n = n - 1\n",
    "    prev_sqrt = int(floor(sqrt(n)))\n",
    "\n",
    "    if prev_sqrt % 2 == 0:\n",
    "        prev_sqrt -= 1\n",
    "    \n",
    "    return prev_sqrt\n",
    "\n",
    "\n",
    "def relative_position(n):\n",
    "    if n == 1:\n",
    "        x, y = 0,0 \n",
    "    else:\n",
    "        m = prev_odd_sqrt(n) \n",
    "        m_squared = m**2\n",
    "        n_square = m/2 + 1\n",
    "        edge_len = 2 * n_square\n",
    "        ordered_edge = int(ceil((n - m_squared) / (m + 1.0)))\n",
    "        \n",
    "        if ordered_edge == 1:\n",
    "            x =   n_square\n",
    "            y = (-n_square + 1) + (n - (m_squared + 1)) \n",
    "                        \n",
    "        elif ordered_edge == 2:\n",
    "            x =  n_square - (n - (m_squared + edge_len ))            \n",
    "            y =  n_square\n",
    "                        \n",
    "        elif ordered_edge == 3:\n",
    "            x = - n_square\n",
    "            y = n_square - (n - (m_squared + 2 * edge_len))\n",
    "        \n",
    "        elif ordered_edge == 4:\n",
    "            x = - n_square + (n - (m_squared + 3 * edge_len))\n",
    "            y = - n_square\n",
    "    \n",
    "    return x, y\n",
    "\n",
    "def manhattan_spiral_distance(n):\n",
    "    row, col = relative_position(n)\n",
    "    return abs(row) + abs(col)"
   ]
  },
  {
   "cell_type": "code",
   "execution_count": 16,
   "metadata": {
    "collapsed": false
   },
   "outputs": [],
   "source": [
    "assert (manhattan_spiral_distance(1) == 0)\n",
    "assert (manhattan_spiral_distance(12) == 3)\n",
    "assert (manhattan_spiral_distance(23) == 2)\n",
    "assert (manhattan_spiral_distance(1024) == 31)"
   ]
  },
  {
   "cell_type": "code",
   "execution_count": 17,
   "metadata": {
    "collapsed": false
   },
   "outputs": [
    {
     "name": "stdout",
     "output_type": "stream",
     "text": [
      "371\n"
     ]
    }
   ],
   "source": [
    "print manhattan_spiral_distance(368078)"
   ]
  },
  {
   "cell_type": "markdown",
   "metadata": {},
   "source": [
    "## [Day 3](http://adventofcode.com/2017/day/3): Spiral Memory (part 2)\n",
    "\n",
    "As a stress test on the system, the programs here clear the grid and then store the value 1 in square 1. Then, in the same allocation order as shown above, they store the sum of the values in all adjacent squares, including diagonals.\n",
    "\n",
    "So, the first few squares' values are chosen as follows:\n",
    "\n",
    "- Square 1 starts with the value 1.\n",
    "- Square 2 has only one adjacent filled square (with value 1), so it also stores 1.\n",
    "- Square 3 has both of the above squares as neighbors and stores the sum of their values, 2.\n",
    "- Square 4 has all three of the aforementioned squares as neighbors and stores the sum of their values, 4.\n",
    "- Square 5 only has the first and fourth squares as neighbors, so it gets the value 5.\n",
    "\n",
    "Once a square is written, its value does not change. Therefore, the first few squares would receive the following values:\n",
    "\n",
    "$$\n",
    "\\begin{array}{|c|c|c|c|c|}\n",
    "\\hline 147 & 142 & 133 & 122 &  59 \\\\\n",
    "\\hline 304 &   5 &   4 &   2 &  57 \\\\\n",
    "\\hline 330 &  10 &   1 &   1 &  54 \\\\\n",
    "\\hline 351 &  11 &  23 &  25 &  26 \\\\\n",
    "\\hline 362 & 747 & 806 & \\rightarrow & \\ldots \\\\\n",
    "\\hline\n",
    "\\end{array}\n",
    "$$\n",
    "\n",
    "What is the first value written that is larger than your puzzle input?\n",
    "\n",
    "Your puzzle input is still *368078.*"
   ]
  },
  {
   "cell_type": "markdown",
   "metadata": {},
   "source": [
    "### Quick thoughts\n",
    "One way that we can do this is to figure out what cells are adjacent to any cell, and to figure out which already have been computed."
   ]
  },
  {
   "cell_type": "code",
   "execution_count": 18,
   "metadata": {
    "collapsed": false
   },
   "outputs": [],
   "source": [
    "def edge_helper(n):\n",
    "    m = prev_odd_sqrt(n) \n",
    "    m_squared = m**2\n",
    "    n_square = m/2 + 1\n",
    "    edge_len = 2 * n_square\n",
    "    ordered_edge = int(ceil((n - m_squared) / (m + 1.0)))\n",
    "    \n",
    "    return m, m_squared, n_square, edge_len, ordered_edge\n",
    "\n",
    "\n",
    "def get_first_on_edge(n_square, ordered_edge):\n",
    "    m = 2 * (n_square - 1) + 1\n",
    "    m_squared = m**2\n",
    "    edge_len = 2 * n_square\n",
    "    return m_squared + (ordered_edge - 1) * edge_len + 1\n",
    "\n",
    "def get_last_on_edge(n_square, ordered_edge):\n",
    "    m = 2 * (n_square - 1) + 1\n",
    "    m_squared = m**2\n",
    "    edge_len = 2 * n_square\n",
    "    return m_squared + ordered_edge * edge_len\n",
    "\n",
    "def is_first_on_edge(n):    \n",
    "    if n == 1:\n",
    "        first_on_edge = True\n",
    "    else:\n",
    "        m, m_squared, n_square, edge_len, ordered_edge = edge_helper(n)\n",
    "        is_first_on_edge = (n == get_first_on_edge(n_square, ordered_edge))        \n",
    "    return is_first_on_edge\n",
    "\n",
    "def is_last_on_edge(n):    \n",
    "    if n == 1:\n",
    "        last_on_edge = True\n",
    "    else:\n",
    "        m, m_squared, n_square, edge_len, ordered_edge = edge_helper(n)\n",
    "        is_last_on_edge = (n == get_last_on_edge(n_square, ordered_edge))\n",
    "    return is_last_on_edge\n",
    "\n",
    "def left(n):\n",
    "    if n == 1:\n",
    "        left = 6\n",
    "    else:\n",
    "        m, m_squared, n_square, edge_len, ordered_edge = edge_helper(n)\n",
    "        if ordered_edge == 1:\n",
    "            if is_first_on_edge(n):\n",
    "                left = m_squared\n",
    "            elif is_last_on_edge(n):\n",
    "                left = n + 1\n",
    "            else:\n",
    "                left = get_first_on_edge(n_square-1, 1) + n - get_first_on_edge(n_square, 1) - 1\n",
    "\n",
    "        elif ordered_edge == 2:\n",
    "            if not is_last_on_edge(n):\n",
    "                left = n + 1\n",
    "            else:\n",
    "                left = get_first_on_edge(n_square+1, 3)\n",
    "                \n",
    "        elif ordered_edge == 3:\n",
    "            left = get_first_on_edge(n_square+1, 3) + (n - get_first_on_edge(n_square, 3)) + 1\n",
    "\n",
    "        elif ordered_edge == 4:\n",
    "            left = n - 1\n",
    "            \n",
    "    return left\n",
    "\n",
    "def right(n):\n",
    "    if n == 1:\n",
    "        right = 2\n",
    "    else:\n",
    "        m, m_squared, n_square, edge_len, ordered_edge = edge_helper(n)\n",
    "        if ordered_edge == 1:\n",
    "            right = get_first_on_edge(n_square+1, 1) + (n - get_first_on_edge(n_square, 1)) + 1\n",
    "\n",
    "        elif ordered_edge == 2:\n",
    "            right = n - 1\n",
    "                \n",
    "        elif ordered_edge == 3:\n",
    "            if not is_last_on_edge(n):\n",
    "                right = get_last_on_edge(n_square-1, 2) + (n - get_first_on_edge(n_square, 3))\n",
    "            else:\n",
    "                right = n + 1\n",
    "\n",
    "        elif ordered_edge == 4:\n",
    "            right = n + 1\n",
    "            \n",
    "    return right\n",
    "\n",
    "def up(n):\n",
    "    if n == 1:\n",
    "        up = 4\n",
    "    else:\n",
    "        m, m_squared, n_square, edge_len, ordered_edge = edge_helper(n)\n",
    "        if ordered_edge == 1:\n",
    "            if not is_last_on_edge(n):\n",
    "                up = n + 1\n",
    "            else:\n",
    "                up = get_first_on_edge(n_square + 1, 2)\n",
    "        elif ordered_edge == 2:\n",
    "            up = get_first_on_edge(n_square + 1, 2) + (n - get_first_on_edge(n_square, 2)) + 1\n",
    "        elif ordered_edge == 3:\n",
    "            up = n -1\n",
    "        elif ordered_edge == 4:\n",
    "            up = get_last_on_edge(n_square - 1, 3) + (n - get_first_on_edge(n_square, 4))\n",
    "            \n",
    "    return up\n",
    "\n",
    "def down(n):\n",
    "    if n == 1:\n",
    "        down = 8\n",
    "    else:\n",
    "        m, m_squared, n_square, edge_len, ordered_edge = edge_helper(n)\n",
    "        if ordered_edge == 1:\n",
    "            if is_first_on_edge(n):\n",
    "                down = get_last_on_edge(n_square, 4)\n",
    "            else:\n",
    "                down = n -1\n",
    "        elif ordered_edge == 2:\n",
    "            if is_last_on_edge(n):\n",
    "                down = n + 1\n",
    "            else:\n",
    "                down = get_last_on_edge(n_square - 1, 1) + (n - get_first_on_edge(n_square, 2))\n",
    "        elif ordered_edge == 3:\n",
    "            if is_last_on_edge(n):\n",
    "                down = get_first_on_edge(n_square + 1, 4)\n",
    "            else:\n",
    "                down = n + 1\n",
    "        elif ordered_edge == 4:\n",
    "            down = get_first_on_edge(n_square + 1, 4) + (n - get_first_on_edge(n_square, 4)) + 1            \n",
    "    return down\n",
    "\n",
    "def up_left(n):\n",
    "    up_left = left(up(n))\n",
    "    return up_left\n",
    "\n",
    "def down_left(n):\n",
    "    down_left = left(down(n))\n",
    "    return down_left\n",
    "\n",
    "def up_right(n):\n",
    "    up_right = right(up(n))\n",
    "    return up_right\n",
    "\n",
    "def down_right(n):\n",
    "    down_right = right(down(n))\n",
    "    return down_right\n",
    "\n",
    "def adjacent(n):\n",
    "    return [right(n), up_right(n), up(n), up_left(n), left(n), down_left(n), down(n), down_right(n)]\n",
    "\n",
    "def adjacent_below(n):\n",
    "    return [x for x in adjacent(n) if x < n]\n",
    "    "
   ]
  },
  {
   "cell_type": "code",
   "execution_count": 19,
   "metadata": {
    "collapsed": false
   },
   "outputs": [],
   "source": [
    "# Pad with 0 to index at 1 because I just want to be done with this...\n",
    "def find_first_bigger_adj_sum(input_in):\n",
    "    adjacent_sum_list = [0,1]\n",
    "    i = 2\n",
    "    while adjacent_sum_list[i - 1] < input_3 :\n",
    "        adjacent_sum_list.append(sum([adjacent_sum_list[kk] for kk in adjacent_below(i)]))\n",
    "        i += 1\n",
    "    return adjacent_sum_list[i-1]\n"
   ]
  },
  {
   "cell_type": "code",
   "execution_count": 20,
   "metadata": {
    "collapsed": false
   },
   "outputs": [
    {
     "name": "stdout",
     "output_type": "stream",
     "text": [
      "369601\n"
     ]
    }
   ],
   "source": [
    "input_3 = 368078\n",
    "print find_first_bigger_adj_sum(input_3)"
   ]
  },
  {
   "cell_type": "markdown",
   "metadata": {
    "collapsed": true
   },
   "source": [
    "## [Day 4](http://adventofcode.com/2017/day/4): High-Entropy Passphrases (part 1)\n",
    "\n",
    "A new system policy has been put in place that requires all accounts to use a passphrase instead of simply a password. A passphrase consists of a series of words (lowercase letters) separated by spaces.\n",
    "\n",
    "To ensure security, a valid passphrase must contain no duplicate words.\n",
    "\n",
    "For example:\n",
    "\n",
    "- aa bb cc dd ee *is valid*.\n",
    "- aa bb cc dd aa *is not valid* - the word aa appears more than once.\n",
    "- aa bb cc dd aaa *is valid* - aa and aaa count as different words.\n",
    "\n",
    "The system's full passphrase list is available as your puzzle input. How many passphrases are valid?\n"
   ]
  },
  {
   "cell_type": "code",
   "execution_count": 21,
   "metadata": {
    "collapsed": false
   },
   "outputs": [],
   "source": [
    "f = open('./inputs/input4', 'r')\n",
    "input4 = list(f)\n",
    "input4 = map(lambda x: x.strip('\\n'), input4)\n",
    "f.close()"
   ]
  },
  {
   "cell_type": "code",
   "execution_count": 22,
   "metadata": {
    "collapsed": true
   },
   "outputs": [],
   "source": [
    "def is_valid_passphrase(phrase):\n",
    "    phrase = phrase.split(' ')\n",
    "    return len(phrase) == len(set(phrase))\n",
    "\n",
    "def count_valid_phrases(phrase_list, phrase_validator):\n",
    "    count = 0\n",
    "    for phrase in phrase_list:\n",
    "        if phrase_validator(phrase):\n",
    "            count += 1\n",
    "    return count"
   ]
  },
  {
   "cell_type": "code",
   "execution_count": 23,
   "metadata": {
    "collapsed": false
   },
   "outputs": [],
   "source": [
    "assert(is_valid_passphrase('aa bb cc dd ee') == True)\n",
    "assert(is_valid_passphrase('aa bb cc dd aa') == False)\n",
    "assert(is_valid_passphrase('aa bb cc dd aaa') == True)"
   ]
  },
  {
   "cell_type": "code",
   "execution_count": 24,
   "metadata": {
    "collapsed": false
   },
   "outputs": [
    {
     "name": "stdout",
     "output_type": "stream",
     "text": [
      "337\n"
     ]
    }
   ],
   "source": [
    "print count_valid_phrases(input4, is_valid_passphrase)"
   ]
  },
  {
   "cell_type": "markdown",
   "metadata": {},
   "source": [
    "## [Day 4](http://adventofcode.com/2017/day/4): High-Entropy Passphrases (part 2)\n",
    "\n",
    "For added security, yet another system policy has been put in place. Now, a valid passphrase must contain no two words that are anagrams of each other - that is, a passphrase is invalid if any word's letters can be rearranged to form any other word in the passphrase.\n",
    "\n",
    "For example:\n",
    "\n",
    "- abcde fghij is a valid passphrase.\n",
    "- abcde xyz ecdab is not valid - the letters from the third word can be rearranged to form the first word.\n",
    "- a ab abc abd abf abj is a valid passphrase, because all letters need to be used when forming another word.\n",
    "- iiii oiii ooii oooi oooo is valid.\n",
    "- oiii ioii iioi iiio is not valid - any of these words can be rearranged to form any other word.\n",
    "\n",
    "Under this new system policy, how many passphrases are valid?"
   ]
  },
  {
   "cell_type": "code",
   "execution_count": 25,
   "metadata": {
    "collapsed": true
   },
   "outputs": [],
   "source": [
    "def is_valid_passphrase_v2(phrase):\n",
    "    phrase = phrase.split(' ')\n",
    "    phrase = map(lambda word: ''.join(sorted(list(word))), phrase)\n",
    "    return len(phrase) == len(set(phrase))"
   ]
  },
  {
   "cell_type": "code",
   "execution_count": 26,
   "metadata": {
    "collapsed": false
   },
   "outputs": [],
   "source": [
    "assert(True == is_valid_passphrase_v2('abcde fghij'))\n",
    "assert(False == is_valid_passphrase_v2('abcde xyz ecdab'))\n",
    "assert(True == is_valid_passphrase_v2('a ab abc abd abf abj'))\n",
    "assert(True == is_valid_passphrase_v2('iiii oiii ooii oooi oooo'))\n",
    "assert(False == is_valid_passphrase_v2('oiii ioii iioi iiio'))"
   ]
  },
  {
   "cell_type": "code",
   "execution_count": 27,
   "metadata": {
    "collapsed": false
   },
   "outputs": [
    {
     "name": "stdout",
     "output_type": "stream",
     "text": [
      "231\n"
     ]
    }
   ],
   "source": [
    "print count_valid_phrases(input4, is_valid_passphrase_v2)"
   ]
  },
  {
   "cell_type": "markdown",
   "metadata": {
    "collapsed": true
   },
   "source": [
    "## [Day 5](http://adventofcode.com/2017/day/5): A Maze of Twisty Trampolines, All Alike (part 1)\n",
    "\n",
    "An urgent interrupt arrives from the CPU: it's trapped in a maze of jump instructions, and it would like assistance from any programs with spare cycles to help find the exit.\n",
    "\n",
    "The message includes a list of the offsets for each jump. Jumps are relative: -1 moves to the previous instruction, and 2 skips the next one. Start at the first instruction in the list. The goal is to follow the jumps until one leads outside the list.\n",
    "\n",
    "In addition, these instructions are a little strange; after each jump, the offset of that instruction increases by 1. So, if you come across an offset of 3, you would move three instructions forward, but change it to a 4 for the next time it is encountered.\n",
    "\n",
    "For example, consider the following list of jump offsets:\n",
    "\n",
    "$$\n",
    "\\begin{array}{c}\n",
    "0 \\\\\n",
    "3 \\\\\n",
    "0 \\\\\n",
    "1 \\\\\n",
    "-3 \\\\\n",
    "\\end{array}\n",
    "$$\n",
    "\n",
    "Positive jumps (\"forward\") move downward; negative jumps move upward. For legibility in this example, these offset values will be written all on one line, with the current instruction marked in parentheses. The following steps would be taken before an exit is found:\n",
    "\n",
    "- (0) 3  0  1  -3  - before we have taken any steps.\n",
    "- (1) 3  0  1  -3  - jump with offset 0 (that is, don't jump at all). Fortunately, the instruction is then incremented to 1.\n",
    "- 2 (3) 0  1  -3  - step forward because of the instruction we just modified. The first instruction is incremented again, now to 2.\n",
    "- 2  4  0  1 (-3) - jump all the way to the end; leave a 4 behind.\n",
    "- 2 (4) 0  1  -2  - go back to where we just were; increment -3 to -2.\n",
    "- 2  5  0  1  -2  - jump 4 steps forward, escaping the maze.\n",
    "\n",
    "In this example, the exit is reached in 5 steps.\n",
    "\n",
    "How many steps does it take to reach the exit?"
   ]
  },
  {
   "cell_type": "code",
   "execution_count": 28,
   "metadata": {
    "collapsed": false
   },
   "outputs": [],
   "source": [
    "f = open('./inputs/input5','r')\n",
    "input5 = list(f)\n",
    "input5 = map(lambda x: int(x.strip('\\n')), input5)\n",
    "f.close()"
   ]
  },
  {
   "cell_type": "code",
   "execution_count": 29,
   "metadata": {
    "collapsed": false
   },
   "outputs": [],
   "source": [
    "def maze_jump(input_instructions):\n",
    "    instruction_set = input_instructions[:]\n",
    "    n_jumps = 0\n",
    "    last_pos = 0\n",
    "    current_pos = 0\n",
    "    while ((current_pos >= 0) and (current_pos < len(instruction_set))):\n",
    "        n_jumps += 1\n",
    "        last_pos = current_pos\n",
    "        current_pos = current_pos + instruction_set[current_pos]\n",
    "        instruction_set[last_pos] = instruction_set[last_pos] + 1\n",
    "    return n_jumps        "
   ]
  },
  {
   "cell_type": "code",
   "execution_count": 30,
   "metadata": {
    "collapsed": false
   },
   "outputs": [],
   "source": [
    "assert(5 == maze_jump([0,3,0,1,-3]))"
   ]
  },
  {
   "cell_type": "code",
   "execution_count": 31,
   "metadata": {
    "collapsed": false
   },
   "outputs": [
    {
     "name": "stdout",
     "output_type": "stream",
     "text": [
      "358309\n"
     ]
    }
   ],
   "source": [
    "print maze_jump(input5)"
   ]
  },
  {
   "cell_type": "markdown",
   "metadata": {},
   "source": [
    "## [Day 5](http://adventofcode.com/2017/day/5): A Maze of Twisty Trampolines, All Alike (part 2)\n",
    "\n",
    "Now, the jumps are even stranger: after each jump, if the offset was three or more, instead decrease it by 1. Otherwise, increase it by 1 as before.\n",
    "\n",
    "Using this rule with the above example, the process now takes 10 steps, and the offset values after finding the exit are left as 2 3 2 3 -1.\n",
    "\n",
    "How many steps does it now take to reach the exit?"
   ]
  },
  {
   "cell_type": "code",
   "execution_count": 32,
   "metadata": {
    "collapsed": true
   },
   "outputs": [],
   "source": [
    "def maze_jump_v2(input_instructions):\n",
    "    instruction_set = input_instructions[:]\n",
    "    n_jumps = 0\n",
    "    last_pos = 0\n",
    "    current_pos = 0\n",
    "    while ((current_pos >= 0) and (current_pos < len(instruction_set))):\n",
    "        n_jumps += 1\n",
    "        last_pos = current_pos\n",
    "        current_pos = current_pos + instruction_set[current_pos]\n",
    "        if (instruction_set[last_pos] >= 3):\n",
    "            instruction_set[last_pos] = instruction_set[last_pos] - 1\n",
    "        else:\n",
    "            instruction_set[last_pos] = instruction_set[last_pos] + 1\n",
    "    return n_jumps        "
   ]
  },
  {
   "cell_type": "code",
   "execution_count": 33,
   "metadata": {
    "collapsed": false
   },
   "outputs": [],
   "source": [
    "assert(10 == maze_jump_v2([0,3,0,1,-3]))"
   ]
  },
  {
   "cell_type": "code",
   "execution_count": 34,
   "metadata": {
    "collapsed": false
   },
   "outputs": [
    {
     "name": "stdout",
     "output_type": "stream",
     "text": [
      "28178177\n"
     ]
    }
   ],
   "source": [
    "print maze_jump_v2(input5)"
   ]
  },
  {
   "cell_type": "markdown",
   "metadata": {},
   "source": [
    "## [Day 6](http://adventofcode.com/2017/day/6): Memory Reallocation\n",
    "\n",
    "### Part 1\n",
    "\n",
    "A debugger program here is having an issue: it is trying to repair a memory reallocation routine, but it keeps getting stuck in an infinite loop.\n",
    "\n",
    "In this area, there are sixteen memory banks; each memory bank can hold any number of blocks. The goal of the reallocation routine is to balance the blocks between the memory banks.\n",
    "\n",
    "The reallocation routine operates in cycles. In each cycle, it finds the memory bank with the most blocks (ties won by the lowest-numbered memory bank) and redistributes those blocks among the banks. To do this, it removes all of the blocks from the selected bank, then moves to the next (by index) memory bank and inserts one of the blocks. It continues doing this until it runs out of blocks; if it reaches the last memory bank, it wraps around to the first one.\n",
    "\n",
    "The debugger would like to know how many redistributions can be done before a blocks-in-banks configuration is produced that has been seen before.\n",
    "\n",
    "For example, imagine a scenario with only four memory banks:\n",
    "\n",
    "- The banks start with 0, 2, 7, and 0 blocks. The third bank has the most blocks, so it is chosen for redistribution.\n",
    "- Starting with the next bank (the fourth bank) and then continuing to the first bank, the second bank, and so on, the 7 blocks are spread out over the memory banks. The fourth, first, and second banks get two blocks each, and the third bank gets one back. The final result looks like this: 2 4 1 2.\n",
    "- Next, the second bank is chosen because it contains the most blocks (four). Because there are four memory banks, each gets one block. The result is: 3 1 2 3.\n",
    "- Now, there is a tie between the first and fourth memory banks, both of which have three blocks. The first bank wins the tie, and its three blocks are distributed evenly over the other three banks, leaving it with none: 0 2 3 4.\n",
    "- The fourth bank is chosen, and its four blocks are distributed such that each of the four banks receives one: 1 3 4 1.\n",
    "- The third bank is chosen, and the same thing happens: 2 4 1 2.\n",
    "\n",
    "At this point, we've reached a state we've seen before: 2 4 1 2 was already seen. The infinite loop is detected after the fifth block redistribution cycle, and so the answer in this example is 5.\n",
    "\n",
    "Given the initial block counts in your puzzle input, how many redistribution cycles must be completed before a configuration is produced that has been seen before?\n",
    "\n",
    "### Part 2\n",
    "\n",
    "Out of curiosity, the debugger would also like to know the size of the loop: starting from a state that has already been seen, how many block redistribution cycles must be performed before that same state is seen again?\n",
    "\n",
    "In the example above, 2 4 1 2 is seen again after four cycles, and so the answer in that example would be 4.\n",
    "\n",
    "How many cycles are in the infinite loop that arises from the configuration in your puzzle input?\n"
   ]
  },
  {
   "cell_type": "code",
   "execution_count": 35,
   "metadata": {
    "collapsed": false
   },
   "outputs": [],
   "source": [
    "f = open('./inputs/input6','r')\n",
    "input6 = map(int, f.read().split('\\t'))\n",
    "f.close()"
   ]
  },
  {
   "cell_type": "code",
   "execution_count": 36,
   "metadata": {
    "collapsed": false
   },
   "outputs": [],
   "source": [
    "import operator\n",
    "\n",
    "def realloc_until_repeat(input_state):\n",
    "    n_banks = len(input_state)\n",
    "    n_reallocations = 0\n",
    "    observed_states = [input_state[:]]\n",
    "    current_state = input_state[:]\n",
    "    seen_before = False\n",
    "    \n",
    "    while(not seen_before):                \n",
    "        # find the biggest block\n",
    "        max_block = max(current_state)\n",
    "        idx_max_block = current_state.index(max_block)\n",
    "        \n",
    "        # remove the blocks from the biggest bank and\n",
    "        # redistribute the biggest block amongst the banks\n",
    "        current_state[idx_max_block] = 0\n",
    "        undistributed_blocks = max_block\n",
    "        idx_current = idx_max_block\n",
    "        \n",
    "        while (undistributed_blocks > 0):\n",
    "            # increment to next bank to deposit a block\n",
    "            # cycle back to 0 if we're at the last bank\n",
    "            idx_current = (idx_current + 1) % n_banks \n",
    "\n",
    "            # deposit 1 block in the current bank\n",
    "            current_state[idx_current] = current_state[idx_current] + 1\n",
    "            undistributed_blocks = undistributed_blocks - 1\n",
    "\n",
    "        # just finished a reallocation, record and update list of observed states\n",
    "        n_reallocations += 1\n",
    "        seen_before = current_state in observed_states\n",
    "        observed_states.append(current_state[:])\n",
    "\n",
    "    # which state did the repetition occur at?\n",
    "    repeated_state = current_state\n",
    "    cycles_to_repeat = observed_states.index(repeated_state)\n",
    "    repeated_cycle_length = n_reallocations - cycles_to_repeat\n",
    "    \n",
    "    return n_reallocations, cycles_to_repeat, repeated_cycle_length\n"
   ]
  },
  {
   "cell_type": "code",
   "execution_count": 37,
   "metadata": {
    "collapsed": false
   },
   "outputs": [],
   "source": [
    "# part 1\n",
    "assert(5 == realloc_until_repeat([0,2,7,0])[0])\n",
    "# part 2\n",
    "assert(4 == realloc_until_repeat([0,2,7,0])[2])"
   ]
  },
  {
   "cell_type": "code",
   "execution_count": 38,
   "metadata": {
    "collapsed": false
   },
   "outputs": [
    {
     "name": "stdout",
     "output_type": "stream",
     "text": [
      "Day 6 Part 1: n reallocations before repetition = 12841\n",
      "Day 6 Part 2: length of repeated cycle = 8038\n"
     ]
    }
   ],
   "source": [
    "n_reallocations, cycles_to_repeat, repeated_cycle_length = realloc_until_repeat(input6)\n",
    "\n",
    "print \"Day 6 Part 1: n reallocations before repetition = {}\".format(n_reallocations)\n",
    "print \"Day 6 Part 2: length of repeated cycle = {}\".format(repeated_cycle_length)"
   ]
  },
  {
   "cell_type": "markdown",
   "metadata": {
    "collapsed": true
   },
   "source": [
    "## [Day 7](http://adventofcode.com/2017/day/7): Recursive Circus\n",
    "\n",
    "Wandering further through the circuits of the computer, you come upon a tower of programs that have gotten themselves into a bit of trouble. A recursive algorithm has gotten out of hand, and now they're balanced precariously in a large tower.\n",
    "\n",
    "One program at the bottom supports the entire tower. It's holding a large disc, and on the disc are balanced several more sub-towers. At the bottom of these sub-towers, standing on the bottom disc, are other programs, each holding their own disc, and so on. At the very tops of these sub-sub-sub-...-towers, many programs stand simply keeping the disc below them balanced but with no disc of their own.\n",
    "\n",
    "You offer to help, but first you need to understand the structure of these towers. You ask each program to yell out their name, their weight, and (if they're holding a disc) the names of the programs immediately above them balancing on that disc. You write this information down (your puzzle input). Unfortunately, in their panic, they don't do this in an orderly fashion; by the time you're done, you're not sure which program gave which information.\n",
    "\n",
    "For example, if your list is the following:\n",
    "\n",
    "    pbga (66)\n",
    "    xhth (57)\n",
    "    ebii (61)\n",
    "    havc (66)\n",
    "    ktlj (57)\n",
    "    fwft (72) -> ktlj, cntj, xhth\n",
    "    qoyq (66)\n",
    "    padx (45) -> pbga, havc, qoyq\n",
    "    tknk (41) -> ugml, padx, fwft\n",
    "    jptl (61)\n",
    "    ugml (68) -> gyxo, ebii, jptl\n",
    "    gyxo (61)\n",
    "    cntj (57)\n",
    "\n",
    "...then you would be able to recreate the structure of the towers that looks like this:\n",
    "\n",
    "                    gyxo\n",
    "                  /     \n",
    "             ugml - ebii\n",
    "           /      \\     \n",
    "          |         jptl\n",
    "          |        \n",
    "          |         pbga\n",
    "         /        /\n",
    "    tknk --- padx - havc\n",
    "         \\        \\\n",
    "          |         qoyq\n",
    "          |             \n",
    "          |         ktlj\n",
    "           \\      /     \n",
    "             fwft - cntj\n",
    "                  \\     \n",
    "                    xhth\n",
    "\n",
    "In this example, `tknk` is at the bottom of the tower (the bottom program), and is holding up `ugml`, `padx`, and `fwft`. Those programs are, in turn, holding up other programs; in this example, none of those programs are holding up any other programs, and are all the tops of their own towers. (The actual tower balancing in front of you is much larger.)\n",
    "\n",
    "Before you're ready to help them, you need to make sure your information is correct. What is the name of the bottom program?"
   ]
  },
  {
   "cell_type": "code",
   "execution_count": 39,
   "metadata": {
    "collapsed": true
   },
   "outputs": [],
   "source": [
    "f = open('./inputs/input7','r')\n",
    "input7 = list(f)\n",
    "f.close()"
   ]
  },
  {
   "cell_type": "code",
   "execution_count": 40,
   "metadata": {
    "collapsed": false
   },
   "outputs": [],
   "source": [
    "def remove_parens(string):\n",
    "    return string.replace('(','').replace(')','')\n",
    "\n",
    "def parse_instruction(instruction):\n",
    "    # tidy up the instruction, and break it into its components\n",
    "    instruction = instruction.replace('\\n','')\n",
    "    instr_list = instruction.split('->')    \n",
    "    \n",
    "    # get the program name and weight\n",
    "    program_info = instr_list[0].split( )\n",
    "    program_name = program_info[0]\n",
    "    program_weight = int(remove_parens(program_info[1]))\n",
    "\n",
    "    # get any children\n",
    "    if len(instr_list) == 2:\n",
    "        children_names = instr_list[1].replace(' ','').split(',')\n",
    "    else:\n",
    "        children_names = []\n",
    "    \n",
    "    return (program_name, program_weight, children_names)\n",
    "\n",
    "class weighted_node:\n",
    "    def __init__(self, name, weight, children_names):\n",
    "        self.name = name\n",
    "        self.weight = weight\n",
    "        self.parent = None\n",
    "        self.parent_name = ''\n",
    "        self.children_names = children_names\n",
    "        self.children = []\n",
    "        self.weight_below = 0\n",
    "    \n",
    "    def __str__(self):\n",
    "        print_str =  'name = {}\\n'.format(self.name)\n",
    "        print_str = print_str + 'weight = {}\\n'.format(self.weight)\n",
    "        print_str = print_str + 'parent = {}\\n'.format(self.parent_name)\n",
    "        print_str = print_str + 'children = {}\\n'.format(self.children_names)\n",
    "        print_str = print_str + 'weight below = {}\\n'.format(self.weight_below)\n",
    "        return print_str\n",
    "    \n",
    "    def set_parent(self, parent):\n",
    "        self.parent = parent\n",
    "        self.parent_name = parent.name\n",
    "        parent.children.append(self)\n",
    "\n",
    "    def update_weight_below(self):\n",
    "        parent = self.parent\n",
    "        while parent != None:\n",
    "            # add nodes weight to parent's weight below\n",
    "            parent.weight_below = parent.weight_below + self.weight\n",
    "            parent = parent.parent        \n",
    "    \n",
    "    def is_balanced(self):\n",
    "        if len(self.children) > 0:\n",
    "            weights_below = [child.weight + child.weight_below for child in self.children]\n",
    "            is_balanced = len(set(weights_below)) == 1\n",
    "        else:\n",
    "            is_balanced = True\n",
    "        return is_balanced\n",
    "\n",
    "class tower:\n",
    "    def __init__(self, instruction_list):\n",
    "        tower_nodes = []\n",
    "        tower_names = []\n",
    "        \n",
    "        for curr_instruction in instruction_list:        \n",
    "            # extract info from current instruction and \n",
    "            # create the current node\n",
    "            name, weight, children_names = parse_instruction(curr_instruction)        \n",
    "            curr_node = weighted_node(name, weight, children_names)\n",
    "            \n",
    "            # check if the node had a parent\n",
    "            for node in tower_nodes:\n",
    "                if name in node.children_names:\n",
    "                    curr_node.set_parent(node)\n",
    "                    break\n",
    "            else:\n",
    "                parent = None\n",
    "            \n",
    "            # check if the children are on the list\n",
    "            for child_name in children_names:\n",
    "                try:\n",
    "                    idx_child = tower_names.index(child_name) \n",
    "                    child_node = tower_nodes[idx_child]\n",
    "                    child_node.set_parent(curr_node)\n",
    "                except ValueError:\n",
    "                    pass\n",
    "        \n",
    "            # append the current node to the tower\n",
    "            tower_nodes.append(curr_node)\n",
    "            tower_names.append(name)\n",
    "        \n",
    "        # save the nodes only\n",
    "        self.tower_nodes = tower_nodes\n",
    "        self.set_weight_below()\n",
    "\n",
    "    def set_weight_below(self):\n",
    "        curr_level_nodes = [node for node in self.tower_nodes if len(node.children_names) == 0]\n",
    "        next_level_nodes = list(set([node.parent for node in curr_level_nodes if node.parent != None]))\n",
    " \n",
    "        while len(curr_level_nodes) > 1:\n",
    "            for node in curr_level_nodes:\n",
    "                node.update_weight_below()            \n",
    "            curr_level_nodes = next_level_nodes\n",
    "            next_level_nodes = list(set([node.parent for node in curr_level_nodes if node.parent != None]))\n",
    "                            \n",
    "    def find_base(self):\n",
    "        for node in self.tower_nodes:\n",
    "            if node.parent == None:\n",
    "                break\n",
    "        return node        "
   ]
  },
  {
   "cell_type": "code",
   "execution_count": 41,
   "metadata": {
    "collapsed": false
   },
   "outputs": [],
   "source": [
    "# test on example\n",
    "instructions_str = '''pbga (66)\n",
    "xhth (57)\n",
    "ebii (61)\n",
    "havc (66)\n",
    "ktlj (57)\n",
    "fwft (72) -> ktlj, cntj, xhth\n",
    "qoyq (66)\n",
    "padx (45) -> pbga, havc, qoyq\n",
    "tknk (41) -> ugml, padx, fwft\n",
    "jptl (61)\n",
    "ugml (68) -> gyxo, ebii, jptl\n",
    "gyxo (61)\n",
    "cntj (57)'''\n",
    "instruction_list = instructions_str.split('\\n')\n",
    "\n",
    "# build tower\n",
    "tow = tower(instruction_list)\n",
    "\n",
    "# find base\n",
    "base_node = tow.find_base()\n",
    "#print base_node.name"
   ]
  },
  {
   "cell_type": "code",
   "execution_count": 42,
   "metadata": {
    "collapsed": false
   },
   "outputs": [
    {
     "name": "stdout",
     "output_type": "stream",
     "text": [
      "ykpsek\n"
     ]
    }
   ],
   "source": [
    "tow = tower(input7)\n",
    "base_node = tow.find_base()\n",
    "print base_node.name"
   ]
  },
  {
   "cell_type": "markdown",
   "metadata": {},
   "source": [
    "## [Day 7](http://adventofcode.com/2017/day/7): Part Two \n",
    "\n",
    "The programs explain the situation: they can't get down. Rather, they could get down, if they weren't expending all of their energy trying to keep the tower balanced. Apparently, one program has the wrong weight, and until it's fixed, they're stuck here.\n",
    "\n",
    "For any program holding a disc, each program standing on that disc forms a sub-tower. Each of those sub-towers are supposed to be the same weight, or the disc itself isn't balanced. The weight of a tower is the sum of the weights of the programs in that tower.\n",
    "\n",
    "In the example above, this means that for ugml's disc to be balanced, gyxo, ebii, and jptl must all have the same weight, and they do: 61.\n",
    "\n",
    "However, for tknk to be balanced, each of the programs standing on its disc and all programs above it must each match. This means that the following sums must all be the same:\n",
    "\n",
    "    ugml + (gyxo + ebii + jptl) = 68 + (61 + 61 + 61) = 251\n",
    "    padx + (pbga + havc + qoyq) = 45 + (66 + 66 + 66) = 243\n",
    "    fwft + (ktlj + cntj + xhth) = 72 + (57 + 57 + 57) = 243\n",
    "\n",
    "As you can see, tknk's disc is unbalanced: ugml's stack is heavier than the other two. Even though the nodes above ugml are balanced, ugml itself is too heavy: it needs to be 8 units lighter for its stack to weigh 243 and keep the towers balanced. If this change were made, its weight would be 60.\n",
    "\n",
    "Given that exactly one program is the wrong weight, what would its weight need to be to balance the entire tower?"
   ]
  },
  {
   "cell_type": "code",
   "execution_count": 43,
   "metadata": {
    "collapsed": false
   },
   "outputs": [
    {
     "data": {
      "text/plain": [
       "1060"
      ]
     },
     "execution_count": 43,
     "metadata": {},
     "output_type": "execute_result"
    }
   ],
   "source": [
    "def find_corrected_weight(tower):\n",
    "    unbalanced_nodes = filter( lambda node: not node.is_balanced(), tower.tower_nodes)\n",
    "    \n",
    "    # find the one unbalanced node whose children whose weigth + weight below is the same\n",
    "    # for all but one child (ie the node which has exactly two values in this set)\n",
    "    for node in unbalanced_nodes:\n",
    "        below_weights = [child.weight + child.weight_below for child in node.children]\n",
    "        distinct_below_weights = list(set(below_weights))\n",
    "        if len(distinct_below_weights) == 2:\n",
    "            break\n",
    "\n",
    "    # how much extra weight is the bad node holding?\n",
    "    max_weight = max(below_weights)\n",
    "    min_weight = min(below_weights)\n",
    "    excess_weight = max_weight - min_weight\n",
    "    \n",
    "    # select which of the children is the bad node, and calculate what it should weigh\n",
    "    idx_max_child = below_weights.index(max_weight)\n",
    "    bad_child = node.children[idx_max_child]\n",
    "    corrected_weight = bad_child.weight - excess_weight\n",
    "    \n",
    "    return corrected_weight\n",
    "\n",
    "find_corrected_weight(tow)"
   ]
  },
  {
   "cell_type": "markdown",
   "metadata": {
    "collapsed": true
   },
   "source": [
    "## [Day 8](http://adventofcode.com/2017/day/8): I Heard You Like Registers \n",
    "\n",
    "### Part 1:\n",
    "\n",
    "You receive a signal directly from the CPU. Because of your recent assistance with jump instructions, it would like you to compute the result of a series of unusual register instructions.\n",
    "\n",
    "Each instruction consists of several parts: the register to modify, whether to increase or decrease that register's value, the amount by which to increase or decrease it, and a condition. If the condition fails, skip the instruction without modifying the register. The registers all start at 0. The instructions look like this:\n",
    "\n",
    "    b inc 5 if a > 1\n",
    "    a inc 1 if b < 5\n",
    "    c dec -10 if a >= 1\n",
    "    c inc -20 if c == 10\n",
    "\n",
    "These instructions would be processed as follows:\n",
    "\n",
    "- Because a starts at 0, it is not greater than 1, and so b is not modified.\n",
    "- a is increased by 1 (to 1) because b is less than 5 (it is 0).\n",
    "- c is decreased by -10 (to 10) because a is now greater than or equal to 1 (it is 1).\n",
    "- c is increased by -20 (to -10) because c is equal to 10.\n",
    "\n",
    "After this process, the largest value in any register is 1.\n",
    "\n",
    "You might also encounter <= (less than or equal to) or != (not equal to). However, the CPU doesn't have the bandwidth to tell you what all the registers are named, and leaves that to you to determine.\n",
    "\n",
    "What is the largest value in any register after completing the instructions in your puzzle input?\n",
    "\n",
    "### Part 2:\n",
    "To be safe, the CPU also needs to know the highest value held in any register during this process so that it can decide how much memory to allocate to these operations. For example, in the above instructions, the highest value ever held was 10 (in register c after the third instruction was evaluated)."
   ]
  },
  {
   "cell_type": "code",
   "execution_count": 44,
   "metadata": {
    "collapsed": true
   },
   "outputs": [],
   "source": [
    "f = open('./inputs/input8','r')\n",
    "input8 = map(lambda x: x.strip('\\n'), list(f))\n",
    "f.close()"
   ]
  },
  {
   "cell_type": "code",
   "execution_count": 45,
   "metadata": {
    "collapsed": false
   },
   "outputs": [],
   "source": [
    "def parse_instruction(instruction_str):\n",
    "    instruction_list = instruction_str.split(' ')\n",
    "    \n",
    "    # parse instruction for current register\n",
    "    active_register = instruction_list[0]\n",
    "    register_op = instruction_list[1]\n",
    "    register_increment = int(instruction_list[2])\n",
    "    \n",
    "    # parse the comparison\n",
    "    comparison_register = instruction_list[4]\n",
    "    comparison_op = instruction_list[5]\n",
    "    comparison_value = int(instruction_list[6])\n",
    "    \n",
    "    return (active_register, register_op, register_increment, \n",
    "            comparison_register, comparison_op, comparison_value)\n",
    "\n",
    "class Registry:\n",
    "    def __init__(self, instruction_list = None):\n",
    "        self.registers = dict()\n",
    "        self.max_register_val_seen = float('-inf')\n",
    "      \n",
    "    def perform_instruction(self, instruction_str):\n",
    "        (active_register, register_op, register_increment, \n",
    "         comparison_register, comparison_op, comparison_value) = parse_instruction(instruction_str)\n",
    "        \n",
    "        if active_register not in self.registers:\n",
    "            self.registers[active_register] = 0\n",
    "        if comparison_register not in self.registers:\n",
    "            self.registers[comparison_register] = 0\n",
    "    \n",
    "        # perform the comparison\n",
    "        comparsion_result = (\n",
    "            eval('{} {} {}'.format(self.registers[comparison_register], comparison_op, comparison_value))\n",
    "            )\n",
    "        \n",
    "        # handle the comparison result\n",
    "        if comparsion_result:\n",
    "            if register_op == 'inc':\n",
    "                self.registers[active_register] += register_increment\n",
    "            elif register_op == 'dec':\n",
    "                self.registers[active_register] -= register_increment\n",
    "\n",
    "        # check to see if the current value is the biggest seen\n",
    "        active_register_value = self.registers[active_register]\n",
    "        if active_register_value > self.max_register_val_seen:\n",
    "            self.max_register_val_seen = active_register_value\n",
    "            \n",
    "    def update_registers(self, instruction_list):\n",
    "        max_register_seen = float('-inf')\n",
    "    \n",
    "        for instruction_str in instruction_list:\n",
    "            self.perform_instruction(instruction_str)\n",
    "            \n",
    "    def max_register(self):\n",
    "        return max(self.registers.values())"
   ]
  },
  {
   "cell_type": "code",
   "execution_count": 46,
   "metadata": {
    "collapsed": false
   },
   "outputs": [],
   "source": [
    "instruction_str = '''b inc 5 if a > 1\n",
    "a inc 1 if b < 5\n",
    "c dec -10 if a >= 1\n",
    "c inc -20 if c == 10'''\n",
    "instruction_list = instruction_str.split('\\n')\n",
    "\n",
    "reg = Registry()\n",
    "reg.update_registers(instruction_list)\n",
    "assert(1 == reg.max_register())"
   ]
  },
  {
   "cell_type": "code",
   "execution_count": 47,
   "metadata": {
    "collapsed": false
   },
   "outputs": [
    {
     "name": "stdout",
     "output_type": "stream",
     "text": [
      "Day 8 Part 1: max register at end = 5752\n",
      "Day 8 Part 2: max register seen = 6366\n"
     ]
    }
   ],
   "source": [
    "reg = Registry()\n",
    "reg.update_registers(input8)\n",
    "\n",
    "# part 1's answer\n",
    "max_register_at_end = reg.max_register()\n",
    "print('Day 8 Part 1: max register at end = {}'.format(max_register_at_end))\n",
    "\n",
    "# part 2's answer:\n",
    "max_register_seen = reg.max_register_val_seen\n",
    "print('Day 8 Part 2: max register seen = {}'.format(max_register_seen))\n",
    " "
   ]
  },
  {
   "cell_type": "markdown",
   "metadata": {},
   "source": [
    "## [Day 9](http://adventofcode.com/2017/day/9): Stream Processing (part 1)\n",
    "\n",
    "A large stream blocks your path. According to the locals, it's not safe to cross the stream at the moment because it's full of garbage. You look down at the stream; rather than water, you discover that it's a stream of characters.\n",
    "\n",
    "You sit for a while and record part of the stream (your puzzle input). The characters represent groups - sequences that begin with { and end with }. Within a group, there are zero or more other things, separated by commas: either another group or garbage. Since groups can contain other groups, a } only closes the most-recently-opened unclosed group - that is, they are nestable. Your puzzle input represents a single, large group which itself contains many smaller ones.\n",
    "\n",
    "Sometimes, instead of a group, you will find garbage. Garbage begins with < and ends with >. Between those angle brackets, almost any character can appear, including { and }. Within garbage, < has no special meaning.\n",
    "\n",
    "In a futile attempt to clean up the garbage, some program has canceled some of the characters within it using !: inside garbage, any character that comes after ! should be ignored, including <, >, and even another !.\n",
    "\n",
    "You don't see any characters that deviate from these rules. Outside garbage, you only find well-formed groups, and garbage always terminates according to the rules above.\n",
    "\n",
    "Here are some self-contained pieces of garbage:\n",
    "\n",
    "    <>, empty garbage.\n",
    "    <random characters>, garbage containing random characters.\n",
    "    <<<<>, because the extra < are ignored.\n",
    "    <{!>}>, because the first > is canceled.\n",
    "    <!!>, because the second ! is canceled, allowing the > to terminate the garbage.\n",
    "    <!!!>>, because the second ! and the first > are canceled.\n",
    "    <{o\"i!a,<{i<a>, which ends at the first >.\n",
    "\n",
    "Here are some examples of whole streams and the number of groups they contain:\n",
    "\n",
    "    {}, 1 group.\n",
    "    {{{}}}, 3 groups.\n",
    "    {{},{}}, also 3 groups.\n",
    "    {{{},{},{{}}}}, 6 groups.\n",
    "    {<{},{},{{}}>}, 1 group (which itself contains garbage).\n",
    "    {<a>,<a>,<a>,<a>}, 1 group.\n",
    "    {{<a>},{<a>},{<a>},{<a>}}, 5 groups.\n",
    "    {{<!>},{<!>},{<!>},{<a>}}, 2 groups (since all but the last > are canceled).\n",
    "\n",
    "Your goal is to find the total score for all groups in your input. Each group is assigned a score which is one more than the score of the group that immediately contains it. (The outermost group gets a score of 1.)\n",
    "\n",
    "    {}, score of 1.\n",
    "    {{{}}}, score of 1 + 2 + 3 = 6.\n",
    "    {{},{}}, score of 1 + 2 + 2 = 5.\n",
    "    {{{},{},{{}}}}, score of 1 + 2 + 3 + 3 + 3 + 4 = 16.\n",
    "    {<a>,<a>,<a>,<a>}, score of 1.\n",
    "    {{<ab>},{<ab>},{<ab>},{<ab>}}, score of 1 + 2 + 2 + 2 + 2 = 9.\n",
    "    {{<!!>},{<!!>},{<!!>},{<!!>}}, score of 1 + 2 + 2 + 2 + 2 = 9.\n",
    "    {{<a!>},{<a!>},{<a!>},{<ab>}}, score of 1 + 2 = 3.\n",
    "\n",
    "What is the total score for all groups in your input?"
   ]
  },
  {
   "cell_type": "code",
   "execution_count": 48,
   "metadata": {
    "collapsed": true
   },
   "outputs": [],
   "source": [
    "f = open('./inputs/input9','r')\n",
    "input9 = map(lambda x: x.strip('\\n'), list(f))\n",
    "input9 = input9[0]\n",
    "f.close()"
   ]
  },
  {
   "cell_type": "code",
   "execution_count": 49,
   "metadata": {
    "collapsed": false
   },
   "outputs": [],
   "source": [
    "def score_garbage_stream(g_stream):\n",
    "    in_group = False \n",
    "    group_depth = 0\n",
    "    total_score = 0\n",
    "    group_score = 0\n",
    "\n",
    "    in_garbage = False\n",
    "    ignore_c = False\n",
    "    \n",
    "    for c in g_stream:\n",
    "        if ignore_c:\n",
    "            ignore_c = False\n",
    "        else:\n",
    "            if c == '!':\n",
    "                ignore_c = True\n",
    "            elif c == '<':\n",
    "                in_garbage = True   \n",
    "            elif c == '>':\n",
    "                in_garbage = False\n",
    "            elif not in_garbage and c == '{':\n",
    "                in_group = True\n",
    "                group_depth += 1\n",
    "                total_score += group_depth\n",
    "            elif not in_garbage and c == '}':\n",
    "                group_depth -= 1\n",
    "    return total_score"
   ]
  },
  {
   "cell_type": "code",
   "execution_count": 50,
   "metadata": {
    "collapsed": false
   },
   "outputs": [],
   "source": [
    "assert(score_garbage_stream('{}') == 1)\n",
    "assert(score_garbage_stream('{{{}}}') == 6)\n",
    "assert(score_garbage_stream('{{},{}}') == 5)\n",
    "assert(score_garbage_stream('{{{},{},{{}}}}') == 16)\n",
    "assert(score_garbage_stream('{<a>,<a>,<a>,<a>}') == 1)\n",
    "assert(score_garbage_stream('{{<ab>},{<ab>},{<ab>},{<ab>}}') == 9)\n",
    "assert(score_garbage_stream('{{<!!>},{<!!>},{<!!>},{<!!>}}') == 9)\n",
    "assert(score_garbage_stream('{{<a!>},{<a!>},{<a!>},{<ab>}}') == 3)"
   ]
  },
  {
   "cell_type": "code",
   "execution_count": 51,
   "metadata": {
    "collapsed": false
   },
   "outputs": [
    {
     "name": "stdout",
     "output_type": "stream",
     "text": [
      "11347\n"
     ]
    }
   ],
   "source": [
    "print score_garbage_stream(input9)"
   ]
  },
  {
   "cell_type": "markdown",
   "metadata": {},
   "source": [
    "## [Day 9](http://adventofcode.com/2017/day/9): Stream Processing (part 2)\n",
    "Now, you're ready to remove the garbage.\n",
    "\n",
    "To prove you've removed it, you need to count all of the characters within the garbage. The leading and trailing < and > don't count, nor do any canceled characters or the ! doing the canceling.\n",
    "\n",
    "    <>, 0 characters.\n",
    "    <random characters>, 17 characters.\n",
    "    <<<<>, 3 characters.\n",
    "    <{!>}>, 2 characters.\n",
    "    <!!>, 0 characters.\n",
    "    <!!!>>, 0 characters.\n",
    "    <{o\"i!a,<{i<a>, 10 characters.\n",
    "\n",
    "How many non-canceled characters are within the garbage in your puzzle input?"
   ]
  },
  {
   "cell_type": "code",
   "execution_count": 52,
   "metadata": {
    "collapsed": true
   },
   "outputs": [],
   "source": [
    "def count_garbage_chars(g_stream):\n",
    "    in_group = False \n",
    "    in_garbage = False\n",
    "    ignore_c = False\n",
    "    \n",
    "    garbage_chars = 0\n",
    "    \n",
    "    for c in g_stream:\n",
    "        if ignore_c:\n",
    "            ignore_c = False\n",
    "        else:\n",
    "            if c == '!':\n",
    "                ignore_c = True\n",
    "            elif c == '>':\n",
    "                in_garbage = False                \n",
    "            elif in_garbage:\n",
    "                garbage_chars += 1\n",
    "            elif c == '<':\n",
    "                in_garbage = True\n",
    "    return garbage_chars"
   ]
  },
  {
   "cell_type": "code",
   "execution_count": 53,
   "metadata": {
    "collapsed": false
   },
   "outputs": [],
   "source": [
    "assert(0 == count_garbage_chars('<>'))\n",
    "assert(17 == count_garbage_chars('<random characters>'))\n",
    "assert(3 == count_garbage_chars('<<<<>'))\n",
    "assert(2 == count_garbage_chars('<{!>}>'))\n",
    "assert(0 == count_garbage_chars('<!!>'))\n",
    "assert(0 == count_garbage_chars('<!!!>>'))\n",
    "assert(10 == count_garbage_chars('<{o\"i!a,<{i<a>'))"
   ]
  },
  {
   "cell_type": "code",
   "execution_count": 54,
   "metadata": {
    "collapsed": false
   },
   "outputs": [
    {
     "data": {
      "text/plain": [
       "5404"
      ]
     },
     "execution_count": 54,
     "metadata": {},
     "output_type": "execute_result"
    }
   ],
   "source": [
    "count_garbage_chars(input9)"
   ]
  },
  {
   "cell_type": "markdown",
   "metadata": {
    "collapsed": true
   },
   "source": [
    "## [Day 10](http://adventofcode.com/2017/day/10): Knot Hash (part 1)\n",
    "\n",
    "You come across some programs that are trying to implement a software emulation of a hash based on knot-tying. The hash these programs are implementing isn't very strong, but you decide to help them anyway. You make a mental note to remind the Elves later not to invent their own cryptographic functions.\n",
    "\n",
    "This hash function simulates tying a knot in a circle of string with 256 marks on it. Based on the input to be hashed, the function repeatedly selects a span of string, brings the ends together, and gives the span a half-twist to reverse the order of the marks within it. After doing this many times, the order of the marks is used to build the resulting hash.\n",
    "\n",
    "      4--5   pinch   4  5           4   1\n",
    "     /    \\  5,0,1  / \\/ \\  twist  / \\ / \\\n",
    "    3      0  -->  3      0  -->  3   X   0\n",
    "     \\    /         \\ /\\ /         \\ / \\ /\n",
    "      2--1           2  1           2   5\n",
    "\n",
    "To achieve this, begin with a list of numbers from 0 to 255, a current position which begins at 0 (the first element in the list), a skip size (which starts at 0), and a sequence of lengths (your puzzle input). Then, for each length:\n",
    "\n",
    "- Reverse the order of that length of elements in the list, starting with the element at the current position.\n",
    "- Move the current position forward by that length plus the skip size.\n",
    "- Increase the skip size by one.\n",
    "\n",
    "The list is circular; if the current position and the length try to reverse elements beyond the end of the list, the operation reverses using as many extra elements as it needs from the front of the list. If the current position moves past the end of the list, it wraps around to the front. Lengths larger than the size of the list are invalid.\n",
    "\n",
    "Here's an example using a smaller list:\n",
    "\n",
    "Suppose we instead only had a circular list containing five elements, 0, 1, 2, 3, 4, and were given input lengths of 3, 4, 1, 5.\n",
    "\n",
    "- The list begins as [0] 1 2 3 4 (where square brackets indicate the current position).\n",
    "- The first length, 3, selects ([0] 1 2) 3 4 (where parentheses indicate the sublist to be reversed).\n",
    "- After reversing that section (0 1 2 into 2 1 0), we get ([2] 1 0) 3 4.\n",
    "- Then, the current position moves forward by the length, 3, plus the skip size, 0: 2 1 0 [3] 4. Finally, the skip size increases to 1.\n",
    "\n",
    "- The second length, 4, selects a section which wraps: 2 1) 0 ([3] 4.\n",
    "- The sublist 3 4 2 1 is reversed to form 1 2 4 3: 4 3) 0 ([1] 2.\n",
    "- The current position moves forward by the length plus the skip size, a total of 5, causing it not to move because it wraps around: 4 3 0 [1] 2. The skip size increases to 2.\n",
    "\n",
    "- The third length, 1, selects a sublist of a single element, and so reversing it has no effect.\n",
    "- The current position moves forward by the length (1) plus the skip size (2): 4 [3] 0 1 2. The skip size increases to 3.\n",
    "\n",
    "- The fourth length, 5, selects every element starting with the second: 4) ([3] 0 1 2. Reversing this sublist (3 0 1 2 4 into 4 2 1 0 3) produces: 3) ([4] 2 1 0.\n",
    "- Finally, the current position moves forward by 8: 3 4 2 1 [0]. The skip size increases to 4.\n",
    "\n",
    "In this example, the first two numbers in the list end up being 3 and 4; to check the process, you can multiply them together to produce 12.\n",
    "\n",
    "However, you should instead use the standard list size of 256 (with values 0 to 255) and the sequence of lengths in your puzzle input. Once this process is complete, what is the result of multiplying the first two numbers in the list?"
   ]
  },
  {
   "cell_type": "code",
   "execution_count": 55,
   "metadata": {
    "collapsed": false
   },
   "outputs": [],
   "source": [
    "f = open('./inputs/input10','r')\n",
    "input10 = map(lambda x: x.strip('\\n'), list(f))[0]\n",
    "input10 = map(int, input10.split(','))\n",
    "f.close()"
   ]
  },
  {
   "cell_type": "code",
   "execution_count": 56,
   "metadata": {
    "collapsed": false
   },
   "outputs": [
    {
     "data": {
      "text/plain": [
       "[102, 255, 99, 252, 200, 24, 219, 57, 103, 2, 226, 254, 1, 0, 69, 216]"
      ]
     },
     "execution_count": 56,
     "metadata": {},
     "output_type": "execute_result"
    }
   ],
   "source": [
    "input10"
   ]
  },
  {
   "cell_type": "code",
   "execution_count": 57,
   "metadata": {
    "collapsed": true
   },
   "outputs": [],
   "source": [
    "def circle_reverse(l, lo, hi):\n",
    "    n = len(l)\n",
    "    if hi < len(l):\n",
    "        l[lo:hi+1] = list(reversed(l[lo:hi+1]))\n",
    "    else:\n",
    "        l_to_reverse = []\n",
    "        for i in range(lo, hi + 1):\n",
    "            l_to_reverse.append(l[i % n])\n",
    "        l_to_reverse = list(reversed(l_to_reverse))\n",
    "        for i in range(lo, hi + 1):\n",
    "            l[i % n] =  l_to_reverse[(i - lo) % n]\n",
    "    return l\n",
    "\n",
    "def elf_hash(hash_list, input_lengths):\n",
    "    n = len(hash_list)\n",
    "    vals = range(n)\n",
    "    skip_size = 0\n",
    "    pos = 0\n",
    "    for length in input_lengths:\n",
    "        circle_reverse(vals, pos, pos + length - 1)\n",
    "        pos = (pos + length + skip_size) % (n)\n",
    "        skip_size += 1        \n",
    "    return vals, pos, skip_size\n",
    "        "
   ]
  },
  {
   "cell_type": "code",
   "execution_count": 58,
   "metadata": {
    "collapsed": false
   },
   "outputs": [],
   "source": [
    "eh = elf_hash([0,1,2,3,4], [3,4,1,5])\n",
    "vals, pos, skip_size = eh\n",
    "assert(vals[0] * vals[1] == 12)"
   ]
  },
  {
   "cell_type": "code",
   "execution_count": 59,
   "metadata": {
    "collapsed": false
   },
   "outputs": [
    {
     "name": "stdout",
     "output_type": "stream",
     "text": [
      "5577\n"
     ]
    }
   ],
   "source": [
    "eh = elf_hash(range(0,256), input10)\n",
    "vals, pos, skip_size = eh\n",
    "print vals[0] * vals[1]"
   ]
  },
  {
   "cell_type": "markdown",
   "metadata": {},
   "source": [
    "## [Day 10](http://adventofcode.com/2017/day/10): Knot Hash (part 2)\n",
    "\n",
    "The logic you've constructed forms a single round of the Knot Hash algorithm; running the full thing requires many of these rounds. Some input and output processing is also required.\n",
    "\n",
    "First, from now on, your input should be taken not as a list of numbers, but as a string of bytes instead. Unless otherwise specified, convert characters to bytes using their ASCII codes. This will allow you to handle arbitrary ASCII strings, and it also ensures that your input lengths are never larger than 255. For example, if you are given 1,2,3, you should convert it to the ASCII codes for each character: 49,44,50,44,51.\n",
    "\n",
    "Once you have determined the sequence of lengths to use, add the following lengths to the end of the sequence: 17, 31, 73, 47, 23. For example, if you are given 1,2,3, your final sequence of lengths should be 49,44,50,44,51,17,31,73,47,23 (the ASCII codes from the input string combined with the standard length suffix values).\n",
    "\n",
    "Second, instead of merely running one round like you did above, run a total of 64 rounds, using the same length sequence in each round. The current position and skip size should be preserved between rounds. For example, if the previous example was your first round, you would start your second round with the same length sequence (3, 4, 1, 5, 17, 31, 73, 47, 23, now assuming they came from ASCII codes and include the suffix), but start with the previous round's current position (4) and skip size (4).\n",
    "\n",
    "Once the rounds are complete, you will be left with the numbers from 0 to 255 in some order, called the sparse hash. Your next task is to reduce these to a list of only 16 numbers called the dense hash. To do this, use numeric bitwise XOR to combine each consecutive block of 16 numbers in the sparse hash (there are 16 such blocks in a list of 256 numbers). So, the first element in the dense hash is the first sixteen elements of the sparse hash XOR'd together, the second element in the dense hash is the second sixteen elements of the sparse hash XOR'd together, etc.\n",
    "\n",
    "For example, if the first sixteen elements of your sparse hash are as shown below, and the XOR operator is ^, you would calculate the first output number like this:\n",
    "\n",
    "65 ^ 27 ^ 9 ^ 1 ^ 4 ^ 3 ^ 40 ^ 50 ^ 91 ^ 7 ^ 6 ^ 0 ^ 2 ^ 5 ^ 68 ^ 22 = 64\n",
    "\n",
    "Perform this operation on each of the sixteen blocks of sixteen numbers in your sparse hash to determine the sixteen numbers in your dense hash.\n",
    "\n",
    "Finally, the standard way to represent a Knot Hash is as a single hexadecimal string; the final output is the dense hash in hexadecimal notation. Because each number in your dense hash will be between 0 and 255 (inclusive), always represent each number as two hexadecimal digits (including a leading zero as necessary). So, if your first three numbers are 64, 7, 255, they correspond to the hexadecimal numbers 40, 07, ff, and so the first six characters of the hash would be 4007ff. Because every Knot Hash is sixteen such numbers, the hexadecimal representation is always 32 hexadecimal digits (0-f) long.\n",
    "\n",
    "Here are some example hashes:\n",
    "\n",
    "    The empty string becomes a2582a3a0e66e6e86e3812dcb672a272.\n",
    "    AoC 2017 becomes 33efeb34ea91902bb2f59c9920caa6cd.\n",
    "    1,2,3 becomes 3efbe78a8d82f29979031a4aa0b16a9d.\n",
    "    1,2,4 becomes 63960835bcdc130f0b66d7ff4f6a5a8e.\n",
    "\n",
    "Treating your puzzle input as a string of ASCII characters, what is the Knot Hash of your puzzle input? Ignore any leading or trailing whitespace you might encounter."
   ]
  },
  {
   "cell_type": "code",
   "execution_count": 60,
   "metadata": {
    "collapsed": false
   },
   "outputs": [],
   "source": [
    "f = open('./inputs/input10','r')\n",
    "input10v2 = map(lambda x: x.strip('\\n'), list(f))[0]\n",
    "f.close()"
   ]
  },
  {
   "cell_type": "code",
   "execution_count": 61,
   "metadata": {
    "collapsed": false
   },
   "outputs": [],
   "source": [
    "def knot_hash(input_string):\n",
    "    # convert the input character stream to their ascii values\n",
    "    # and use them as lengths\n",
    "    lengths = map(ord, list(input_string))\n",
    "    \n",
    "    # append the extra lengths to the end\n",
    "    extra_lengths = [17, 31, 73, 47, 23]\n",
    "    lengths.extend(extra_lengths)\n",
    "\n",
    "    # set up\n",
    "    hash_list = range(256)    \n",
    "    pos = 0\n",
    "    skip_size = 0\n",
    "    \n",
    "    # apply the knot algorithm to the hash_list 64 times\n",
    "    for i in range(64):\n",
    "        for length in lengths:\n",
    "            circle_reverse(hash_list, pos, pos + length - 1)\n",
    "            pos = (pos + length + skip_size) % (256)\n",
    "            skip_size += 1\n",
    "\n",
    "    # the result of 64 applications of the knot algorithm is the sparse hash\n",
    "    sparse_hash = hash_list\n",
    "    \n",
    "    # compute the dense hash by XoR-ing each 16 number block of the sparse hash\n",
    "    dense_hash = [0 for i in range(16)]\n",
    "    for i in range(16):\n",
    "        dense_hash[i] = reduce(lambda x,y : x^y, sparse_hash[i*16 : (i+1)*16])\n",
    "        \n",
    "    # extract the hexadecimal values from the dense hash\n",
    "    dense_hash = ''.join(map(lambda x: hex(x)[-2:], dense_hash))\n",
    "    dense_hash = dense_hash.replace('x', '0')\n",
    "    \n",
    "    return dense_hash"
   ]
  },
  {
   "cell_type": "code",
   "execution_count": 62,
   "metadata": {
    "collapsed": false
   },
   "outputs": [],
   "source": [
    "assert('a2582a3a0e66e6e86e3812dcb672a272' == knot_hash(''))\n",
    "assert('33efeb34ea91902bb2f59c9920caa6cd' == knot_hash('AoC 2017'))\n",
    "assert('3efbe78a8d82f29979031a4aa0b16a9d' == knot_hash('1,2,3'))\n",
    "assert('63960835bcdc130f0b66d7ff4f6a5a8e' == knot_hash('1,2,4'))"
   ]
  },
  {
   "cell_type": "code",
   "execution_count": 63,
   "metadata": {
    "collapsed": false
   },
   "outputs": [
    {
     "data": {
      "text/plain": [
       "'44f4befb0f303c0bafd085f97741d51d'"
      ]
     },
     "execution_count": 63,
     "metadata": {},
     "output_type": "execute_result"
    }
   ],
   "source": [
    "knot_hash(input10v2)"
   ]
  },
  {
   "cell_type": "markdown",
   "metadata": {
    "collapsed": true
   },
   "source": [
    "## [Day 11](http://adventofcode.com/2017/day/11): Hex Ed (part 1)\n",
    "\n",
    "Crossing the bridge, you've barely reached the other side of the stream when a program comes up to you, clearly in distress. \"It's my child process,\" she says, \"he's gotten lost in an infinite grid!\"\n",
    "\n",
    "Fortunately for her, you have plenty of experience with infinite grids.\n",
    "\n",
    "Unfortunately for you, it's a hex grid.\n",
    "\n",
    "The hexagons (\"hexes\") in this grid are aligned such that adjacent hexes can be found to the north, northeast, southeast, south, southwest, and northwest:\n",
    "\n",
    "      \\ n  /\n",
    "    nw +--+ ne\n",
    "      /    \\\n",
    "    -+      +-\n",
    "      \\    /\n",
    "    sw +--+ se\n",
    "      / s  \\\n",
    "\n",
    "You have the path the child process took. Starting where he started, you need to determine the fewest number of steps required to reach him. (A \"step\" means to move from the hex you are in to any adjacent hex.)\n",
    "\n",
    "For example:\n",
    "\n",
    "- ne,ne,ne is 3 steps away.\n",
    "- ne,ne,sw,sw is 0 steps away (back where you started).\n",
    "- ne,ne,s,s is 2 steps away (se,se).\n",
    "- se,sw,se,sw,sw is 3 steps away (s,s,sw).\n"
   ]
  },
  {
   "cell_type": "markdown",
   "metadata": {},
   "source": [
    "*warning* I'm pretty sure this is incomplete, and I didn't come up with a good solution. This gives the correct answer for the problem, but I don't trust it *at all* since it's not fully thought through on my part."
   ]
  },
  {
   "cell_type": "code",
   "execution_count": 64,
   "metadata": {
    "collapsed": true
   },
   "outputs": [],
   "source": [
    "f = open('./inputs/input11','r')\n",
    "input11 = f.readline().strip('\\n')\n",
    "f.close()"
   ]
  },
  {
   "cell_type": "code",
   "execution_count": 65,
   "metadata": {
    "collapsed": false
   },
   "outputs": [],
   "source": [
    "import numpy as np\n",
    "\n",
    "def reduce_directions(grid_path_str):\n",
    "    grid_path = grid_path_str.split(',')\n",
    "    \n",
    "    cardinal_dirs = ['n','ne','nw','se','s','sw',]\n",
    "    \n",
    "    # extract all directions from the path\n",
    "    dir_counts = dict()\n",
    "    for d in cardinal_dirs:\n",
    "        dir_counts[d] = grid_path.count(d)\n",
    "\n",
    "    # reduce directions\n",
    "    m = min(dir_counts['ne'], dir_counts['s'])\n",
    "    dir_counts['ne'], dir_counts['s'], dir_counts['se'] = (dir_counts['ne'] - m, dir_counts['s'] - m, \n",
    "                                                           dir_counts['se'] + m)\n",
    "    \n",
    "    m = min(dir_counts['se'], dir_counts['sw'])\n",
    "    dir_counts['se'], dir_counts['sw'], dir_counts['s'] = (dir_counts['se'] - m, dir_counts['sw'] - m, \n",
    "                                                           dir_counts['s'] +m)                                                           \n",
    "\n",
    "    m = min(dir_counts['ne'], dir_counts['nw'])\n",
    "    dir_counts['ne'], dir_counts['nw'], dir_counts['n'] = (dir_counts['ne'] - m, dir_counts['nw'] - m, \n",
    "                                                           dir_counts['n'] +m)\n",
    "\n",
    "    m = min(dir_counts['ne'], dir_counts['sw'])\n",
    "    dir_counts['ne'], dir_counts['sw'] = dir_counts['ne'] - m, dir_counts['sw'] - m\n",
    "\n",
    "    m = min(dir_counts['se'], dir_counts['nw'])\n",
    "    dir_counts['se'], dir_counts['nw'] = dir_counts['se'] - m, dir_counts['nw'] - m\n",
    "        \n",
    "    m = min(dir_counts['n'], dir_counts['s'])\n",
    "    dir_counts['n'], dir_counts['s'] = dir_counts['n'] - m, dir_counts['s'] - m\n",
    "\n",
    "    return dir_counts\n",
    "\n",
    "def count_steps(grid_path_str):\n",
    "    dir_counts = reduce_directions(grid_path_str)\n",
    "    return sum(dir_counts.values())\n",
    "#parse_dir('sw')"
   ]
  },
  {
   "cell_type": "code",
   "execution_count": 66,
   "metadata": {
    "collapsed": false
   },
   "outputs": [],
   "source": [
    "assert(count_steps('ne,ne,ne') == 3)\n",
    "assert(count_steps('ne,ne,sw,sw') == 0)\n",
    "assert(count_steps('ne,ne,s,s') == 2)\n",
    "assert(count_steps('se,sw,se,sw,sw') == 3)\n",
    "assert(count_steps('ne,nw,ne,nw,nw') == 3)"
   ]
  },
  {
   "cell_type": "code",
   "execution_count": 67,
   "metadata": {
    "collapsed": false
   },
   "outputs": [
    {
     "data": {
      "text/plain": [
       "707"
      ]
     },
     "execution_count": 67,
     "metadata": {},
     "output_type": "execute_result"
    }
   ],
   "source": [
    "count_steps(input11)"
   ]
  },
  {
   "cell_type": "markdown",
   "metadata": {},
   "source": [
    "## [Day 11](http://adventofcode.com/2017/day/11): Hex Ed (part 2)\n",
    "\n",
    "How many steps away is the furthest he ever got from his starting position?"
   ]
  },
  {
   "cell_type": "markdown",
   "metadata": {},
   "source": [
    "What follows is a *VERY* bad solution. But it does the job, and I don't want to think about it right now. "
   ]
  },
  {
   "cell_type": "code",
   "execution_count": 68,
   "metadata": {
    "collapsed": false
   },
   "outputs": [],
   "source": [
    "def max_steps_away(grid_path_str):\n",
    "    grid_path = grid_path_str.split(',')\n",
    "    l_path = len(grid_path)\n",
    "    max_steps_away = 0\n",
    "    for l in range(1, l_path):\n",
    "        partial_path = grid_path[0:l]\n",
    "        steps_taken = count_steps(','.join(partial_path))\n",
    "        if steps_taken > max_steps_away:\n",
    "            max_steps_away = steps_taken\n",
    "    return max_steps_away"
   ]
  },
  {
   "cell_type": "code",
   "execution_count": 69,
   "metadata": {
    "collapsed": false
   },
   "outputs": [
    {
     "data": {
      "text/plain": [
       "1490"
      ]
     },
     "execution_count": 69,
     "metadata": {},
     "output_type": "execute_result"
    }
   ],
   "source": [
    "max_steps_away(input11)"
   ]
  },
  {
   "cell_type": "markdown",
   "metadata": {},
   "source": [
    "## [Day 12](http://adventofcode.com/2017/day/12): Digital Plumber \n",
    "\n",
    "### Part 1\n",
    "\n",
    "Walking along the memory banks of the stream, you find a small village that is experiencing a little confusion: some programs can't communicate with each other.\n",
    "\n",
    "Programs in this village communicate using a fixed system of pipes. Messages are passed between programs using these pipes, but most programs aren't connected to each other directly. Instead, programs pass messages between each other until the message reaches the intended recipient.\n",
    "\n",
    "For some reason, though, some of these messages aren't ever reaching their intended recipient, and the programs suspect that some pipes are missing. They would like you to investigate.\n",
    "\n",
    "You walk through the village and record the ID of each program and the IDs with which it can communicate directly (your puzzle input). Each program has one or more programs with which it can communicate, and these pipes are bidirectional; if 8 says it can communicate with 11, then 11 will say it can communicate with 8.\n",
    "\n",
    "You need to figure out how many programs are in the group that contains program ID 0.\n",
    "\n",
    "For example, suppose you go door-to-door like a travelling salesman and record the following list:\n",
    "\n",
    "    0 <-> 2\n",
    "    1 <-> 1\n",
    "    2 <-> 0, 3, 4\n",
    "    3 <-> 2, 4\n",
    "    4 <-> 2, 3, 6\n",
    "    5 <-> 6\n",
    "    6 <-> 4, 5\n",
    "\n",
    "In this example, the following programs are in the group that contains program ID 0:\n",
    "\n",
    "    Program 0 by definition.\n",
    "    Program 2, directly connected to program 0.\n",
    "    Program 3 via program 2.\n",
    "    Program 4 via program 2.\n",
    "    Program 5 via programs 6, then 4, then 2.\n",
    "    Program 6 via programs 4, then 2.\n",
    "\n",
    "Therefore, a total of 6 programs are in this group; all but program 1, which has a pipe that connects it to itself.\n",
    "\n",
    "How many programs are in the group that contains program ID 0?\n",
    "\n",
    "### Part Two \n",
    "\n",
    "There are more programs than just the ones in the group containing program ID 0. The rest of them have no way of reaching that group, and still might have no way of reaching each other.\n",
    "\n",
    "A group is a collection of programs that can all communicate via pipes either directly or indirectly. The programs you identified just a moment ago are all part of the same group. Now, they would like you to determine the total number of groups.\n",
    "\n",
    "In the example above, there were 2 groups: one consisting of programs 0,2,3,4,5,6, and the other consisting solely of program 1.\n",
    "\n",
    "How many groups are there in total?"
   ]
  },
  {
   "cell_type": "code",
   "execution_count": 70,
   "metadata": {
    "collapsed": false
   },
   "outputs": [],
   "source": [
    "f = open('./inputs/input12','r')\n",
    "input12 = list(f)\n",
    "f.close()"
   ]
  },
  {
   "cell_type": "code",
   "execution_count": 71,
   "metadata": {
    "collapsed": false
   },
   "outputs": [],
   "source": [
    "import numpy as np\n",
    "\n",
    "class UnionFindIntArray:\n",
    "    def __init__(self, n_elts):\n",
    "        self.n_elts = n_elts\n",
    "        self.parent = range(n_elts)\n",
    "        self.n_components = n_elts\n",
    "        \n",
    "    def find(self,x):\n",
    "        if x != self.parent[x]:\n",
    "            self.parent[x] = self.find(self.parent[x])\n",
    "        return self.parent[x]\n",
    "    \n",
    "    def union(self, x, y):\n",
    "        root_x = self.find(x)\n",
    "        root_y = self.find(y)\n",
    "        if root_x == root_y:\n",
    "            pass\n",
    "        else:\n",
    "            self.parent[root_x] = root_y\n",
    "            self.n_components -= 1\n",
    "            \n",
    "    def connected(self, x, y):\n",
    "        return self.find(x) == self.find(y)"
   ]
  },
  {
   "cell_type": "code",
   "execution_count": 72,
   "metadata": {
    "collapsed": true
   },
   "outputs": [],
   "source": [
    "class ConnectedPrograms:\n",
    "    def __init__(self, conxn_descr_list):\n",
    "               \n",
    "        # Program id we'll use to connect\n",
    "        conxn_id = map(lambda x: x.strip('\\n').split('<->')[0], \n",
    "                       conxn_descr_list)\n",
    "        conxn_id = map(lambda y: int(y.strip(' ')), conxn_id)\n",
    "        \n",
    "        # Who is each program id connected to ?\n",
    "        conxn_list = map(lambda x: x.strip('\\n').split('<->')[1].split(','), \n",
    "                         conxn_descr_list)\n",
    "        conxn_list = map(lambda x: map(lambda y: int(y.strip(' ')), x), conxn_list)\n",
    "        \n",
    "        # Initialize union find\n",
    "        self.n_elts = len(conxn_id)\n",
    "        self.uf = UnionFindIntArray(self.n_elts)\n",
    "        \n",
    "        # connect them all up\n",
    "        for i in range(self.n_elts):\n",
    "            pgm = conxn_id[i]\n",
    "            pgm_conxns = conxn_list[i]\n",
    "\n",
    "            for connected_to_pgm in pgm_conxns:                \n",
    "                self.uf.union(pgm, connected_to_pgm)                        \n",
    "                \n",
    "    def connected_to(self, x):\n",
    "        is_connected_to_x = np.array(map(lambda y: self.uf.connected(y,x), range(self.n_elts)))\n",
    "        connected_to_x = np.where(is_connected_to_x)[0]\n",
    "        return list(connected_to_x)\n",
    "    \n",
    "    \n",
    "    def n_connected_to(self, x):\n",
    "        is_connected_to_x = self.connected_to(x)\n",
    "        return len(is_connected_to_x)\n",
    "    \n",
    "    def n_components(self):\n",
    "        return self.uf.n_components"
   ]
  },
  {
   "cell_type": "code",
   "execution_count": 73,
   "metadata": {
    "collapsed": false
   },
   "outputs": [],
   "source": [
    "descr = '''0 <-> 2\n",
    "1 <-> 1\n",
    "2 <-> 0, 3, 4\n",
    "3 <-> 2, 4\n",
    "4 <-> 2, 3, 6\n",
    "5 <-> 6\n",
    "6 <-> 4, 5'''\n",
    "\n",
    "# union find structure from description\n",
    "cp = ConnectedPrograms(descr.split('\\n'))\n",
    "assert(cp.n_connected_to(0) == 6)\n",
    "assert(cp.n_components() == 2)"
   ]
  },
  {
   "cell_type": "code",
   "execution_count": 74,
   "metadata": {
    "collapsed": false
   },
   "outputs": [
    {
     "name": "stdout",
     "output_type": "stream",
     "text": [
      "Day 12 part 1: 306\n",
      "Day 12 part 1: 200\n"
     ]
    }
   ],
   "source": [
    "cp = ConnectedPrograms(input12)\n",
    "print 'Day 12 part 1: {}'.format(cp.n_connected_to(0))\n",
    "print 'Day 12 part 1: {}'.format(cp.n_components())\n"
   ]
  },
  {
   "cell_type": "code",
   "execution_count": null,
   "metadata": {
    "collapsed": true
   },
   "outputs": [],
   "source": []
  }
 ],
 "metadata": {
  "anaconda-cloud": {},
  "kernelspec": {
   "display_name": "Python [default]",
   "language": "python",
   "name": "python2"
  },
  "language_info": {
   "codemirror_mode": {
    "name": "ipython",
    "version": 2
   },
   "file_extension": ".py",
   "mimetype": "text/x-python",
   "name": "python",
   "nbconvert_exporter": "python",
   "pygments_lexer": "ipython2",
   "version": "2.7.12"
  }
 },
 "nbformat": 4,
 "nbformat_minor": 1
}
